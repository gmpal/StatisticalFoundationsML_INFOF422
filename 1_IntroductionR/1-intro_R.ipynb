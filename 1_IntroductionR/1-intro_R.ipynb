{
 "cells": [
  {
   "attachments": {},
   "cell_type": "markdown",
   "metadata": {},
   "source": [
    "# INFO-F-422 -  Statistical Foundations of Machine Learning \n",
    "\n",
    "### Gian Marco Paldino - __[gian.marco.paldino@ulb.be](mailto:gian.marco.paldino@ulb.be)__\n",
    "### Cédric Simar - __[cedric.simar@ulb.be](mailto:cedric.simar@ulb.be)__\n",
    "\n",
    "## TP 1 - Introduction to R\n",
    "\n",
    "####  February 2023\n",
    "\n",
    "#### Materials originally developed by *Yann-Aël Le Borgne, Fabrizio Carcillo and Gianluca Bontempi*\n"
   ]
  },
  {
   "cell_type": "markdown",
   "metadata": {
    "collapsed": true
   },
   "source": [
    "## Preliminaries\n",
    "\n",
    "## Course organization - Practical part\n",
    "\n",
    "\n",
    "|    **Date**    |                                            **TP**                                            |             **Format**             |\n",
    "|:----------:|:----------------------------------------------------------------------------------------:|:------------------------------:|\n",
    "| 09/02/2021 |                             TP1 - Introduction to R                             |              Live              |\n",
    "| 09/03/2021 |                               TP2 -Linear models                               |      Publish material TP2      |\n",
    "| 16/03/2021 |                                              -                                            |          Q/A TP2 (1h)         |\n",
    "| 23/03/2021 | TP3 - Classification: Tree-based methods   |      Publish material TP3      |\n",
    "| 30/03/2021 |                      TP4 - Classification: Neural Networks                      | Publish material TP4 + Q/R TP3 |\n",
    "| 06/04/2021 |                                             -                                            |                                |\n",
    "| 13/04/2021 |                                             -                                            |                                |\n",
    "| 20/04/2021 |                          TP5 - Ensembles and feature selection                            | Publish material TP5 + Q/A TP4 |\n",
    "| 27/04/2021 |                         TP6 - Project introduction                         |        Q/A TP5 + Live        |\n",
    "\n",
    "### Non-live sessions\n",
    " 1. We will publish the assignment for the corresponding practical on Tuesday of the given week, as well as a video containing the theoretical reminders for the corresponding practical\n",
    " 2. During the week, we will publish videos containing the detailed solutions for the exercises of the practical\n",
    " 3. If required, the following Tuesday we will organize a live Q/A session to clarify some points.\n",
    " \n",
    " **N.B** For practical reasons, we will be collecting all the questions during the week and answering them **at once** the following week.\n",
    " \n",
    "### Project \n",
    "To be developed in R, using Jupyter Notebooks, in groups of maximum 3 people.\n",
    "More information will follow.\n",
    "\n",
    "### How to install\n",
    "\n",
    "1. **R** -  See https://cran.r-project.org for installation instructions in your OS\n",
    "2. **RStudio** - A user-friendly IDE for R, which can be downloaded for free at https://www.rstudio.com/products/rstudio/#Desktop\n",
    "3. **Python 3.7** - https://www.python.org/downloads/ - A programming language required to install and run Jupyter Notebook. **N.B.** - Check the box asking for adding Python to PATH in the installer (if required). \n",
    "4. **Jupyter Notebook** - https://jupyter.org/install - A web environment allowing to merge code, plots and Markdown in a single document\n",
    "5. **IRkernel** - https://irkernel.github.io/installation/ - A R package required to connect R with Jupyter\n",
    "\n",
    "\n",
    "## Basics\n",
    "\n",
    "### How to start and end - R\n",
    "\n",
    "*  Start R: type `R`in a terminal (CMD/PowerShell on Windows).\n",
    "*  Type `q()` for ending your session.\n",
    "\n",
    "### How to start and end - Jupyter Notebook\n",
    "\n",
    "*  Start Jupyter Notebook: type `jupyter notebook` in a terminal (CMD/PowerShell on Windows).\n",
    "*  Press `CTRL+C` twice in the terminal for shutting down the server\n",
    "\n",
    "\n",
    "### Use R as calculator\n"
   ]
  },
  {
   "cell_type": "code",
   "execution_count": null,
   "metadata": {
    "vscode": {
     "languageId": "r"
    }
   },
   "outputs": [],
   "source": [
    "2+2"
   ]
  },
  {
   "cell_type": "code",
   "execution_count": null,
   "metadata": {
    "vscode": {
     "languageId": "r"
    }
   },
   "outputs": [],
   "source": [
    "exp(-2)"
   ]
  },
  {
   "cell_type": "code",
   "execution_count": null,
   "metadata": {
    "vscode": {
     "languageId": "r"
    }
   },
   "outputs": [],
   "source": [
    "rnorm(15)  # to generate random numbers"
   ]
  },
  {
   "cell_type": "markdown",
   "metadata": {},
   "source": [
    "### Assign values to variables"
   ]
  },
  {
   "cell_type": "code",
   "execution_count": null,
   "metadata": {
    "vscode": {
     "languageId": "r"
    }
   },
   "outputs": [],
   "source": [
    "x<-2\n",
    "x"
   ]
  },
  {
   "cell_type": "code",
   "execution_count": null,
   "metadata": {
    "vscode": {
     "languageId": "r"
    }
   },
   "outputs": [],
   "source": [
    "y<-x+x\n",
    "y"
   ]
  },
  {
   "cell_type": "markdown",
   "metadata": {},
   "source": [
    "### Installing and loading libraries"
   ]
  },
  {
   "cell_type": "code",
   "execution_count": null,
   "metadata": {
    "vscode": {
     "languageId": "r"
    }
   },
   "outputs": [],
   "source": [
    "# install.packages(\"ISwR\")\n",
    "# uncomment previous line to install package\n",
    "library(ISwR)"
   ]
  },
  {
   "cell_type": "markdown",
   "metadata": {},
   "source": [
    "### Naming conventions\n",
    "\n",
    "*  The variables are case-sensitive, can contain a dot (.) and numbers (but cannot start with a number or with a dot followed by a number).\n",
    "*  The names `c,q,t,C,D,F,I,T,diff,df,pt` in particular, are already used by the system and should therefore be avoided.\n",
    "\n",
    "## Vectors and matrices\n",
    "\n",
    "### Defining a vector\n",
    "\n",
    "Vectors can be of any type: integer, double, character, logical, resulting from relational expressions:"
   ]
  },
  {
   "cell_type": "code",
   "execution_count": null,
   "metadata": {
    "vscode": {
     "languageId": "r"
    }
   },
   "outputs": [],
   "source": [
    "w<-c(1,2,3,4)\n",
    "x<-c(1.5,2.5,3.5,3.5)\n",
    "y<-c(\"Huey\",\"Dewey\",\"Loui\")\n",
    "z<-c(T,F,F,T)\n",
    "wx<- w>x\n",
    "wx"
   ]
  },
  {
   "cell_type": "markdown",
   "metadata": {},
   "source": [
    "There exists different functions to define a vector: element wise `c(val_1,...,val_n)`, as a sequence between two values `seq(val_1,val_2)` and as $n$ repetitions of the same element `rep(val,n)`."
   ]
  },
  {
   "cell_type": "code",
   "execution_count": null,
   "metadata": {
    "vscode": {
     "languageId": "r"
    }
   },
   "outputs": [],
   "source": [
    "w<-c(1,2,3,4)\n",
    "w"
   ]
  },
  {
   "cell_type": "code",
   "execution_count": null,
   "metadata": {
    "vscode": {
     "languageId": "r"
    }
   },
   "outputs": [],
   "source": [
    "x<-seq(1,4)\n",
    "x"
   ]
  },
  {
   "cell_type": "code",
   "execution_count": null,
   "metadata": {
    "vscode": {
     "languageId": "r"
    }
   },
   "outputs": [],
   "source": [
    "y<-rep(1,4)\n",
    "y"
   ]
  },
  {
   "cell_type": "markdown",
   "metadata": {},
   "source": [
    "### Exercises\n",
    "\n",
    "Generate the following vectors \n",
    "\n",
    "* 1 3 5\n",
    "* 1 2 2 2 3 3 3 3 3\n",
    "\n",
    "using only the functions `rep` and `seq` (no  `c(..)`), check the help by typing `?rep` and `?seq` for all parameter options.\n",
    "\n"
   ]
  },
  {
   "cell_type": "markdown",
   "metadata": {},
   "source": [
    "### Vector arithmetics"
   ]
  },
  {
   "cell_type": "code",
   "execution_count": null,
   "metadata": {
    "vscode": {
     "languageId": "r"
    }
   },
   "outputs": [],
   "source": [
    "weight <- c(60, 72, 57, 90, 95, 72,60)\n",
    "height <- c(1.75, 1.80, 1.65, 1.90, 1.74, 1.91,1.69)\n",
    "bmi <- weight/height^2\n",
    "bmi"
   ]
  },
  {
   "cell_type": "markdown",
   "metadata": {},
   "source": [
    "### Exercises\n",
    "\n",
    "*  Compute the adjusted BMI using the formula $\\frac{weight}{height^{2.5}/1.3}$ and store it in a variable  `bmi2` \n",
    "\n",
    "\n"
   ]
  },
  {
   "cell_type": "markdown",
   "metadata": {},
   "source": [
    "### Functions for vectors\n",
    "\n",
    "There exists a lot of predefined functions for a vector `v`, these include the following"
   ]
  },
  {
   "cell_type": "code",
   "execution_count": null,
   "metadata": {
    "vscode": {
     "languageId": "r"
    }
   },
   "outputs": [],
   "source": [
    "v<-seq(5,1)\n",
    "sum(v)"
   ]
  },
  {
   "cell_type": "code",
   "execution_count": null,
   "metadata": {
    "vscode": {
     "languageId": "r"
    }
   },
   "outputs": [],
   "source": [
    "length(v)"
   ]
  },
  {
   "cell_type": "code",
   "execution_count": null,
   "metadata": {
    "vscode": {
     "languageId": "r"
    }
   },
   "outputs": [],
   "source": [
    "sort(v)"
   ]
  },
  {
   "cell_type": "code",
   "execution_count": null,
   "metadata": {
    "vscode": {
     "languageId": "r"
    }
   },
   "outputs": [],
   "source": [
    "order(v)"
   ]
  },
  {
   "cell_type": "code",
   "execution_count": null,
   "metadata": {
    "vscode": {
     "languageId": "r"
    }
   },
   "outputs": [],
   "source": [
    "prod(v)"
   ]
  },
  {
   "cell_type": "code",
   "execution_count": null,
   "metadata": {
    "vscode": {
     "languageId": "r"
    }
   },
   "outputs": [],
   "source": [
    "mean(v)"
   ]
  },
  {
   "cell_type": "code",
   "execution_count": null,
   "metadata": {
    "vscode": {
     "languageId": "r"
    }
   },
   "outputs": [],
   "source": [
    "sd(v) "
   ]
  },
  {
   "cell_type": "markdown",
   "metadata": {},
   "source": [
    "###  Defining matrices\n",
    "\n",
    "*  In R, matrices (2 dimensions) and arrays (more than 2 dimensions) can contain elements of any type (characters, etc.)\n",
    "*  The `dim` assignment function sets or changes the *dimension attribute* of a vector `x`, causing R to treat the vector as a matrix.\n"
   ]
  },
  {
   "cell_type": "code",
   "execution_count": null,
   "metadata": {
    "vscode": {
     "languageId": "r"
    }
   },
   "outputs": [],
   "source": [
    "x <- 1:12\n",
    "dim(x) <- c(3,4)\n",
    "x"
   ]
  },
  {
   "cell_type": "markdown",
   "metadata": {},
   "source": [
    "*  Other possibilities to create matrices using the `matrix(...)` command:"
   ]
  },
  {
   "cell_type": "code",
   "execution_count": null,
   "metadata": {
    "vscode": {
     "languageId": "r"
    }
   },
   "outputs": [],
   "source": [
    "matrix(1:12, nr=3, byrow=T)"
   ]
  },
  {
   "cell_type": "code",
   "execution_count": null,
   "metadata": {
    "vscode": {
     "languageId": "r"
    }
   },
   "outputs": [],
   "source": [
    "matrix(1,6,7)"
   ]
  },
  {
   "cell_type": "markdown",
   "metadata": {},
   "source": [
    "*  Using the `array` command:"
   ]
  },
  {
   "cell_type": "code",
   "execution_count": null,
   "metadata": {
    "vscode": {
     "languageId": "r"
    }
   },
   "outputs": [],
   "source": [
    "array(1:12,dim=c(3,4),dimnames=list(c(\"a\",\"b\",\"c\"),seq(1,4)))"
   ]
  },
  {
   "cell_type": "markdown",
   "metadata": {},
   "source": [
    "*  Renaming of rows and transpose of a matrix"
   ]
  },
  {
   "cell_type": "code",
   "execution_count": null,
   "metadata": {
    "vscode": {
     "languageId": "r"
    }
   },
   "outputs": [],
   "source": [
    "x <- matrix(1:12, nr=3, byrow=T)\n",
    "rownames(x) <- LETTERS[1:3]\n",
    "x"
   ]
  },
  {
   "cell_type": "markdown",
   "metadata": {},
   "source": [
    "*  \"Glueing\" vectors together: functions `rbind()` and `cbind()` (row- and columnwise respectively)\n"
   ]
  },
  {
   "cell_type": "code",
   "execution_count": null,
   "metadata": {
    "vscode": {
     "languageId": "r"
    }
   },
   "outputs": [],
   "source": [
    "cbind(A=1:4, B=5:8, C=9:12)"
   ]
  },
  {
   "cell_type": "code",
   "execution_count": null,
   "metadata": {
    "vscode": {
     "languageId": "r"
    }
   },
   "outputs": [],
   "source": [
    "rbind(A=1:4, B=5:8, C=9:12)"
   ]
  },
  {
   "cell_type": "markdown",
   "metadata": {},
   "source": [
    "### Matrix functions\n",
    "\n",
    "*  matrix product, inversion and transpose"
   ]
  },
  {
   "cell_type": "code",
   "execution_count": null,
   "metadata": {
    "vscode": {
     "languageId": "r"
    }
   },
   "outputs": [],
   "source": [
    "a <- matrix(1:4, 2, 2, byrow = T)\n",
    "a"
   ]
  },
  {
   "cell_type": "code",
   "execution_count": null,
   "metadata": {
    "vscode": {
     "languageId": "r"
    }
   },
   "outputs": [],
   "source": [
    "## matrix product\n",
    "a%*%a"
   ]
  },
  {
   "cell_type": "code",
   "execution_count": null,
   "metadata": {
    "vscode": {
     "languageId": "r"
    }
   },
   "outputs": [],
   "source": [
    "## inverse matrix\n",
    "solve(a)"
   ]
  },
  {
   "cell_type": "code",
   "execution_count": null,
   "metadata": {
    "vscode": {
     "languageId": "r"
    }
   },
   "outputs": [],
   "source": [
    "## transpose of a matrix\n",
    "t(a)"
   ]
  },
  {
   "cell_type": "markdown",
   "metadata": {},
   "source": [
    "### Indexing\n",
    "\n",
    "*  Allows to select a particular element in a vector, take as example `height`."
   ]
  },
  {
   "cell_type": "code",
   "execution_count": null,
   "metadata": {
    "vscode": {
     "languageId": "r"
    }
   },
   "outputs": [],
   "source": [
    "height"
   ]
  },
  {
   "cell_type": "markdown",
   "metadata": {},
   "source": [
    "*  To access the fifth element"
   ]
  },
  {
   "cell_type": "code",
   "execution_count": null,
   "metadata": {
    "vscode": {
     "languageId": "r"
    }
   },
   "outputs": [],
   "source": [
    "height[5]"
   ]
  },
  {
   "cell_type": "markdown",
   "metadata": {},
   "source": [
    "*  To access several elements in one step"
   ]
  },
  {
   "cell_type": "code",
   "execution_count": null,
   "metadata": {
    "vscode": {
     "languageId": "r"
    }
   },
   "outputs": [],
   "source": [
    "height[c(3,5,7)]"
   ]
  },
  {
   "cell_type": "code",
   "execution_count": null,
   "metadata": {
    "vscode": {
     "languageId": "r"
    }
   },
   "outputs": [],
   "source": [
    "v<-c(3,5,7)\n",
    "height[v]\n"
   ]
  },
  {
   "cell_type": "markdown",
   "metadata": {},
   "source": [
    "*  Remove elements from a vector"
   ]
  },
  {
   "cell_type": "code",
   "execution_count": null,
   "metadata": {
    "vscode": {
     "languageId": "r"
    }
   },
   "outputs": [],
   "source": [
    "height[-c(3,5,7)]"
   ]
  },
  {
   "cell_type": "markdown",
   "metadata": {},
   "source": [
    "*  Conditional selection"
   ]
  },
  {
   "cell_type": "code",
   "execution_count": null,
   "metadata": {
    "vscode": {
     "languageId": "r"
    }
   },
   "outputs": [],
   "source": [
    "height[height>1.70]"
   ]
  },
  {
   "cell_type": "code",
   "execution_count": null,
   "metadata": {
    "vscode": {
     "languageId": "r"
    }
   },
   "outputs": [],
   "source": [
    "height[height>1.70 & height <1.90]"
   ]
  },
  {
   "cell_type": "markdown",
   "metadata": {},
   "source": [
    "### Exercises\n",
    "\n",
    "Use the `sort` function to sort the vector `height` by decreasing order of weight\n",
    "\n"
   ]
  },
  {
   "cell_type": "markdown",
   "metadata": {},
   "source": [
    "## Factors, lists & data frames\n",
    "\n",
    "### Factors\n",
    "\n",
    "*  *Factors* are the categorial variables (see `enum` in C++). They make it possible to assign meaningful names to the categories.\n",
    "*  A factor is said to have a set of *levels*.\n",
    "*  Ex: a factor has four levels. It consists of two items: a vector of integers between 1 and 4 and a character vector of length 4 containing strings describing what the four levels are.\n"
   ]
  },
  {
   "cell_type": "code",
   "execution_count": null,
   "metadata": {
    "vscode": {
     "languageId": "r"
    }
   },
   "outputs": [],
   "source": [
    "pain <- c(0,3,2,2,1)\n",
    "fpain <- factor(pain, levels=0:3)\n",
    "levels(fpain) <- c(\"non\", \"mild\", \"medium\", \"severe\")"
   ]
  },
  {
   "cell_type": "markdown",
   "metadata": {},
   "source": [
    "*    `fpain` is a categorial variable."
   ]
  },
  {
   "cell_type": "code",
   "execution_count": null,
   "metadata": {
    "vscode": {
     "languageId": "r"
    }
   },
   "outputs": [],
   "source": [
    "fpain"
   ]
  },
  {
   "cell_type": "code",
   "execution_count": null,
   "metadata": {
    "vscode": {
     "languageId": "r"
    }
   },
   "outputs": [],
   "source": [
    "as.numeric(fpain)\n"
   ]
  },
  {
   "cell_type": "code",
   "execution_count": null,
   "metadata": {
    "vscode": {
     "languageId": "r"
    }
   },
   "outputs": [],
   "source": [
    "levels(fpain)\n"
   ]
  },
  {
   "cell_type": "markdown",
   "metadata": {},
   "source": [
    "### Lists\n",
    "\n",
    "*  Useful to combine a collection of objects into a larger composite object.\n",
    "*  The following data concern pre- and postmenstrual energy intake in a group of women.\n"
   ]
  },
  {
   "cell_type": "code",
   "execution_count": null,
   "metadata": {
    "vscode": {
     "languageId": "r"
    }
   },
   "outputs": [],
   "source": [
    "intake.pre <- c(5260, 5470, 5640, 6180, 6390,6515, 6805, 7515, 7515, 8230, 8770)\n",
    "intake.post <- c(3910, 4220, 3885, 5160, 5645,4680, 5265, 5975, 6790, 6900, 7335)"
   ]
  },
  {
   "cell_type": "markdown",
   "metadata": {},
   "source": [
    "*  Combine the vectors into a list\n"
   ]
  },
  {
   "cell_type": "code",
   "execution_count": null,
   "metadata": {
    "vscode": {
     "languageId": "r"
    }
   },
   "outputs": [],
   "source": [
    "mylist <- list(\"before\"=intake.pre, \"after\"=intake.post)\n",
    "mylist"
   ]
  },
  {
   "cell_type": "markdown",
   "metadata": {},
   "source": [
    "*  The components of the list are named according to the arguments' names used in *list*  (in the example `before` and `after`). Named components may be extracted as follows \n"
   ]
  },
  {
   "cell_type": "code",
   "execution_count": null,
   "metadata": {
    "vscode": {
     "languageId": "r"
    }
   },
   "outputs": [],
   "source": [
    "mylist$before"
   ]
  },
  {
   "cell_type": "markdown",
   "metadata": {},
   "source": [
    "*  or alternatively by using the component's index\n"
   ]
  },
  {
   "cell_type": "code",
   "execution_count": null,
   "metadata": {
    "vscode": {
     "languageId": "r"
    }
   },
   "outputs": [],
   "source": [
    "mylist[[1]]"
   ]
  },
  {
   "cell_type": "markdown",
   "metadata": {},
   "source": [
    "### Data frames\n",
    "\n",
    "*  A data frame corresponds to a \"data set\" in other statistical packages. It is a list of vectors and/or factors of the same length. Data in the same position come from the same experimental unit. \n",
    "*  Creation of a data frame:"
   ]
  },
  {
   "cell_type": "code",
   "execution_count": null,
   "metadata": {
    "vscode": {
     "languageId": "r"
    }
   },
   "outputs": [],
   "source": [
    "d <- data.frame(intake.pre, intake.post)\n",
    "d"
   ]
  },
  {
   "cell_type": "markdown",
   "metadata": {},
   "source": [
    "*  Elements in one row correspond to the same woman\n",
    "*  As with lists, variables are accessible using the ''\\$'' notation\n"
   ]
  },
  {
   "cell_type": "code",
   "execution_count": null,
   "metadata": {
    "vscode": {
     "languageId": "r"
    }
   },
   "outputs": [],
   "source": [
    "d$intake.pre"
   ]
  },
  {
   "cell_type": "markdown",
   "metadata": {},
   "source": [
    "## Loops & conditions\n",
    "\n",
    "### Loop types\n",
    "\n",
    "*   `for(name in expr1) instructions` where  `expr1` is a vector expression\n",
    "      (ex: `1:20`)\n",
    "*   `while(condition) instructions`\n",
    "*  `repeat instructions`\n",
    "\n",
    "### Implicit loops\n",
    "\n",
    "*  Apply a function to each element of  a set of values or vectors and collect the results in a single structure.\n",
    "*  In R this can be done by using one of the two functions `lapply` and   `sapply`. The former always returns a list whereas the latter tries to simplify the result into a vector or matrix if possible.\n",
    "*  The function `apply` allows to apply a function to the rows or columns of a matrix.\n",
    "*  The function  `tapply` allows to create tables of the function's value on subgroups defined by its second argument, which can be a factor or a list of factors. (The grouping can also be defined by ordinary vectors. They will be converted to factors internally.)\n"
   ]
  },
  {
   "cell_type": "markdown",
   "metadata": {},
   "source": [
    "### Exercises\n",
    "\n",
    "*  Load the \"thuesen\" data"
   ]
  },
  {
   "cell_type": "code",
   "execution_count": null,
   "metadata": {
    "vscode": {
     "languageId": "r"
    }
   },
   "outputs": [],
   "source": [
    "data(thuesen)"
   ]
  },
  {
   "cell_type": "markdown",
   "metadata": {},
   "source": [
    "*  Compute the mean of the data frame `thuesen` to get the result as a list, and as a vector.\n",
    "\n"
   ]
  },
  {
   "cell_type": "markdown",
   "metadata": {},
   "source": [
    "*  Initialize a matrix, in order to get the same results as in this tutorial, use the same random seed\n"
   ]
  },
  {
   "cell_type": "code",
   "execution_count": null,
   "metadata": {
    "vscode": {
     "languageId": "r"
    }
   },
   "outputs": [],
   "source": [
    "set.seed(12345)\n",
    "m <- matrix(rnorm(12),4)\n",
    "m"
   ]
  },
  {
   "cell_type": "markdown",
   "metadata": {},
   "source": [
    "and compute the mean of each row and of each column using `apply`, check the help for details `?apply`. How do you compute the mean of the entire matrix?\n"
   ]
  },
  {
   "cell_type": "markdown",
   "metadata": {},
   "source": [
    "### Conditions\n",
    "\n",
    "*  `if(condition) instructions else if(condition2) instructions2 else instructions3`\n",
    "*  Variants: see documentation.\n"
   ]
  },
  {
   "cell_type": "code",
   "execution_count": null,
   "metadata": {
    "vscode": {
     "languageId": "r"
    }
   },
   "outputs": [],
   "source": [
    "if (m[1,1]>0)\n",
    "{\n",
    "    print(m[1,])\n",
    "} else {\n",
    "    if(m[1,1]<0)\n",
    "    { \n",
    "        print(m[,1])\n",
    "    }\n",
    "    else \n",
    "    {\n",
    "        print(\"element is zero\")\n",
    "    }\n",
    "   } \n"
   ]
  },
  {
   "cell_type": "markdown",
   "metadata": {},
   "source": [
    "## Functions\n",
    "\n",
    "### How to write a basic function"
   ]
  },
  {
   "cell_type": "markdown",
   "metadata": {},
   "source": [
    "*  `name <- function(arg1, arg2, ...)` expression\n",
    "*  Use  `return(variable)` to return one variable, multiple variables can be returned as a list.\n"
   ]
  },
  {
   "cell_type": "code",
   "execution_count": null,
   "metadata": {
    "vscode": {
     "languageId": "r"
    }
   },
   "outputs": [],
   "source": [
    "## compute sum of a vector using a for loop\n",
    "computeSum<-function(x){\n",
    "sum<-0\n",
    "n<-0\n",
    "for(i in 1:length(x)){\n",
    "if(!is.na(x[i])){ ## The function is.na is used to determine\n",
    "## whether an element is missing (==NA)\n",
    "sum<-sum+x[i]\n",
    "n<-n+1\n",
    "}}\n",
    "# return(sum) will return the sum of the vector\n",
    "return(list(\"sum\"=sum,\"mean\"=sum/n))\n",
    "}\n",
    "computeSum(c(1,2,-4,NA,6))\n"
   ]
  },
  {
   "cell_type": "markdown",
   "metadata": {},
   "source": [
    "### Compile functions\n",
    "\n",
    "*  A set of functions can be saved in a *.R file\n",
    "*  These functions can be loaded by using the  `source(filename)` command\n"
   ]
  },
  {
   "cell_type": "markdown",
   "metadata": {
    "collapsed": true
   },
   "source": [
    "## Plotting\n",
    "\n",
    "A basic two dimensional plot from using the vectors  `height` and `weight` can be generated using the `plot` command.\n"
   ]
  },
  {
   "cell_type": "code",
   "execution_count": null,
   "metadata": {
    "vscode": {
     "languageId": "r"
    }
   },
   "outputs": [],
   "source": [
    "plot(height, weight, main=\"height vs weight\", xlab=\"weight\",ylab=\"height\")"
   ]
  },
  {
   "cell_type": "markdown",
   "metadata": {},
   "source": [
    "Adding pieces to the plot "
   ]
  },
  {
   "cell_type": "code",
   "execution_count": null,
   "metadata": {
    "vscode": {
     "languageId": "r"
    }
   },
   "outputs": [],
   "source": [
    "plot(height, weight, main=\"height vs weight\", xlab=\"weight\",ylab=\"height\")\n",
    "hh <- c(1.65, 1.70, 1.75, 1.80, 1.85, 1.90)\n",
    "lines(hh, 22.5 * hh^2,col=\"red\")"
   ]
  },
  {
   "cell_type": "markdown",
   "metadata": {},
   "source": [
    "To save a plot to a *.pdf file use the `pdf(...)` command; the following will save the file `myplot.pdf` in your working directory.\n"
   ]
  },
  {
   "cell_type": "code",
   "execution_count": null,
   "metadata": {
    "vscode": {
     "languageId": "r"
    }
   },
   "outputs": [],
   "source": [
    "pdf(file=\"myplot.pdf\",width=5,height=4)\n",
    "plot(height, weight, main=\"height vs weight\", xlab=\"weight\",ylab=\"height\")\n",
    "hh <- c(1.65, 1.70, 1.75, 1.80, 1.85, 1.90)\n",
    "lines(hh, 22.5 * hh^2,col=\"red\")\n",
    "dev.off()"
   ]
  },
  {
   "cell_type": "markdown",
   "metadata": {},
   "source": [
    "## Probabilities and distributions\n",
    "\n",
    "### Sampling\n",
    "\n",
    "The function `sample` allows to draw random variables uniformly (parameter `prob` to make it non-uniformly) from a vector with or without replacement.\n",
    "\n",
    "### Exercises\n",
    "\n",
    "* Re-initialize random seed\n"
   ]
  },
  {
   "cell_type": "code",
   "execution_count": null,
   "metadata": {
    "vscode": {
     "languageId": "r"
    }
   },
   "outputs": [],
   "source": [
    "set.seed(123456)"
   ]
  },
  {
   "cell_type": "markdown",
   "metadata": {},
   "source": [
    "* Draw five random variables, uniformly distributed between 1 and 40"
   ]
  },
  {
   "cell_type": "markdown",
   "metadata": {},
   "source": [
    "* Simulate 10 coin tosses\n"
   ]
  },
  {
   "cell_type": "markdown",
   "metadata": {},
   "source": [
    "* Sample 10 coin tosses with for a coin in which heads appears with a probability of $0.8$\n"
   ]
  },
  {
   "cell_type": "markdown",
   "metadata": {},
   "source": [
    "### Distributions in R\n",
    "\n"
   ]
  },
  {
   "cell_type": "markdown",
   "metadata": {},
   "source": [
    "* For a probability distribution, four fundamental values can be computed: the density, the distribution function, the quantiles and the pseudo-random numbers. Using R, each of these can be computed for the included distributions. \n",
    "* For example for a normal distribution (respectively): `dnorm, pnorm, qnorm`\n",
    "et `rnorm`. The same nomenclature is used for all distributions: the density (or the discrete probability) starts with a \"d\", the distribution function with \"p\", the quantile with \"q\" and the random number generating function with \"r\".\n",
    "* Plot normal density\n"
   ]
  },
  {
   "cell_type": "code",
   "execution_count": null,
   "metadata": {
    "vscode": {
     "languageId": "r"
    }
   },
   "outputs": [],
   "source": [
    "x <- seq(-4,4,0.1)\n",
    "# alternatively curve(dnorm(x), from=-4, to=4)\n",
    "plot(x,dnorm(x), type=\"l\") "
   ]
  },
  {
   "cell_type": "markdown",
   "metadata": {},
   "source": [
    "### Exercises\n",
    "\n",
    "* Plot the density for a binomial random variable $B(50, 0.33)$ (use the parameter `type=\"h\"` for the plot function to generate a pin diagram)\n"
   ]
  },
  {
   "cell_type": "markdown",
   "metadata": {},
   "source": [
    "* Compute the probability of a normally distributed variable with mean 132 and standard deviation 13 being smaller than 160\n"
   ]
  },
  {
   "cell_type": "markdown",
   "metadata": {
    "collapsed": true
   },
   "source": [
    "### Quantiles\n",
    "\n",
    "* Definition: the quantile is the inverse of the distribution function. The p-quantile is by definition that value having the property that there is a probability $p$ to obtain a value lower or equal to it. For example, the median is the 50% quantile.\n",
    "* In order to compute the quantiles of an empirical distribution for which samples are given in a vector, we use the function `quantile` which takes as argument this vector and the probability for which the quantile is needed.\n",
    "* The quantiles are used for computing the confidence intervals. Let $n$ observations be drawn from a normal distribution with the same mean $\\mu$ and the same standard-deviation $\\sigma$. It is well known that the observed mean $\\overline{x}$ follows a normal distribution with mean $\\mu$ and standard deviation $\\sigma/\\sqrt{n}$. A confidance interval of 95% for $\\mu$ can be obtained by\n",
    "\n",
    "\\begin{equation}\n",
    "\\overline{x} + \\sigma/\\sqrt{n} \\times N_{0.025} \\leq \\mu \\leq  \\overline{x} + \\sigma/\\sqrt{n} \\times N_{0.975}\n",
    "\\end{equation}\n",
    "     \n",
    "where $N_{0.025}$ is the 2.5% quantile of the normal distribution.\n",
    "\n",
    "### Exercises\n",
    "\n",
    "Let $\\sigma=12$ and $n=5$ with a mean of $\\overline{x}=83$, compute the confidence interval using the normal distribution\n"
   ]
  },
  {
   "cell_type": "markdown",
   "metadata": {},
   "source": [
    "### Generation of pseudo-random numbers\n",
    "\n",
    "* The first argument of a function generating random numbers is always the number of samples that should be generated. The next arguments specify the parameters fo the chosen distribution (mean, etc.) Some examples are provided to present \"typical\" choices of these parameters.\n"
   ]
  },
  {
   "cell_type": "code",
   "execution_count": null,
   "metadata": {
    "vscode": {
     "languageId": "r"
    }
   },
   "outputs": [],
   "source": [
    "rnorm(10)"
   ]
  },
  {
   "cell_type": "code",
   "execution_count": null,
   "metadata": {
    "vscode": {
     "languageId": "r"
    }
   },
   "outputs": [],
   "source": [
    "rnorm(10, mean=7, sd=5)"
   ]
  },
  {
   "cell_type": "code",
   "execution_count": null,
   "metadata": {
    "vscode": {
     "languageId": "r"
    }
   },
   "outputs": [],
   "source": [
    "rbinom(10, size=20, prob=.5)"
   ]
  },
  {
   "cell_type": "markdown",
   "metadata": {},
   "source": [
    "* The algorithms for generating pseudo-random numbers are initialised by a seed which we can define in R using the function `set.seed(init.value)`, where `init.value` is an integer. This allows the user to reproduce computations with the same pseudo-random numbers."
   ]
  },
  {
   "cell_type": "markdown",
   "metadata": {},
   "source": [
    "### Table of distributions in R\n",
    "\n",
    "* The following table provides an overview over the included distributions and their parameters.\n",
    "\n",
    "| Distribution | R name | additional arguments |\n",
    "| ------------- | ------------- | ------------- |\n",
    "|beta               | `beta`     |  `shape1, shape2, ncp`  |\n",
    "|binomial           | `binom`    |  `size, prob`  |\n",
    "|Cauchy             | `cauchy`   |  `location, scale`  |\n",
    "|chi-squared        | `chisq`    |  `df, ncp`  |\n",
    "|exponential        | `exp`      |  `rate`  |\n",
    "|F                  | `f`        |  `df1, df2, ncp`  |\n",
    "|gamma              | `gamma`    |  `shape, scale`  |\n",
    "|geometric          | `geom`     |  `prob`  |\n",
    "|hypergeometric     | `hyper`    |  `m, n, k`  |\n",
    "|log-normal         | `lnorm`    |  `meanlog, sdlog`  |\n",
    "|logistic           | `logis`    |  `location, scale`  |\n",
    "|negative binomial  | `nbinom`   |  `size, prob`  |\n",
    "|normal             | `norm`     |  `mean, sd`  |\n",
    "|Poisson            | `pois`     |  `lambda`  |\n",
    "|Student's t        | `t`        |  `df, ncp`  |\n",
    "|uniform            | `unif`     |  `min, max`  |\n",
    "|Weibull            | `weibull`  |  `shape, scale`  |\n",
    "|Wilcoxon           | `wilcox`   |  `m, n`  |\n"
   ]
  },
  {
   "cell_type": "markdown",
   "metadata": {},
   "source": [
    "### Descriptive statistics\n",
    "\n",
    "* Computation of the mean, the variance, the standard deviation and the median:\n"
   ]
  },
  {
   "cell_type": "code",
   "execution_count": null,
   "metadata": {
    "vscode": {
     "languageId": "r"
    }
   },
   "outputs": [],
   "source": [
    "x <- rnorm(50)\n",
    "mean(x)"
   ]
  },
  {
   "cell_type": "code",
   "execution_count": null,
   "metadata": {
    "vscode": {
     "languageId": "r"
    }
   },
   "outputs": [],
   "source": [
    "var(x)  ## variance"
   ]
  },
  {
   "cell_type": "code",
   "execution_count": null,
   "metadata": {
    "vscode": {
     "languageId": "r"
    }
   },
   "outputs": [],
   "source": [
    "sd(x)  ## standard deviation"
   ]
  },
  {
   "cell_type": "code",
   "execution_count": null,
   "metadata": {
    "vscode": {
     "languageId": "r"
    }
   },
   "outputs": [],
   "source": [
    "median(x)"
   ]
  },
  {
   "cell_type": "markdown",
   "metadata": {},
   "source": [
    "### Exercises\n",
    "\n",
    "* Generate the following quantiles using `x` and the `quantile()` function\n",
    "\n",
    "```\n",
    "0%\n",
    "-1.95123976505496\n",
    "10%\n",
    "-1.13271529630449\n",
    "20%\n",
    "-0.703902433256463\n",
    "30%\n",
    "-0.534080669182789\n",
    "40%\n",
    "-0.194535187638909\n",
    "50%\n",
    "0.010815116849316\n",
    "60%\n",
    "0.271635194601255\n",
    "70%\n",
    "0.428684091938317\n",
    "80%\n",
    "0.707262231615462\n",
    "90%\n",
    "1.22780901706794\n",
    "100%\n",
    "1.80424544809948\n",
    "```\n"
   ]
  },
  {
   "cell_type": "markdown",
   "metadata": {},
   "source": [
    "### Plots of distributions\n",
    "\n",
    "* Histogram and empirical cumulative distribution (the empirical distribution function is defined as the number of data points smaller or equal to $x$ devided by the total number of points)\n"
   ]
  },
  {
   "cell_type": "code",
   "execution_count": null,
   "metadata": {
    "vscode": {
     "languageId": "r"
    }
   },
   "outputs": [],
   "source": [
    "par(mfrow=c(1,2))\n",
    "hist(x)\n",
    "n<-length(x)\n",
    "plot(sort(x), (1:n)/n, type=\"s\", ylim=c(0,1))"
   ]
  },
  {
   "cell_type": "markdown",
   "metadata": {},
   "source": [
    "* In a boxplot, the box in the middle of the graph indicates the quartiles and the median.The two horizontal lines represent the largest (or the smallest) observation which falls within a distance of 1.5 times the size of the box. The observations outside this box are considered as \"extremes\" and are noted by points.\n"
   ]
  },
  {
   "cell_type": "code",
   "execution_count": null,
   "metadata": {
    "vscode": {
     "languageId": "r"
    }
   },
   "outputs": [],
   "source": [
    "data(IgM)\n",
    "par(mfrow=c(1,2))\n",
    "boxplot(IgM)\n",
    "boxplot(log(IgM))"
   ]
  },
  {
   "cell_type": "markdown",
   "metadata": {},
   "source": [
    "### Graphs for grouped data \n",
    "\n",
    "We are presenting here some techniques for comparing plots between groups.\n",
    "\n",
    "#### Histograms\n",
    "\n"
   ]
  },
  {
   "cell_type": "code",
   "execution_count": null,
   "metadata": {
    "vscode": {
     "languageId": "r"
    }
   },
   "outputs": [],
   "source": [
    "data(energy)\n",
    "attach(energy)\n",
    "expend.lean <- expend[stature==\"lean\"]\n",
    " expend.obese <- expend[stature==\"obese\"]\n",
    " par(mfrow=c(1,2))\n",
    " hist(expend.lean, breaks=10, xlim=c(5,13), ylim=c(0,4),col=\"white\")\n",
    " hist(expend.obese, breaks=10, xlim=c(5,13), ylim=c(0,4), col=\"grey\")\n",
    "par(mfrow=c(1,1))"
   ]
  },
  {
   "cell_type": "markdown",
   "metadata": {},
   "source": [
    "#### Parallel boxplots\n",
    "\n",
    "It is possible to insert boxplots of several different groups in the same window\n",
    " "
   ]
  },
  {
   "cell_type": "code",
   "execution_count": null,
   "metadata": {
    "vscode": {
     "languageId": "r"
    }
   },
   "outputs": [],
   "source": [
    "boxplot(expend.lean, expend.obese) "
   ]
  },
  {
   "cell_type": "markdown",
   "metadata": {},
   "source": [
    "#### Stripcharts\n",
    "\n",
    "*  The stripcharts provide the possibility to display the raw data in a graph. We present four variants:\n"
   ]
  },
  {
   "cell_type": "code",
   "execution_count": null,
   "metadata": {
    "vscode": {
     "languageId": "r"
    }
   },
   "outputs": [],
   "source": [
    "opar <- par(mfrow=c(2,2), mex=0.8, mar=c(3,3,2,1)+.1)\n",
    "stripchart(expend~stature)\n",
    "stripchart(expend~stature, method=\"stack\")\n",
    "stripchart(expend~stature, method=\"jitter\")\n",
    "stripchart(expend~stature, method=\"jitter\", jitter=0.3)\n",
    "par(mfrow=c(1,1))\n"
   ]
  },
  {
   "cell_type": "markdown",
   "metadata": {},
   "source": [
    "*  The first version superimposes identical points. The parameter `stack` allows to stack identical data vertically. The parameter `jitter` allows to apply a random vertical lag to each point. The last version applies a random lag smaller than the one in the previous version.\n",
    "\n",
    "#### Generate tables\n",
    "\n",
    "*  A bi-dimensional table can be generated using `matrix`. The following example concerns the caffeine consumption while giving birth, with respect to women's civil status.\n"
   ]
  },
  {
   "cell_type": "code",
   "execution_count": null,
   "metadata": {
    "vscode": {
     "languageId": "r"
    }
   },
   "outputs": [],
   "source": [
    "caff.marital <- matrix(c(652, 1537, 598, 242, 36, 46, 38, 21, 218, 327, 106, 67), nrow=3, byrow=T)\n",
    "caff.marital\n"
   ]
  },
  {
   "cell_type": "markdown",
   "metadata": {},
   "source": [
    "*  Adding names to the rows and columns:\n"
   ]
  },
  {
   "cell_type": "code",
   "execution_count": null,
   "metadata": {
    "vscode": {
     "languageId": "r"
    }
   },
   "outputs": [],
   "source": [
    "colnames(caff.marital) <- c(\"0\", \"1-150\", \"151-300\", \">300\")\n",
    "rownames(caff.marital) <- c(\"Married\",\"Prev.married\", \"Single\")\n",
    "caff.marital\n"
   ]
  },
  {
   "cell_type": "markdown",
   "metadata": {},
   "source": [
    "*  In general, we want to create tables from a data set. In this case, we have to use the functions `table, xtabs,` or `ftable`. The factors' levels are directly used as the columns' names. The function `table`` is the simplest one of the three.\n"
   ]
  },
  {
   "cell_type": "code",
   "execution_count": null,
   "metadata": {
    "vscode": {
     "languageId": "r"
    }
   },
   "outputs": [],
   "source": [
    "data(juul)\n",
    "attach(juul)\n",
    "juul$sex <- factor(juul$sex, labels=c(\"M\", \"F\"))\n",
    "juul$menarche <- factor(juul$menarche, labels=c(\"No\", \"Yes\"))\n",
    "juul$tanner <- factor(juul$tanner, labels=c(\"I\", \"II\", \"III\", \"IV\", \"V\"))\n"
   ]
  },
  {
   "cell_type": "markdown",
   "metadata": {},
   "source": [
    "*  Then the respective tables are\n"
   ]
  },
  {
   "cell_type": "code",
   "execution_count": null,
   "metadata": {
    "vscode": {
     "languageId": "r"
    }
   },
   "outputs": [],
   "source": [
    "table(sex)"
   ]
  },
  {
   "cell_type": "code",
   "execution_count": null,
   "metadata": {
    "vscode": {
     "languageId": "r"
    }
   },
   "outputs": [],
   "source": [
    "table(sex, menarche)"
   ]
  },
  {
   "cell_type": "code",
   "execution_count": null,
   "metadata": {
    "vscode": {
     "languageId": "r"
    }
   },
   "outputs": [],
   "source": [
    "table(menarche, tanner)"
   ]
  },
  {
   "cell_type": "markdown",
   "metadata": {},
   "source": [
    "*   The variable `menarche` explains that a woman already had her first period and the variable  `tanner` provides the state of puberty.\n"
   ]
  },
  {
   "cell_type": "markdown",
   "metadata": {},
   "source": [
    "#### Exercises: Marginal tables and relative frequencies\n",
    "\n",
    "*  Define the following table\n",
    "\n",
    "```\n",
    "      sex\n",
    "tanner   1   2\n",
    "     1 291 224\n",
    "     2  55  48\n",
    "     3  34  38\n",
    "     4  41  40\n",
    "     5 124 204\n",
    "```"
   ]
  },
  {
   "cell_type": "markdown",
   "metadata": {},
   "source": [
    "*  Compute the marginal tables, i.e. the sum of values with respect to one of the other table's dimensions using the function `margin.table()`\n",
    "\n"
   ]
  },
  {
   "cell_type": "markdown",
   "metadata": {},
   "source": [
    "*  Using the function `prop.table()`, compute the table of relative frequencies can be computed. This contains the relative frequencies that are the proportions of the row's or column's total.\n"
   ]
  },
  {
   "cell_type": "markdown",
   "metadata": {},
   "source": [
    "*  Compute the proportions with respect to the global total of the table:\n"
   ]
  },
  {
   "cell_type": "markdown",
   "metadata": {},
   "source": [
    "### Graphical display of the tables\n",
    "\n",
    "#### Bar plots\n",
    "\n",
    "*  Returning to the caffein example.\n",
    "*  The function `barplot` takes a vector or a matrix as argument. The most basic version:\n"
   ]
  },
  {
   "cell_type": "code",
   "execution_count": null,
   "metadata": {
    "vscode": {
     "languageId": "r"
    }
   },
   "outputs": [],
   "source": [
    "total.caff <- margin.table(caff.marital,2)\n",
    "barplot(total.caff, col=\"white\")"
   ]
  },
  {
   "cell_type": "markdown",
   "metadata": {},
   "source": [
    "*  If the argument is a matrix then  `barplot` creates a stacked box plot in which the columns are partitioned with respect to the contributions of the table's different rows. For displaying side-by-side the contributions of a row instead of stacking them, use the parameter `beside=T`. Some examples:\n"
   ]
  },
  {
   "cell_type": "code",
   "execution_count": null,
   "metadata": {
    "vscode": {
     "languageId": "r"
    }
   },
   "outputs": [],
   "source": [
    "par(mfrow=c(2,2))\n",
    "barplot(caff.marital, col=\"white\")\n",
    "barplot(t(caff.marital), col=\"white\")\n",
    "barplot(t(caff.marital), col=\"white\", beside=T)\n",
    "barplot(prop.table(t(caff.marital), 2), col=\"white\", beside=T)"
   ]
  },
  {
   "cell_type": "markdown",
   "metadata": {},
   "source": [
    "*  We can make the plots more beautiful"
   ]
  },
  {
   "cell_type": "code",
   "execution_count": null,
   "metadata": {
    "vscode": {
     "languageId": "r"
    }
   },
   "outputs": [],
   "source": [
    "par(mfrow=c(1,1))\n",
    "barplot(prop.table(t(caff.marital), 2), beside=T,legend.text=colnames(caff.marital),col=c(\"white\",\"grey80\",\"grey50\", \"black\"),args.legend=c(cex=0.4))"
   ]
  },
  {
   "cell_type": "markdown",
   "metadata": {},
   "source": [
    "#### Exercises\n",
    "\n",
    "*  Create a dotchart with the same information as the previous bar plots (use the command `dotchart()`)."
   ]
  },
  {
   "cell_type": "markdown",
   "metadata": {},
   "source": [
    "*  In order to represent the caffeine consumption table in function of the civil state create a set of pie charts using the function `pie()`.\n"
   ]
  },
  {
   "cell_type": "markdown",
   "metadata": {
    "collapsed": true
   },
   "source": [
    "## Common Errors in R\n",
    "\n",
    "### Mixing data types"
   ]
  },
  {
   "cell_type": "code",
   "execution_count": null,
   "metadata": {
    "ExecuteTime": {
     "end_time": "2021-02-08T20:42:53.433859Z",
     "start_time": "2021-02-08T20:42:53.387Z"
    },
    "vscode": {
     "languageId": "r"
    }
   },
   "outputs": [],
   "source": [
    "df <- data.frame(a = c(1, 2, 3), b = c(10, 11, 12), c=c(20,21,22))\n",
    "df <- rbind(df,c(4,14))\n",
    "df <- rbind(df,c(5,15,25,35))\n",
    "df"
   ]
  },
  {
   "cell_type": "code",
   "execution_count": null,
   "metadata": {
    "ExecuteTime": {
     "end_time": "2021-02-08T20:42:18.840516Z",
     "start_time": "2021-02-08T20:42:18.795Z"
    },
    "vscode": {
     "languageId": "r"
    }
   },
   "outputs": [],
   "source": [
    "df <- data.frame(a = as.factor(c(1, 2, 3)), b = as.factor(c(10, 11, 12)), c=c(20,21,22))\n",
    "df <- rbind(df,c(4,14))\n",
    "df"
   ]
  },
  {
   "cell_type": "code",
   "execution_count": null,
   "metadata": {
    "ExecuteTime": {
     "end_time": "2021-02-08T20:49:47.633452Z",
     "start_time": "2021-02-08T20:49:47.595Z"
    },
    "vscode": {
     "languageId": "r"
    }
   },
   "outputs": [],
   "source": [
    "df <- data.frame(a = c(1, 2, 3), b = c(10, 11, 12), c=c(20,21,22))\n",
    "df <- rbind(df,c(4,14,proc.time()))\n",
    "df\n"
   ]
  },
  {
   "cell_type": "code",
   "execution_count": null,
   "metadata": {
    "ExecuteTime": {
     "end_time": "2021-02-08T20:49:10.042999Z",
     "start_time": "2021-02-08T20:49:09.914Z"
    },
    "vscode": {
     "languageId": "r"
    }
   },
   "outputs": [],
   "source": [
    "proc.time()"
   ]
  },
  {
   "cell_type": "markdown",
   "metadata": {},
   "source": [
    "### Missing data"
   ]
  },
  {
   "cell_type": "code",
   "execution_count": null,
   "metadata": {
    "ExecuteTime": {
     "end_time": "2021-02-08T20:56:41.708482Z",
     "start_time": "2021-02-08T20:56:41.603Z"
    },
    "vscode": {
     "languageId": "r"
    }
   },
   "outputs": [],
   "source": [
    "dd <- data.frame(a = c(1, 2, 3), b = c(10, 11, 12))\n",
    "plot(dd$c)"
   ]
  },
  {
   "cell_type": "markdown",
   "metadata": {},
   "source": [
    "## Debugging\n",
    "\n",
    "### Basic debugging process (from https://adv-r.hadley.nz/debugging.html)\n",
    "\n",
    "1. Google!\n",
    "2. Make it repeatable\n",
    "3. Figure out where it is\n",
    "4. Fix it and test it\n",
    "\n",
    "\n",
    "Besides the errors directly shown in Jupyter notebooks, it is quite complicated to debug a code with a longer execution inside a notebook.\n",
    "Jupyter displays automatically the warnings produced during the execeution, as well as the traceback, but functions like `traceback()` and `warnings()` doesn't produce the expected result when used after the execution of a cell."
   ]
  },
  {
   "cell_type": "code",
   "execution_count": null,
   "metadata": {
    "ExecuteTime": {
     "end_time": "2021-02-08T20:56:45.431892Z",
     "start_time": "2021-02-08T20:56:45.398Z"
    },
    "vscode": {
     "languageId": "r"
    }
   },
   "outputs": [],
   "source": [
    "traceback()"
   ]
  },
  {
   "cell_type": "code",
   "execution_count": null,
   "metadata": {
    "ExecuteTime": {
     "end_time": "2021-02-08T21:08:33.108038Z",
     "start_time": "2021-02-08T21:08:33.080Z"
    },
    "vscode": {
     "languageId": "r"
    }
   },
   "outputs": [],
   "source": [
    "warnings()"
   ]
  },
  {
   "cell_type": "markdown",
   "metadata": {},
   "source": [
    "In this case, it might be useful to configure R in order to automatically dump the environment (the state of the R session and the variable) to a file, using the following code:"
   ]
  },
  {
   "cell_type": "code",
   "execution_count": null,
   "metadata": {
    "vscode": {
     "languageId": "r"
    }
   },
   "outputs": [],
   "source": [
    "# In batch R process ----\n",
    "dump_and_quit <- function() {\n",
    "  # Save debugging info to file last.dump.rda\n",
    "  dump.frames(to.file = TRUE)\n",
    "  # Quit R with error status\n",
    "  q(status = 1)\n",
    "}\n",
    "options(error = dump_and_quit)\n",
    "\n",
    "\n",
    "# In a later interactive session, the dump can be loaded using:\n",
    "load(\"last.dump.rda\")\n",
    "debugger()"
   ]
  },
  {
   "cell_type": "markdown",
   "metadata": {},
   "source": [
    "Or, as an alternative, to run the code into RStudio, and use the `browser()` function in order to launch an interactive debugger and manually inspect the state of the program."
   ]
  },
  {
   "cell_type": "markdown",
   "metadata": {},
   "source": [
    "### Useful functions for debugging"
   ]
  },
  {
   "cell_type": "code",
   "execution_count": null,
   "metadata": {
    "vscode": {
     "languageId": "r"
    }
   },
   "outputs": [],
   "source": [
    "getwd() # Get current working directory"
   ]
  },
  {
   "cell_type": "code",
   "execution_count": null,
   "metadata": {
    "vscode": {
     "languageId": "r"
    }
   },
   "outputs": [],
   "source": [
    ".libPaths() # Get installation path for libraries"
   ]
  },
  {
   "cell_type": "code",
   "execution_count": null,
   "metadata": {
    "ExecuteTime": {
     "end_time": "2021-02-08T21:00:25.397592Z",
     "start_time": "2021-02-08T21:00:24.932Z"
    },
    "vscode": {
     "languageId": "r"
    }
   },
   "outputs": [],
   "source": [
    "sessionInfo() # Get information from the current session"
   ]
  },
  {
   "cell_type": "code",
   "execution_count": null,
   "metadata": {
    "ExecuteTime": {
     "end_time": "2021-02-08T21:21:36.206404Z",
     "start_time": "2021-02-08T21:21:36.128Z"
    },
    "vscode": {
     "languageId": "r"
    }
   },
   "outputs": [],
   "source": [
    "options() # Get R options"
   ]
  }
 ],
 "metadata": {
  "kernelspec": {
   "display_name": "R",
   "language": "R",
   "name": "ir"
  },
  "language_info": {
   "codemirror_mode": "r",
   "file_extension": ".r",
   "mimetype": "text/x-r-source",
   "name": "R",
   "pygments_lexer": "r",
   "version": "4.0.3"
  },
  "latex_envs": {
   "LaTeX_envs_menu_present": true,
   "autoclose": false,
   "autocomplete": true,
   "bibliofile": "biblio.bib",
   "cite_by": "apalike",
   "current_citInitial": 1,
   "eqLabelWithNumbers": true,
   "eqNumInitial": 1,
   "hotkeys": {
    "equation": "Ctrl-E",
    "itemize": "Ctrl-I"
   },
   "labels_anchors": false,
   "latex_user_defs": false,
   "report_style_numbering": false,
   "user_envs_cfg": false
  },
  "toc": {
   "base_numbering": 1,
   "nav_menu": {},
   "number_sections": true,
   "sideBar": true,
   "skip_h1_title": false,
   "title_cell": "Table of Contents",
   "title_sidebar": "Contents",
   "toc_cell": false,
   "toc_position": {},
   "toc_section_display": true,
   "toc_window_display": false
  },
  "varInspector": {
   "cols": {
    "lenName": 16,
    "lenType": 16,
    "lenVar": 40
   },
   "kernels_config": {
    "python": {
     "delete_cmd_postfix": "",
     "delete_cmd_prefix": "del ",
     "library": "var_list.py",
     "varRefreshCmd": "print(var_dic_list())"
    },
    "r": {
     "delete_cmd_postfix": ") ",
     "delete_cmd_prefix": "rm(",
     "library": "var_list.r",
     "varRefreshCmd": "cat(var_dic_list()) "
    }
   },
   "types_to_exclude": [
    "module",
    "function",
    "builtin_function_or_method",
    "instance",
    "_Feature"
   ],
   "window_display": false
  }
 },
 "nbformat": 4,
 "nbformat_minor": 1
}
