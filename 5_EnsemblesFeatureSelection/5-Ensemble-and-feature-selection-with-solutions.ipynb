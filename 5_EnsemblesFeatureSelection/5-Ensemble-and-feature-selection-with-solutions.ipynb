{
 "cells": [
  {
   "attachments": {},
   "cell_type": "markdown",
   "metadata": {},
   "source": [
    "# INFO-F-422 -  Statistical Foundations of Machine Learning \n",
    "\n",
    "### Gian Marco Paldino - __[gian.marco.paldino@ulb.be](mailto:gian.marco.paldino@ulb.be)__\n",
    "### Cédric Simar - __[cedric.simar@ulb.be](mailto:cedric.simar@ulb.be)__\n",
    "\n",
    "## TP 5 - Ensembles of models and feature selection\n",
    "\n",
    "####  April 2023\n",
    "\n",
    "#### Materials originally developed by *Yann-Aël Le Borgne, Fabrizio Carcillo and Gianluca Bontempi*"
   ]
  },
  {
   "cell_type": "markdown",
   "metadata": {},
   "source": [
    "## Overview\n",
    "\n",
    "Feature selection and ensembles of models are two techniques which can be used to improve the accuracy of preditions. \n",
    "\n",
    "Feature selection aims at reducing the dimensionality of the problem, and is useful when input variables contain redundant or irrelevant (noisy) information. Benefits are twofold: it decreases the training time by simplifying the problem, and it decreases the complexity of the predictive model. This in turn usually improves the prediction accuracy, since high-dimensionality makes predictive models more prone to overfitting, and estimates of parameters more variant. \n",
    "\n",
    "There are three main approaches to feature selection:\n",
    "- **Filter methods:** \n",
    "These methods relies solely on the data and their intrinsic properties, without considering the impact of the selected features on the learning algorithm performance. For this reason, they are often used as preprocessing techniques.\n",
    "- **Wrapper methods:** \n",
    "These methods assess subsets of variables according to their usefulness to a given predictor. The feature selection is perfomed using an evaluation function that includes the predictive performance of the consider learning algorithm as a selection criterion. \n",
    "- **Embedded methods:** \n",
    "These methods are specific to given learning machines, and usually built-in in the learning procedure (e.g. random forest, regularization based techniques).\n",
    "\n",
    "Ensembles of models consist in building several predictive models using resampled subsets of the original training set. The method works particularly well for predictive models with high variance (for example, decision trees or neural networks). The average prediction of the resulting models usually strongly decreases the variance component of the error, and as a consequence improves the prediction accuracy. \n",
    "\n",
    "In this session, we will illustrate both techniques using the IMDB 5000 dataset, which contains 27 variables describing 5043 movies. The variables contain information about the director, actors, number of Facebook likes for each actor, duration, genre, language, country, etc... We will use them to predict the movie success (through the IMDB score). The dataset together with a description of the variables is at https://www.kaggle.com/deepmatrix/imdb-5000-movie-dataset.\n",
    "\n",
    "The dataset is on the github of the course, in `5_EnsemblesFeatureSelection/movie_metadata.csv`"
   ]
  },
  {
   "cell_type": "markdown",
   "metadata": {},
   "source": [
    "## Preliminaries\n",
    "\n",
    "### Supervised learning\n",
    "\n",
    "The process of supervised learning involves the presence of an entity (the learner, also called prediction model), whose goal is to learn the mapping between inputs and outputs in a given problem.\n",
    "\n",
    "A supervised learning problem can formulated as follows:\n",
    "\n",
    "\\begin{equation*}\n",
    " y = m(\\mathbf{x})  \n",
    "\\end{equation*}\n",
    "\n",
    "where:\n",
    "- $y$ represents the output variable (also called target)\n",
    "- $\\mathbf{x}$ represents the vector of inputs (also called features).\n",
    "- $m$ is the (unknown) mapping between input and outputs.\n",
    "\n",
    "In the majority of the supervised learning problems, the mapping $m$ between input and outputs is unknown and needs to be estimated on basis of the available input/output observation pairs $(\\mathbf{x}_i,y_i)$.\n",
    "\n",
    "## Classification vs regression\n",
    "\n",
    "Both classification and regression are sub-fields of *supervised learning*. In the two cases, we have predictive variables $\\mathbf{x}$ and a target variable $y$. \n",
    "The main difference betweet the two type of problems is the type of the target variabile:\n",
    "\n",
    "- In classification, $y$ is a discrete variable; i.e $y \\in \\{C_1,\\cdots,C_k\\}$\n",
    "- In regression, $y$ is a continuous variable; i.e $y \\in \\mathbb{R}$\n",
    "\n",
    "In this practical, unlike the previous ones, we will tackle our problem as a regression problem, with the IMDB score being the continuous target variable to predict.\n"
   ]
  },
  {
   "cell_type": "markdown",
   "metadata": {},
   "source": [
    "## Data overview and preprocessing"
   ]
  },
  {
   "cell_type": "markdown",
   "metadata": {},
   "source": [
    "Let us load and select a random subset of 1000 movies"
   ]
  },
  {
   "cell_type": "code",
   "execution_count": 1,
   "metadata": {
    "vscode": {
     "languageId": "r"
    }
   },
   "outputs": [],
   "source": [
    "data<-read.csv(\"movie_metadata.csv\",stringsAsFactors = T)\n",
    "set.seed(2)\n",
    "data<-data[sample(nrow(data),1000),]"
   ]
  },
  {
   "cell_type": "markdown",
   "metadata": {},
   "source": [
    "### Dataset overview"
   ]
  },
  {
   "cell_type": "code",
   "execution_count": 2,
   "metadata": {
    "vscode": {
     "languageId": "r"
    }
   },
   "outputs": [
    {
     "data": {
      "text/html": [
       "<style>\n",
       ".list-inline {list-style: none; margin:0; padding: 0}\n",
       ".list-inline>li {display: inline-block}\n",
       ".list-inline>li:not(:last-child)::after {content: \"\\00b7\"; padding: 0 .5ex}\n",
       "</style>\n",
       "<ol class=list-inline><li>1000</li><li>28</li></ol>\n"
      ],
      "text/latex": [
       "\\begin{enumerate*}\n",
       "\\item 1000\n",
       "\\item 28\n",
       "\\end{enumerate*}\n"
      ],
      "text/markdown": [
       "1. 1000\n",
       "2. 28\n",
       "\n",
       "\n"
      ],
      "text/plain": [
       "[1] 1000   28"
      ]
     },
     "metadata": {},
     "output_type": "display_data"
    }
   ],
   "source": [
    "dim(data)\n"
   ]
  },
  {
   "cell_type": "code",
   "execution_count": 3,
   "metadata": {
    "vscode": {
     "languageId": "r"
    }
   },
   "outputs": [
    {
     "data": {
      "text/html": [
       "<table class=\"dataframe\">\n",
       "<caption>A data.frame: 2 × 28</caption>\n",
       "<thead>\n",
       "\t<tr><th></th><th scope=col>color</th><th scope=col>director_name</th><th scope=col>num_critic_for_reviews</th><th scope=col>duration</th><th scope=col>director_facebook_likes</th><th scope=col>actor_3_facebook_likes</th><th scope=col>actor_2_name</th><th scope=col>actor_1_facebook_likes</th><th scope=col>gross</th><th scope=col>genres</th><th scope=col>actor_1_name</th><th scope=col>movie_title</th><th scope=col>num_voted_users</th><th scope=col>cast_total_facebook_likes</th><th scope=col>actor_3_name</th><th scope=col>facenumber_in_poster</th><th scope=col>plot_keywords</th><th scope=col>movie_imdb_link</th><th scope=col>num_user_for_reviews</th><th scope=col>language</th><th scope=col>country</th><th scope=col>content_rating</th><th scope=col>budget</th><th scope=col>title_year</th><th scope=col>actor_2_facebook_likes</th><th scope=col>imdb_score</th><th scope=col>aspect_ratio</th><th scope=col>movie_facebook_likes</th></tr>\n",
       "\t<tr><th></th><th scope=col>&lt;fct&gt;</th><th scope=col>&lt;fct&gt;</th><th scope=col>&lt;int&gt;</th><th scope=col>&lt;int&gt;</th><th scope=col>&lt;int&gt;</th><th scope=col>&lt;int&gt;</th><th scope=col>&lt;fct&gt;</th><th scope=col>&lt;int&gt;</th><th scope=col>&lt;int&gt;</th><th scope=col>&lt;fct&gt;</th><th scope=col>&lt;fct&gt;</th><th scope=col>&lt;fct&gt;</th><th scope=col>&lt;int&gt;</th><th scope=col>&lt;int&gt;</th><th scope=col>&lt;fct&gt;</th><th scope=col>&lt;int&gt;</th><th scope=col>&lt;fct&gt;</th><th scope=col>&lt;fct&gt;</th><th scope=col>&lt;int&gt;</th><th scope=col>&lt;fct&gt;</th><th scope=col>&lt;fct&gt;</th><th scope=col>&lt;fct&gt;</th><th scope=col>&lt;dbl&gt;</th><th scope=col>&lt;int&gt;</th><th scope=col>&lt;int&gt;</th><th scope=col>&lt;dbl&gt;</th><th scope=col>&lt;dbl&gt;</th><th scope=col>&lt;int&gt;</th></tr>\n",
       "</thead>\n",
       "<tbody>\n",
       "\t<tr><th scope=row>3925</th><td>Color</td><td>Oliver Stone</td><td>40</td><td>110</td><td>0</td><td>237</td><td>Zach Grenier</td><td>721</td><td>3468572</td><td>Drama          </td><td>Michael Wincott</td><td>Talk RadioÂ     </td><td>10073</td><td>1966</td><td>Bill Johnson </td><td>0</td><td>listener|neo nazi|radio|radio station|radio talk show</td><td>http://www.imdb.com/title/tt0096219/?ref_=fn_tt_tt_1</td><td>78</td><td>English</td><td>USA   </td><td>R</td><td>4e+06</td><td>1988</td><td>246</td><td>7.3</td><td>1.85</td><td>816</td></tr>\n",
       "\t<tr><th scope=row>4806</th><td>Color</td><td>Paul Fox    </td><td>80</td><td> 80</td><td>3</td><td> 39</td><td>Jeff Seymour</td><td>108</td><td>     NA</td><td>Horror|Thriller</td><td>Dov Tiefenbach </td><td>The Dark HoursÂ </td><td> 4788</td><td> 272</td><td>Gordon Currie</td><td>0</td><td>brain tumor|champagne|game|psychiatrist|weekend      </td><td>http://www.imdb.com/title/tt0402249/?ref_=fn_tt_tt_1</td><td>52</td><td>English</td><td>Canada</td><td>R</td><td>5e+05</td><td>2005</td><td> 64</td><td>6.1</td><td>1.85</td><td>166</td></tr>\n",
       "</tbody>\n",
       "</table>\n"
      ],
      "text/latex": [
       "A data.frame: 2 × 28\n",
       "\\begin{tabular}{r|llllllllllllllllllllllllllll}\n",
       "  & color & director\\_name & num\\_critic\\_for\\_reviews & duration & director\\_facebook\\_likes & actor\\_3\\_facebook\\_likes & actor\\_2\\_name & actor\\_1\\_facebook\\_likes & gross & genres & actor\\_1\\_name & movie\\_title & num\\_voted\\_users & cast\\_total\\_facebook\\_likes & actor\\_3\\_name & facenumber\\_in\\_poster & plot\\_keywords & movie\\_imdb\\_link & num\\_user\\_for\\_reviews & language & country & content\\_rating & budget & title\\_year & actor\\_2\\_facebook\\_likes & imdb\\_score & aspect\\_ratio & movie\\_facebook\\_likes\\\\\n",
       "  & <fct> & <fct> & <int> & <int> & <int> & <int> & <fct> & <int> & <int> & <fct> & <fct> & <fct> & <int> & <int> & <fct> & <int> & <fct> & <fct> & <int> & <fct> & <fct> & <fct> & <dbl> & <int> & <int> & <dbl> & <dbl> & <int>\\\\\n",
       "\\hline\n",
       "\t3925 & Color & Oliver Stone & 40 & 110 & 0 & 237 & Zach Grenier & 721 & 3468572 & Drama           & Michael Wincott & Talk RadioÂ      & 10073 & 1966 & Bill Johnson  & 0 & listener\\textbar{}neo nazi\\textbar{}radio\\textbar{}radio station\\textbar{}radio talk show & http://www.imdb.com/title/tt0096219/?ref\\_=fn\\_tt\\_tt\\_1 & 78 & English & USA    & R & 4e+06 & 1988 & 246 & 7.3 & 1.85 & 816\\\\\n",
       "\t4806 & Color & Paul Fox     & 80 &  80 & 3 &  39 & Jeff Seymour & 108 &      NA & Horror\\textbar{}Thriller & Dov Tiefenbach  & The Dark HoursÂ  &  4788 &  272 & Gordon Currie & 0 & brain tumor\\textbar{}champagne\\textbar{}game\\textbar{}psychiatrist\\textbar{}weekend       & http://www.imdb.com/title/tt0402249/?ref\\_=fn\\_tt\\_tt\\_1 & 52 & English & Canada & R & 5e+05 & 2005 &  64 & 6.1 & 1.85 & 166\\\\\n",
       "\\end{tabular}\n"
      ],
      "text/markdown": [
       "\n",
       "A data.frame: 2 × 28\n",
       "\n",
       "| <!--/--> | color &lt;fct&gt; | director_name &lt;fct&gt; | num_critic_for_reviews &lt;int&gt; | duration &lt;int&gt; | director_facebook_likes &lt;int&gt; | actor_3_facebook_likes &lt;int&gt; | actor_2_name &lt;fct&gt; | actor_1_facebook_likes &lt;int&gt; | gross &lt;int&gt; | genres &lt;fct&gt; | actor_1_name &lt;fct&gt; | movie_title &lt;fct&gt; | num_voted_users &lt;int&gt; | cast_total_facebook_likes &lt;int&gt; | actor_3_name &lt;fct&gt; | facenumber_in_poster &lt;int&gt; | plot_keywords &lt;fct&gt; | movie_imdb_link &lt;fct&gt; | num_user_for_reviews &lt;int&gt; | language &lt;fct&gt; | country &lt;fct&gt; | content_rating &lt;fct&gt; | budget &lt;dbl&gt; | title_year &lt;int&gt; | actor_2_facebook_likes &lt;int&gt; | imdb_score &lt;dbl&gt; | aspect_ratio &lt;dbl&gt; | movie_facebook_likes &lt;int&gt; |\n",
       "|---|---|---|---|---|---|---|---|---|---|---|---|---|---|---|---|---|---|---|---|---|---|---|---|---|---|---|---|---|\n",
       "| 3925 | Color | Oliver Stone | 40 | 110 | 0 | 237 | Zach Grenier | 721 | 3468572 | Drama           | Michael Wincott | Talk RadioÂ      | 10073 | 1966 | Bill Johnson  | 0 | listener|neo nazi|radio|radio station|radio talk show | http://www.imdb.com/title/tt0096219/?ref_=fn_tt_tt_1 | 78 | English | USA    | R | 4e+06 | 1988 | 246 | 7.3 | 1.85 | 816 |\n",
       "| 4806 | Color | Paul Fox     | 80 |  80 | 3 |  39 | Jeff Seymour | 108 |      NA | Horror|Thriller | Dov Tiefenbach  | The Dark HoursÂ  |  4788 |  272 | Gordon Currie | 0 | brain tumor|champagne|game|psychiatrist|weekend       | http://www.imdb.com/title/tt0402249/?ref_=fn_tt_tt_1 | 52 | English | Canada | R | 5e+05 | 2005 |  64 | 6.1 | 1.85 | 166 |\n",
       "\n"
      ],
      "text/plain": [
       "     color director_name num_critic_for_reviews duration\n",
       "3925 Color Oliver Stone  40                     110     \n",
       "4806 Color Paul Fox      80                      80     \n",
       "     director_facebook_likes actor_3_facebook_likes actor_2_name\n",
       "3925 0                       237                    Zach Grenier\n",
       "4806 3                        39                    Jeff Seymour\n",
       "     actor_1_facebook_likes gross   genres          actor_1_name   \n",
       "3925 721                    3468572 Drama           Michael Wincott\n",
       "4806 108                         NA Horror|Thriller Dov Tiefenbach \n",
       "     movie_title      num_voted_users cast_total_facebook_likes actor_3_name \n",
       "3925 Talk RadioÂ      10073           1966                      Bill Johnson \n",
       "4806 The Dark HoursÂ   4788            272                      Gordon Currie\n",
       "     facenumber_in_poster plot_keywords                                        \n",
       "3925 0                    listener|neo nazi|radio|radio station|radio talk show\n",
       "4806 0                    brain tumor|champagne|game|psychiatrist|weekend      \n",
       "     movie_imdb_link                                      num_user_for_reviews\n",
       "3925 http://www.imdb.com/title/tt0096219/?ref_=fn_tt_tt_1 78                  \n",
       "4806 http://www.imdb.com/title/tt0402249/?ref_=fn_tt_tt_1 52                  \n",
       "     language country content_rating budget title_year actor_2_facebook_likes\n",
       "3925 English  USA     R              4e+06  1988       246                   \n",
       "4806 English  Canada  R              5e+05  2005        64                   \n",
       "     imdb_score aspect_ratio movie_facebook_likes\n",
       "3925 7.3        1.85         816                 \n",
       "4806 6.1        1.85         166                 "
      ]
     },
     "metadata": {},
     "output_type": "display_data"
    }
   ],
   "source": [
    "options(repr.matrix.max.cols=50)\n",
    "data[1:2,]"
   ]
  },
  {
   "cell_type": "code",
   "execution_count": 4,
   "metadata": {
    "vscode": {
     "languageId": "r"
    }
   },
   "outputs": [
    {
     "data": {
      "text/plain": [
       "              color              director_name num_critic_for_reviews\n",
       "                 :  4                   : 24   Min.   :  1.0         \n",
       "  Black and White: 37   Woody Allen     :  7   1st Qu.: 48.0         \n",
       " Color           :959   Bobby Farrelly  :  6   Median :103.0         \n",
       "                        Barry Levinson  :  5   Mean   :135.1         \n",
       "                        Chris Columbus  :  5   3rd Qu.:184.2         \n",
       "                        Steven Spielberg:  5   Max.   :765.0         \n",
       "                        (Other)         :948   NA's   :16            \n",
       "    duration   director_facebook_likes actor_3_facebook_likes\n",
       " Min.   :  7   Min.   :    0.00        Min.   :    0.0       \n",
       " 1st Qu.: 93   1st Qu.:    6.75        1st Qu.:  120.0       \n",
       " Median :103   Median :   44.00        Median :  395.0       \n",
       " Mean   :106   Mean   :  669.26        Mean   :  602.2       \n",
       " 3rd Qu.:116   3rd Qu.:  204.75        3rd Qu.:  642.0       \n",
       " Max.   :511   Max.   :21000.00        Max.   :19000.0       \n",
       " NA's   :4     NA's   :24              NA's   :5             \n",
       "          actor_2_name actor_1_facebook_likes     gross          \n",
       "                :  4   Min.   :    0          Min.   :      703  \n",
       " Adam Sandler   :  4   1st Qu.:  623          1st Qu.:  5003486  \n",
       " James Franco   :  4   Median :  979          Median : 25025352  \n",
       " Monica Potter  :  4   Mean   : 5951          Mean   : 46927291  \n",
       " Morgan Freeman :  4   3rd Qu.:11000          3rd Qu.: 60549232  \n",
       " Zooey Deschanel:  4   Max.   :49000          Max.   :658672302  \n",
       " (Other)        :976   NA's   :3              NA's   :200        \n",
       "                  genres               actor_1_name\n",
       " Drama               : 55   Johnny Depp      : 10  \n",
       " Comedy|Drama        : 49   Bruce Willis     :  9  \n",
       " Comedy              : 40   Keanu Reeves     :  8  \n",
       " Drama|Romance       : 33   Morgan Freeman   :  8  \n",
       " Comedy|Romance      : 32   Robert De Niro   :  8  \n",
       " Comedy|Drama|Romance: 29   Denzel Washington:  7  \n",
       " (Other)             :762   (Other)          :950  \n",
       "                         movie_title  num_voted_users \n",
       " History of the World: Part IÂ :  2   Min.   :     5  \n",
       " PoltergeistÂ                  :  2   1st Qu.:  7110  \n",
       " PreciousÂ                     :  2   Median : 31625  \n",
       " The GamblerÂ                  :  2   Mean   : 76398  \n",
       " The Last House on the LeftÂ   :  2   3rd Qu.: 87767  \n",
       " 10 Days in a MadhouseÂ        :  1   Max.   :955174  \n",
       " (Other)                       :989                   \n",
       " cast_total_facebook_likes       actor_3_name facenumber_in_poster\n",
       " Min.   :    0                         :  5   Min.   : 0.000      \n",
       " 1st Qu.: 1466             Beth Grant  :  3   1st Qu.: 0.000      \n",
       " Median : 3142             Cheech Marin:  3   Median : 1.000      \n",
       " Mean   : 9103             Ellen Barkin:  3   Mean   : 1.394      \n",
       " 3rd Qu.:13884             Faizon Love :  3   3rd Qu.: 2.000      \n",
       " Max.   :77823             Franco Nero :  3   Max.   :31.000      \n",
       "                           (Other)     :980   NA's   :2           \n",
       "                                                                                            plot_keywords\n",
       "                                                                                                   : 37  \n",
       " abuse|african american lesbian|lesbian|lesbian couple|school                                      :  2  \n",
       " based on novel                                                                                    :  2  \n",
       " dog|gambler|gambling|gangster|professor                                                           :  2  \n",
       " french revolution|old testament|part of an unfinished series|reference to john wayne|roman emperor:  2  \n",
       " ghost|haunted|haunting|house|paranormal investigator                                              :  2  \n",
       " (Other)                                                                                           :953  \n",
       "                                             movie_imdb_link\n",
       " http://www.imdb.com/title/tt0082517/?ref_=fn_tt_tt_1:  2   \n",
       " http://www.imdb.com/title/tt0084516/?ref_=fn_tt_tt_1:  2   \n",
       " http://www.imdb.com/title/tt0844708/?ref_=fn_tt_tt_1:  2   \n",
       " http://www.imdb.com/title/tt0929632/?ref_=fn_tt_tt_1:  2   \n",
       " http://www.imdb.com/title/tt2039393/?ref_=fn_tt_tt_1:  2   \n",
       " http://www.imdb.com/title/tt0006864/?ref_=fn_tt_tt_1:  1   \n",
       " (Other)                                             :989   \n",
       " num_user_for_reviews    language        country      content_rating\n",
       " Min.   :   1.00      English:934   USA      :752   R        :433   \n",
       " 1st Qu.:  60.25      French : 15   UK       : 98   PG-13    :264   \n",
       " Median : 154.50      Hindi  :  5   Canada   : 27   PG       :145   \n",
       " Mean   : 257.51      Spanish:  5   France   : 24            : 78   \n",
       " 3rd Qu.: 316.00             :  4   Germany  : 20   Not Rated: 21   \n",
       " Max.   :3597.00      German :  4   Australia: 18   G        : 11   \n",
       " NA's   :6            (Other): 33   (Other)  : 61   (Other)  : 48   \n",
       "     budget            title_year   actor_2_facebook_likes   imdb_score   \n",
       " Min.   :     3250   Min.   :1916   Min.   :    0.0        Min.   :1.900  \n",
       " 1st Qu.:  5000000   1st Qu.:1999   1st Qu.:  299.8        1st Qu.:5.800  \n",
       " Median : 18013074   Median :2005   Median :  602.0        Median :6.500  \n",
       " Mean   : 31645256   Mean   :2002   Mean   : 1720.3        Mean   :6.426  \n",
       " 3rd Qu.: 40000000   3rd Qu.:2011   3rd Qu.:  934.0        3rd Qu.:7.200  \n",
       " Max.   :260000000   Max.   :2016   Max.   :29000.0        Max.   :8.900  \n",
       " NA's   :104         NA's   :24     NA's   :4                             \n",
       "  aspect_ratio    movie_facebook_likes\n",
       " Min.   : 1.330   Min.   :     0      \n",
       " 1st Qu.: 1.850   1st Qu.:     0      \n",
       " Median : 2.350   Median :    65      \n",
       " Mean   : 2.289   Mean   :  6947      \n",
       " 3rd Qu.: 2.350   3rd Qu.:  1000      \n",
       " Max.   :16.000   Max.   :199000      \n",
       " NA's   :80                           "
      ]
     },
     "metadata": {},
     "output_type": "display_data"
    }
   ],
   "source": [
    "summary(data)"
   ]
  },
  {
   "cell_type": "markdown",
   "metadata": {},
   "source": [
    "We see there is a mix of categorical and numerical variables, and some missing values. In order to simplify the analysis, let us remove the categorical variables, and replace the NA values with the mean values of the variables."
   ]
  },
  {
   "cell_type": "markdown",
   "metadata": {},
   "source": [
    "### Remove categorical variables"
   ]
  },
  {
   "cell_type": "markdown",
   "metadata": {},
   "source": [
    "Check the type of input variables"
   ]
  },
  {
   "cell_type": "code",
   "execution_count": 5,
   "metadata": {
    "vscode": {
     "languageId": "r"
    }
   },
   "outputs": [
    {
     "data": {
      "text/html": [
       "<style>\n",
       ".dl-inline {width: auto; margin:0; padding: 0}\n",
       ".dl-inline>dt, .dl-inline>dd {float: none; width: auto; display: inline-block}\n",
       ".dl-inline>dt::after {content: \":\\0020\"; padding-right: .5ex}\n",
       ".dl-inline>dt:not(:first-of-type) {padding-left: .5ex}\n",
       "</style><dl class=dl-inline><dt>color</dt><dd>'factor'</dd><dt>director_name</dt><dd>'factor'</dd><dt>num_critic_for_reviews</dt><dd>'integer'</dd><dt>duration</dt><dd>'integer'</dd><dt>director_facebook_likes</dt><dd>'integer'</dd><dt>actor_3_facebook_likes</dt><dd>'integer'</dd><dt>actor_2_name</dt><dd>'factor'</dd><dt>actor_1_facebook_likes</dt><dd>'integer'</dd><dt>gross</dt><dd>'integer'</dd><dt>genres</dt><dd>'factor'</dd><dt>actor_1_name</dt><dd>'factor'</dd><dt>movie_title</dt><dd>'factor'</dd><dt>num_voted_users</dt><dd>'integer'</dd><dt>cast_total_facebook_likes</dt><dd>'integer'</dd><dt>actor_3_name</dt><dd>'factor'</dd><dt>facenumber_in_poster</dt><dd>'integer'</dd><dt>plot_keywords</dt><dd>'factor'</dd><dt>movie_imdb_link</dt><dd>'factor'</dd><dt>num_user_for_reviews</dt><dd>'integer'</dd><dt>language</dt><dd>'factor'</dd><dt>country</dt><dd>'factor'</dd><dt>content_rating</dt><dd>'factor'</dd><dt>budget</dt><dd>'numeric'</dd><dt>title_year</dt><dd>'integer'</dd><dt>actor_2_facebook_likes</dt><dd>'integer'</dd><dt>imdb_score</dt><dd>'numeric'</dd><dt>aspect_ratio</dt><dd>'numeric'</dd><dt>movie_facebook_likes</dt><dd>'integer'</dd></dl>\n"
      ],
      "text/latex": [
       "\\begin{description*}\n",
       "\\item[color] 'factor'\n",
       "\\item[director\\textbackslash{}\\_name] 'factor'\n",
       "\\item[num\\textbackslash{}\\_critic\\textbackslash{}\\_for\\textbackslash{}\\_reviews] 'integer'\n",
       "\\item[duration] 'integer'\n",
       "\\item[director\\textbackslash{}\\_facebook\\textbackslash{}\\_likes] 'integer'\n",
       "\\item[actor\\textbackslash{}\\_3\\textbackslash{}\\_facebook\\textbackslash{}\\_likes] 'integer'\n",
       "\\item[actor\\textbackslash{}\\_2\\textbackslash{}\\_name] 'factor'\n",
       "\\item[actor\\textbackslash{}\\_1\\textbackslash{}\\_facebook\\textbackslash{}\\_likes] 'integer'\n",
       "\\item[gross] 'integer'\n",
       "\\item[genres] 'factor'\n",
       "\\item[actor\\textbackslash{}\\_1\\textbackslash{}\\_name] 'factor'\n",
       "\\item[movie\\textbackslash{}\\_title] 'factor'\n",
       "\\item[num\\textbackslash{}\\_voted\\textbackslash{}\\_users] 'integer'\n",
       "\\item[cast\\textbackslash{}\\_total\\textbackslash{}\\_facebook\\textbackslash{}\\_likes] 'integer'\n",
       "\\item[actor\\textbackslash{}\\_3\\textbackslash{}\\_name] 'factor'\n",
       "\\item[facenumber\\textbackslash{}\\_in\\textbackslash{}\\_poster] 'integer'\n",
       "\\item[plot\\textbackslash{}\\_keywords] 'factor'\n",
       "\\item[movie\\textbackslash{}\\_imdb\\textbackslash{}\\_link] 'factor'\n",
       "\\item[num\\textbackslash{}\\_user\\textbackslash{}\\_for\\textbackslash{}\\_reviews] 'integer'\n",
       "\\item[language] 'factor'\n",
       "\\item[country] 'factor'\n",
       "\\item[content\\textbackslash{}\\_rating] 'factor'\n",
       "\\item[budget] 'numeric'\n",
       "\\item[title\\textbackslash{}\\_year] 'integer'\n",
       "\\item[actor\\textbackslash{}\\_2\\textbackslash{}\\_facebook\\textbackslash{}\\_likes] 'integer'\n",
       "\\item[imdb\\textbackslash{}\\_score] 'numeric'\n",
       "\\item[aspect\\textbackslash{}\\_ratio] 'numeric'\n",
       "\\item[movie\\textbackslash{}\\_facebook\\textbackslash{}\\_likes] 'integer'\n",
       "\\end{description*}\n"
      ],
      "text/markdown": [
       "color\n",
       ":   'factor'director_name\n",
       ":   'factor'num_critic_for_reviews\n",
       ":   'integer'duration\n",
       ":   'integer'director_facebook_likes\n",
       ":   'integer'actor_3_facebook_likes\n",
       ":   'integer'actor_2_name\n",
       ":   'factor'actor_1_facebook_likes\n",
       ":   'integer'gross\n",
       ":   'integer'genres\n",
       ":   'factor'actor_1_name\n",
       ":   'factor'movie_title\n",
       ":   'factor'num_voted_users\n",
       ":   'integer'cast_total_facebook_likes\n",
       ":   'integer'actor_3_name\n",
       ":   'factor'facenumber_in_poster\n",
       ":   'integer'plot_keywords\n",
       ":   'factor'movie_imdb_link\n",
       ":   'factor'num_user_for_reviews\n",
       ":   'integer'language\n",
       ":   'factor'country\n",
       ":   'factor'content_rating\n",
       ":   'factor'budget\n",
       ":   'numeric'title_year\n",
       ":   'integer'actor_2_facebook_likes\n",
       ":   'integer'imdb_score\n",
       ":   'numeric'aspect_ratio\n",
       ":   'numeric'movie_facebook_likes\n",
       ":   'integer'\n",
       "\n"
      ],
      "text/plain": [
       "                    color             director_name    num_critic_for_reviews \n",
       "                 \"factor\"                  \"factor\"                 \"integer\" \n",
       "                 duration   director_facebook_likes    actor_3_facebook_likes \n",
       "                \"integer\"                 \"integer\"                 \"integer\" \n",
       "             actor_2_name    actor_1_facebook_likes                     gross \n",
       "                 \"factor\"                 \"integer\"                 \"integer\" \n",
       "                   genres              actor_1_name               movie_title \n",
       "                 \"factor\"                  \"factor\"                  \"factor\" \n",
       "          num_voted_users cast_total_facebook_likes              actor_3_name \n",
       "                \"integer\"                 \"integer\"                  \"factor\" \n",
       "     facenumber_in_poster             plot_keywords           movie_imdb_link \n",
       "                \"integer\"                  \"factor\"                  \"factor\" \n",
       "     num_user_for_reviews                  language                   country \n",
       "                \"integer\"                  \"factor\"                  \"factor\" \n",
       "           content_rating                    budget                title_year \n",
       "                 \"factor\"                 \"numeric\"                 \"integer\" \n",
       "   actor_2_facebook_likes                imdb_score              aspect_ratio \n",
       "                \"integer\"                 \"numeric\"                 \"numeric\" \n",
       "     movie_facebook_likes \n",
       "                \"integer\" "
      ]
     },
     "metadata": {},
     "output_type": "display_data"
    }
   ],
   "source": [
    "sapply(data[1,],class)"
   ]
  },
  {
   "cell_type": "markdown",
   "metadata": {},
   "source": [
    "Get indices of categorical (factor) variables"
   ]
  },
  {
   "cell_type": "code",
   "execution_count": 6,
   "metadata": {
    "vscode": {
     "languageId": "r"
    }
   },
   "outputs": [
    {
     "data": {
      "text/html": [
       "<style>\n",
       ".dl-inline {width: auto; margin:0; padding: 0}\n",
       ".dl-inline>dt, .dl-inline>dd {float: none; width: auto; display: inline-block}\n",
       ".dl-inline>dt::after {content: \":\\0020\"; padding-right: .5ex}\n",
       ".dl-inline>dt:not(:first-of-type) {padding-left: .5ex}\n",
       "</style><dl class=dl-inline><dt>color</dt><dd>TRUE</dd><dt>director_name</dt><dd>TRUE</dd><dt>num_critic_for_reviews</dt><dd>FALSE</dd><dt>duration</dt><dd>FALSE</dd><dt>director_facebook_likes</dt><dd>FALSE</dd><dt>actor_3_facebook_likes</dt><dd>FALSE</dd><dt>actor_2_name</dt><dd>TRUE</dd><dt>actor_1_facebook_likes</dt><dd>FALSE</dd><dt>gross</dt><dd>FALSE</dd><dt>genres</dt><dd>TRUE</dd><dt>actor_1_name</dt><dd>TRUE</dd><dt>movie_title</dt><dd>TRUE</dd><dt>num_voted_users</dt><dd>FALSE</dd><dt>cast_total_facebook_likes</dt><dd>FALSE</dd><dt>actor_3_name</dt><dd>TRUE</dd><dt>facenumber_in_poster</dt><dd>FALSE</dd><dt>plot_keywords</dt><dd>TRUE</dd><dt>movie_imdb_link</dt><dd>TRUE</dd><dt>num_user_for_reviews</dt><dd>FALSE</dd><dt>language</dt><dd>TRUE</dd><dt>country</dt><dd>TRUE</dd><dt>content_rating</dt><dd>TRUE</dd><dt>budget</dt><dd>FALSE</dd><dt>title_year</dt><dd>FALSE</dd><dt>actor_2_facebook_likes</dt><dd>FALSE</dd><dt>imdb_score</dt><dd>FALSE</dd><dt>aspect_ratio</dt><dd>FALSE</dd><dt>movie_facebook_likes</dt><dd>FALSE</dd></dl>\n"
      ],
      "text/latex": [
       "\\begin{description*}\n",
       "\\item[color] TRUE\n",
       "\\item[director\\textbackslash{}\\_name] TRUE\n",
       "\\item[num\\textbackslash{}\\_critic\\textbackslash{}\\_for\\textbackslash{}\\_reviews] FALSE\n",
       "\\item[duration] FALSE\n",
       "\\item[director\\textbackslash{}\\_facebook\\textbackslash{}\\_likes] FALSE\n",
       "\\item[actor\\textbackslash{}\\_3\\textbackslash{}\\_facebook\\textbackslash{}\\_likes] FALSE\n",
       "\\item[actor\\textbackslash{}\\_2\\textbackslash{}\\_name] TRUE\n",
       "\\item[actor\\textbackslash{}\\_1\\textbackslash{}\\_facebook\\textbackslash{}\\_likes] FALSE\n",
       "\\item[gross] FALSE\n",
       "\\item[genres] TRUE\n",
       "\\item[actor\\textbackslash{}\\_1\\textbackslash{}\\_name] TRUE\n",
       "\\item[movie\\textbackslash{}\\_title] TRUE\n",
       "\\item[num\\textbackslash{}\\_voted\\textbackslash{}\\_users] FALSE\n",
       "\\item[cast\\textbackslash{}\\_total\\textbackslash{}\\_facebook\\textbackslash{}\\_likes] FALSE\n",
       "\\item[actor\\textbackslash{}\\_3\\textbackslash{}\\_name] TRUE\n",
       "\\item[facenumber\\textbackslash{}\\_in\\textbackslash{}\\_poster] FALSE\n",
       "\\item[plot\\textbackslash{}\\_keywords] TRUE\n",
       "\\item[movie\\textbackslash{}\\_imdb\\textbackslash{}\\_link] TRUE\n",
       "\\item[num\\textbackslash{}\\_user\\textbackslash{}\\_for\\textbackslash{}\\_reviews] FALSE\n",
       "\\item[language] TRUE\n",
       "\\item[country] TRUE\n",
       "\\item[content\\textbackslash{}\\_rating] TRUE\n",
       "\\item[budget] FALSE\n",
       "\\item[title\\textbackslash{}\\_year] FALSE\n",
       "\\item[actor\\textbackslash{}\\_2\\textbackslash{}\\_facebook\\textbackslash{}\\_likes] FALSE\n",
       "\\item[imdb\\textbackslash{}\\_score] FALSE\n",
       "\\item[aspect\\textbackslash{}\\_ratio] FALSE\n",
       "\\item[movie\\textbackslash{}\\_facebook\\textbackslash{}\\_likes] FALSE\n",
       "\\end{description*}\n"
      ],
      "text/markdown": [
       "color\n",
       ":   TRUEdirector_name\n",
       ":   TRUEnum_critic_for_reviews\n",
       ":   FALSEduration\n",
       ":   FALSEdirector_facebook_likes\n",
       ":   FALSEactor_3_facebook_likes\n",
       ":   FALSEactor_2_name\n",
       ":   TRUEactor_1_facebook_likes\n",
       ":   FALSEgross\n",
       ":   FALSEgenres\n",
       ":   TRUEactor_1_name\n",
       ":   TRUEmovie_title\n",
       ":   TRUEnum_voted_users\n",
       ":   FALSEcast_total_facebook_likes\n",
       ":   FALSEactor_3_name\n",
       ":   TRUEfacenumber_in_poster\n",
       ":   FALSEplot_keywords\n",
       ":   TRUEmovie_imdb_link\n",
       ":   TRUEnum_user_for_reviews\n",
       ":   FALSElanguage\n",
       ":   TRUEcountry\n",
       ":   TRUEcontent_rating\n",
       ":   TRUEbudget\n",
       ":   FALSEtitle_year\n",
       ":   FALSEactor_2_facebook_likes\n",
       ":   FALSEimdb_score\n",
       ":   FALSEaspect_ratio\n",
       ":   FALSEmovie_facebook_likes\n",
       ":   FALSE\n",
       "\n"
      ],
      "text/plain": [
       "                    color             director_name    num_critic_for_reviews \n",
       "                     TRUE                      TRUE                     FALSE \n",
       "                 duration   director_facebook_likes    actor_3_facebook_likes \n",
       "                    FALSE                     FALSE                     FALSE \n",
       "             actor_2_name    actor_1_facebook_likes                     gross \n",
       "                     TRUE                     FALSE                     FALSE \n",
       "                   genres              actor_1_name               movie_title \n",
       "                     TRUE                      TRUE                      TRUE \n",
       "          num_voted_users cast_total_facebook_likes              actor_3_name \n",
       "                    FALSE                     FALSE                      TRUE \n",
       "     facenumber_in_poster             plot_keywords           movie_imdb_link \n",
       "                    FALSE                      TRUE                      TRUE \n",
       "     num_user_for_reviews                  language                   country \n",
       "                    FALSE                      TRUE                      TRUE \n",
       "           content_rating                    budget                title_year \n",
       "                     TRUE                     FALSE                     FALSE \n",
       "   actor_2_facebook_likes                imdb_score              aspect_ratio \n",
       "                    FALSE                     FALSE                     FALSE \n",
       "     movie_facebook_likes \n",
       "                    FALSE "
      ]
     },
     "metadata": {},
     "output_type": "display_data"
    }
   ],
   "source": [
    "factor_variables_bool<-sapply(data[1,],class)==\"factor\"\n",
    "factor_variables_bool"
   ]
  },
  {
   "cell_type": "code",
   "execution_count": 7,
   "metadata": {
    "vscode": {
     "languageId": "r"
    }
   },
   "outputs": [
    {
     "data": {
      "text/html": [
       "<style>\n",
       ".dl-inline {width: auto; margin:0; padding: 0}\n",
       ".dl-inline>dt, .dl-inline>dd {float: none; width: auto; display: inline-block}\n",
       ".dl-inline>dt::after {content: \":\\0020\"; padding-right: .5ex}\n",
       ".dl-inline>dt:not(:first-of-type) {padding-left: .5ex}\n",
       "</style><dl class=dl-inline><dt>color</dt><dd>1</dd><dt>director_name</dt><dd>2</dd><dt>actor_2_name</dt><dd>7</dd><dt>genres</dt><dd>10</dd><dt>actor_1_name</dt><dd>11</dd><dt>movie_title</dt><dd>12</dd><dt>actor_3_name</dt><dd>15</dd><dt>plot_keywords</dt><dd>17</dd><dt>movie_imdb_link</dt><dd>18</dd><dt>language</dt><dd>20</dd><dt>country</dt><dd>21</dd><dt>content_rating</dt><dd>22</dd></dl>\n"
      ],
      "text/latex": [
       "\\begin{description*}\n",
       "\\item[color] 1\n",
       "\\item[director\\textbackslash{}\\_name] 2\n",
       "\\item[actor\\textbackslash{}\\_2\\textbackslash{}\\_name] 7\n",
       "\\item[genres] 10\n",
       "\\item[actor\\textbackslash{}\\_1\\textbackslash{}\\_name] 11\n",
       "\\item[movie\\textbackslash{}\\_title] 12\n",
       "\\item[actor\\textbackslash{}\\_3\\textbackslash{}\\_name] 15\n",
       "\\item[plot\\textbackslash{}\\_keywords] 17\n",
       "\\item[movie\\textbackslash{}\\_imdb\\textbackslash{}\\_link] 18\n",
       "\\item[language] 20\n",
       "\\item[country] 21\n",
       "\\item[content\\textbackslash{}\\_rating] 22\n",
       "\\end{description*}\n"
      ],
      "text/markdown": [
       "color\n",
       ":   1director_name\n",
       ":   2actor_2_name\n",
       ":   7genres\n",
       ":   10actor_1_name\n",
       ":   11movie_title\n",
       ":   12actor_3_name\n",
       ":   15plot_keywords\n",
       ":   17movie_imdb_link\n",
       ":   18language\n",
       ":   20country\n",
       ":   21content_rating\n",
       ":   22\n",
       "\n"
      ],
      "text/plain": [
       "          color   director_name    actor_2_name          genres    actor_1_name \n",
       "              1               2               7              10              11 \n",
       "    movie_title    actor_3_name   plot_keywords movie_imdb_link        language \n",
       "             12              15              17              18              20 \n",
       "        country  content_rating \n",
       "             21              22 "
      ]
     },
     "metadata": {},
     "output_type": "display_data"
    }
   ],
   "source": [
    "factor_variables<-which(sapply(data[1,],class)==\"factor\")\n",
    "factor_variables"
   ]
  },
  {
   "cell_type": "markdown",
   "metadata": {},
   "source": [
    "Remove categorical variables"
   ]
  },
  {
   "cell_type": "code",
   "execution_count": 8,
   "metadata": {
    "vscode": {
     "languageId": "r"
    }
   },
   "outputs": [
    {
     "data": {
      "text/plain": [
       " num_critic_for_reviews    duration   director_facebook_likes\n",
       " Min.   :  1.0          Min.   :  7   Min.   :    0.00       \n",
       " 1st Qu.: 48.0          1st Qu.: 93   1st Qu.:    6.75       \n",
       " Median :103.0          Median :103   Median :   44.00       \n",
       " Mean   :135.1          Mean   :106   Mean   :  669.26       \n",
       " 3rd Qu.:184.2          3rd Qu.:116   3rd Qu.:  204.75       \n",
       " Max.   :765.0          Max.   :511   Max.   :21000.00       \n",
       " NA's   :16             NA's   :4     NA's   :24             \n",
       " actor_3_facebook_likes actor_1_facebook_likes     gross          \n",
       " Min.   :    0.0        Min.   :    0          Min.   :      703  \n",
       " 1st Qu.:  120.0        1st Qu.:  623          1st Qu.:  5003486  \n",
       " Median :  395.0        Median :  979          Median : 25025352  \n",
       " Mean   :  602.2        Mean   : 5951          Mean   : 46927291  \n",
       " 3rd Qu.:  642.0        3rd Qu.:11000          3rd Qu.: 60549232  \n",
       " Max.   :19000.0        Max.   :49000          Max.   :658672302  \n",
       " NA's   :5              NA's   :3              NA's   :200        \n",
       " num_voted_users  cast_total_facebook_likes facenumber_in_poster\n",
       " Min.   :     5   Min.   :    0             Min.   : 0.000      \n",
       " 1st Qu.:  7110   1st Qu.: 1466             1st Qu.: 0.000      \n",
       " Median : 31625   Median : 3142             Median : 1.000      \n",
       " Mean   : 76398   Mean   : 9103             Mean   : 1.394      \n",
       " 3rd Qu.: 87767   3rd Qu.:13884             3rd Qu.: 2.000      \n",
       " Max.   :955174   Max.   :77823             Max.   :31.000      \n",
       "                                            NA's   :2           \n",
       " num_user_for_reviews     budget            title_year   actor_2_facebook_likes\n",
       " Min.   :   1.00      Min.   :     3250   Min.   :1916   Min.   :    0.0       \n",
       " 1st Qu.:  60.25      1st Qu.:  5000000   1st Qu.:1999   1st Qu.:  299.8       \n",
       " Median : 154.50      Median : 18013074   Median :2005   Median :  602.0       \n",
       " Mean   : 257.51      Mean   : 31645256   Mean   :2002   Mean   : 1720.3       \n",
       " 3rd Qu.: 316.00      3rd Qu.: 40000000   3rd Qu.:2011   3rd Qu.:  934.0       \n",
       " Max.   :3597.00      Max.   :260000000   Max.   :2016   Max.   :29000.0       \n",
       " NA's   :6            NA's   :104         NA's   :24     NA's   :4             \n",
       "   imdb_score     aspect_ratio    movie_facebook_likes\n",
       " Min.   :1.900   Min.   : 1.330   Min.   :     0      \n",
       " 1st Qu.:5.800   1st Qu.: 1.850   1st Qu.:     0      \n",
       " Median :6.500   Median : 2.350   Median :    65      \n",
       " Mean   :6.426   Mean   : 2.289   Mean   :  6947      \n",
       " 3rd Qu.:7.200   3rd Qu.: 2.350   3rd Qu.:  1000      \n",
       " Max.   :8.900   Max.   :16.000   Max.   :199000      \n",
       "                 NA's   :80                           "
      ]
     },
     "metadata": {},
     "output_type": "display_data"
    }
   ],
   "source": [
    "data_preprocessed<-data[,-factor_variables]\n",
    "summary(data_preprocessed)"
   ]
  },
  {
   "cell_type": "markdown",
   "metadata": {},
   "source": [
    "### Replace NA values with mean values"
   ]
  },
  {
   "cell_type": "code",
   "execution_count": 9,
   "metadata": {
    "vscode": {
     "languageId": "r"
    }
   },
   "outputs": [],
   "source": [
    "replace_na_with_mean_value<-function(vec) {\n",
    "    mean_vec<-mean(vec,na.rm=T)\n",
    "    vec[is.na(vec)]<-mean_vec\n",
    "    vec\n",
    "}"
   ]
  },
  {
   "cell_type": "code",
   "execution_count": 10,
   "metadata": {
    "vscode": {
     "languageId": "r"
    }
   },
   "outputs": [
    {
     "data": {
      "text/plain": [
       " num_critic_for_reviews    duration   director_facebook_likes\n",
       " Min.   :  1.0          Min.   :  7   Min.   :    0.0        \n",
       " 1st Qu.: 48.0          1st Qu.: 93   1st Qu.:    7.0        \n",
       " Median :105.5          Median :103   Median :   48.5        \n",
       " Mean   :135.1          Mean   :106   Mean   :  669.3        \n",
       " 3rd Qu.:181.0          3rd Qu.:116   3rd Qu.:  234.0        \n",
       " Max.   :765.0          Max.   :511   Max.   :21000.0        \n",
       " actor_3_facebook_likes actor_1_facebook_likes     gross          \n",
       " Min.   :    0.0        Min.   :    0.0        Min.   :      703  \n",
       " 1st Qu.:  120.0        1st Qu.:  623.8        1st Qu.:  9158619  \n",
       " Median :  397.5        Median :  982.0        Median : 38108330  \n",
       " Mean   :  602.2        Mean   : 5950.9        Mean   : 46927291  \n",
       " 3rd Qu.:  642.0        3rd Qu.:11000.0        3rd Qu.: 47159944  \n",
       " Max.   :19000.0        Max.   :49000.0        Max.   :658672302  \n",
       " num_voted_users  cast_total_facebook_likes facenumber_in_poster\n",
       " Min.   :     5   Min.   :    0             Min.   : 0.000      \n",
       " 1st Qu.:  7110   1st Qu.: 1466             1st Qu.: 0.000      \n",
       " Median : 31625   Median : 3142             Median : 1.000      \n",
       " Mean   : 76398   Mean   : 9103             Mean   : 1.394      \n",
       " 3rd Qu.: 87767   3rd Qu.:13884             3rd Qu.: 2.000      \n",
       " Max.   :955174   Max.   :77823             Max.   :31.000      \n",
       " num_user_for_reviews     budget            title_year   actor_2_facebook_likes\n",
       " Min.   :   1.0       Min.   :     3250   Min.   :1916   Min.   :    0.0       \n",
       " 1st Qu.:  61.0       1st Qu.:  6500000   1st Qu.:1999   1st Qu.:  301.5       \n",
       " Median : 156.0       Median : 22000000   Median :2005   Median :  605.0       \n",
       " Mean   : 257.5       Mean   : 31645256   Mean   :2002   Mean   : 1720.3       \n",
       " 3rd Qu.: 315.2       3rd Qu.: 37000000   3rd Qu.:2010   3rd Qu.:  936.5       \n",
       " Max.   :3597.0       Max.   :260000000   Max.   :2016   Max.   :29000.0       \n",
       "   imdb_score     aspect_ratio    movie_facebook_likes\n",
       " Min.   :1.900   Min.   : 1.330   Min.   :     0      \n",
       " 1st Qu.:5.800   1st Qu.: 1.850   1st Qu.:     0      \n",
       " Median :6.500   Median : 2.289   Median :    65      \n",
       " Mean   :6.426   Mean   : 2.289   Mean   :  6947      \n",
       " 3rd Qu.:7.200   3rd Qu.: 2.350   3rd Qu.:  1000      \n",
       " Max.   :8.900   Max.   :16.000   Max.   :199000      "
      ]
     },
     "metadata": {},
     "output_type": "display_data"
    }
   ],
   "source": [
    "data_preprocessed<-data.frame(apply(data_preprocessed,2,replace_na_with_mean_value))\n",
    "summary(data_preprocessed)"
   ]
  },
  {
   "cell_type": "markdown",
   "metadata": {},
   "source": [
    "### Input and output variables"
   ]
  },
  {
   "cell_type": "markdown",
   "metadata": {},
   "source": [
    "The output variable (Y) is the `imdb_score`, and all other variables (X) are considered as inputs."
   ]
  },
  {
   "cell_type": "code",
   "execution_count": 11,
   "metadata": {
    "vscode": {
     "languageId": "r"
    }
   },
   "outputs": [
    {
     "data": {
      "text/html": [
       "<style>\n",
       ".list-inline {list-style: none; margin:0; padding: 0}\n",
       ".list-inline>li {display: inline-block}\n",
       ".list-inline>li:not(:last-child)::after {content: \"\\00b7\"; padding: 0 .5ex}\n",
       "</style>\n",
       "<ol class=list-inline><li>'num_critic_for_reviews'</li><li>'duration'</li><li>'director_facebook_likes'</li><li>'actor_3_facebook_likes'</li><li>'actor_1_facebook_likes'</li><li>'gross'</li><li>'num_voted_users'</li><li>'cast_total_facebook_likes'</li><li>'facenumber_in_poster'</li><li>'num_user_for_reviews'</li><li>'budget'</li><li>'title_year'</li><li>'actor_2_facebook_likes'</li><li>'imdb_score'</li><li>'aspect_ratio'</li><li>'movie_facebook_likes'</li></ol>\n"
      ],
      "text/latex": [
       "\\begin{enumerate*}\n",
       "\\item 'num\\_critic\\_for\\_reviews'\n",
       "\\item 'duration'\n",
       "\\item 'director\\_facebook\\_likes'\n",
       "\\item 'actor\\_3\\_facebook\\_likes'\n",
       "\\item 'actor\\_1\\_facebook\\_likes'\n",
       "\\item 'gross'\n",
       "\\item 'num\\_voted\\_users'\n",
       "\\item 'cast\\_total\\_facebook\\_likes'\n",
       "\\item 'facenumber\\_in\\_poster'\n",
       "\\item 'num\\_user\\_for\\_reviews'\n",
       "\\item 'budget'\n",
       "\\item 'title\\_year'\n",
       "\\item 'actor\\_2\\_facebook\\_likes'\n",
       "\\item 'imdb\\_score'\n",
       "\\item 'aspect\\_ratio'\n",
       "\\item 'movie\\_facebook\\_likes'\n",
       "\\end{enumerate*}\n"
      ],
      "text/markdown": [
       "1. 'num_critic_for_reviews'\n",
       "2. 'duration'\n",
       "3. 'director_facebook_likes'\n",
       "4. 'actor_3_facebook_likes'\n",
       "5. 'actor_1_facebook_likes'\n",
       "6. 'gross'\n",
       "7. 'num_voted_users'\n",
       "8. 'cast_total_facebook_likes'\n",
       "9. 'facenumber_in_poster'\n",
       "10. 'num_user_for_reviews'\n",
       "11. 'budget'\n",
       "12. 'title_year'\n",
       "13. 'actor_2_facebook_likes'\n",
       "14. 'imdb_score'\n",
       "15. 'aspect_ratio'\n",
       "16. 'movie_facebook_likes'\n",
       "\n",
       "\n"
      ],
      "text/plain": [
       " [1] \"num_critic_for_reviews\"    \"duration\"                 \n",
       " [3] \"director_facebook_likes\"   \"actor_3_facebook_likes\"   \n",
       " [5] \"actor_1_facebook_likes\"    \"gross\"                    \n",
       " [7] \"num_voted_users\"           \"cast_total_facebook_likes\"\n",
       " [9] \"facenumber_in_poster\"      \"num_user_for_reviews\"     \n",
       "[11] \"budget\"                    \"title_year\"               \n",
       "[13] \"actor_2_facebook_likes\"    \"imdb_score\"               \n",
       "[15] \"aspect_ratio\"              \"movie_facebook_likes\"     "
      ]
     },
     "metadata": {},
     "output_type": "display_data"
    }
   ],
   "source": [
    "colnames(data_preprocessed)"
   ]
  },
  {
   "cell_type": "code",
   "execution_count": 12,
   "metadata": {
    "vscode": {
     "languageId": "r"
    }
   },
   "outputs": [
    {
     "data": {
      "text/html": [
       "<style>\n",
       ".list-inline {list-style: none; margin:0; padding: 0}\n",
       ".list-inline>li {display: inline-block}\n",
       ".list-inline>li:not(:last-child)::after {content: \"\\00b7\"; padding: 0 .5ex}\n",
       "</style>\n",
       "<ol class=list-inline><li>'num_critic_for_reviews'</li><li>'duration'</li><li>'director_facebook_likes'</li><li>'actor_3_facebook_likes'</li><li>'actor_1_facebook_likes'</li><li>'gross'</li><li>'num_voted_users'</li><li>'cast_total_facebook_likes'</li><li>'facenumber_in_poster'</li><li>'num_user_for_reviews'</li><li>'budget'</li><li>'title_year'</li><li>'actor_2_facebook_likes'</li><li>'aspect_ratio'</li><li>'movie_facebook_likes'</li></ol>\n"
      ],
      "text/latex": [
       "\\begin{enumerate*}\n",
       "\\item 'num\\_critic\\_for\\_reviews'\n",
       "\\item 'duration'\n",
       "\\item 'director\\_facebook\\_likes'\n",
       "\\item 'actor\\_3\\_facebook\\_likes'\n",
       "\\item 'actor\\_1\\_facebook\\_likes'\n",
       "\\item 'gross'\n",
       "\\item 'num\\_voted\\_users'\n",
       "\\item 'cast\\_total\\_facebook\\_likes'\n",
       "\\item 'facenumber\\_in\\_poster'\n",
       "\\item 'num\\_user\\_for\\_reviews'\n",
       "\\item 'budget'\n",
       "\\item 'title\\_year'\n",
       "\\item 'actor\\_2\\_facebook\\_likes'\n",
       "\\item 'aspect\\_ratio'\n",
       "\\item 'movie\\_facebook\\_likes'\n",
       "\\end{enumerate*}\n"
      ],
      "text/markdown": [
       "1. 'num_critic_for_reviews'\n",
       "2. 'duration'\n",
       "3. 'director_facebook_likes'\n",
       "4. 'actor_3_facebook_likes'\n",
       "5. 'actor_1_facebook_likes'\n",
       "6. 'gross'\n",
       "7. 'num_voted_users'\n",
       "8. 'cast_total_facebook_likes'\n",
       "9. 'facenumber_in_poster'\n",
       "10. 'num_user_for_reviews'\n",
       "11. 'budget'\n",
       "12. 'title_year'\n",
       "13. 'actor_2_facebook_likes'\n",
       "14. 'aspect_ratio'\n",
       "15. 'movie_facebook_likes'\n",
       "\n",
       "\n"
      ],
      "text/plain": [
       " [1] \"num_critic_for_reviews\"    \"duration\"                 \n",
       " [3] \"director_facebook_likes\"   \"actor_3_facebook_likes\"   \n",
       " [5] \"actor_1_facebook_likes\"    \"gross\"                    \n",
       " [7] \"num_voted_users\"           \"cast_total_facebook_likes\"\n",
       " [9] \"facenumber_in_poster\"      \"num_user_for_reviews\"     \n",
       "[11] \"budget\"                    \"title_year\"               \n",
       "[13] \"actor_2_facebook_likes\"    \"aspect_ratio\"             \n",
       "[15] \"movie_facebook_likes\"     "
      ]
     },
     "metadata": {},
     "output_type": "display_data"
    }
   ],
   "source": [
    "setdiff(colnames(data_preprocessed),\"imdb_score\")"
   ]
  },
  {
   "cell_type": "code",
   "execution_count": 13,
   "metadata": {
    "vscode": {
     "languageId": "r"
    }
   },
   "outputs": [],
   "source": [
    "options(repr.plot.width=20, repr.plot.height=10)\n",
    "set.seed(3)\n",
    "\n",
    "X<-data_preprocessed[,setdiff(colnames(data_preprocessed),\"imdb_score\")]\n",
    "Y<-data_preprocessed[,\"imdb_score\"]\n",
    "\n",
    "N<-nrow(X)    #Number of examples\n",
    "n<-ncol(X)    #Number of input variables\n"
   ]
  },
  {
   "cell_type": "markdown",
   "metadata": {},
   "source": [
    "Distribution of the `imdb_score`"
   ]
  },
  {
   "cell_type": "code",
   "execution_count": 14,
   "metadata": {
    "vscode": {
     "languageId": "r"
    }
   },
   "outputs": [
    {
     "data": {
      "image/png": "[encoded data removed]",
      "text/plain": [
       "Plot with title \"Histogram of Y\""
      ]
     },
     "metadata": {
      "image/png": {
       "height": 600,
       "width": 1200
      }
     },
     "output_type": "display_data"
    }
   ],
   "source": [
    "hist(Y)"
   ]
  },
  {
   "cell_type": "code",
   "execution_count": 15,
   "metadata": {
    "vscode": {
     "languageId": "r"
    }
   },
   "outputs": [
    {
     "data": {
      "text/html": [
       "6.4255"
      ],
      "text/latex": [
       "6.4255"
      ],
      "text/markdown": [
       "6.4255"
      ],
      "text/plain": [
       "[1] 6.4255"
      ]
     },
     "metadata": {},
     "output_type": "display_data"
    }
   ],
   "source": [
    "mean(Y)"
   ]
  },
  {
   "cell_type": "code",
   "execution_count": 16,
   "metadata": {
    "vscode": {
     "languageId": "r"
    }
   },
   "outputs": [
    {
     "data": {
      "text/html": [
       "1.2469466966967"
      ],
      "text/latex": [
       "1.2469466966967"
      ],
      "text/markdown": [
       "1.2469466966967"
      ],
      "text/plain": [
       "[1] 1.246947"
      ]
     },
     "metadata": {},
     "output_type": "display_data"
    }
   ],
   "source": [
    "var(Y)"
   ]
  },
  {
   "cell_type": "markdown",
   "metadata": {},
   "source": [
    "### 1) Modelling with linear and decision tree models\n",
    "\n",
    "#### Linear model"
   ]
  },
  {
   "cell_type": "markdown",
   "metadata": {},
   "source": [
    "* Let us create a linear model for predicting the IMDB score on the basis of the other variables, and compute its empricial mean square error"
   ]
  },
  {
   "cell_type": "code",
   "execution_count": 17,
   "metadata": {
    "vscode": {
     "languageId": "r"
    }
   },
   "outputs": [
    {
     "name": "stdout",
     "output_type": "stream",
     "text": [
      "[1] \"Empirical error= 0.9084\"\n"
     ]
    }
   ],
   "source": [
    "DS<-cbind(X,imdb_score=Y)\n",
    "    \n",
    "model<- lm(imdb_score~.,DS) ### Fill with your code here\n",
    "        \n",
    "Y_hat<- predict(model,X)\n",
    "        \n",
    "empirical_error<-mean((Y_hat-Y)^2) ### Fill with your code here\n",
    "\n",
    "print(paste(\"Empirical error=\",round(empirical_error,digits=4)))\n",
    "\n"
   ]
  },
  {
   "cell_type": "markdown",
   "metadata": {},
   "source": [
    "* Which input variables are statistically correlated with the output?"
   ]
  },
  {
   "cell_type": "code",
   "execution_count": 18,
   "metadata": {
    "vscode": {
     "languageId": "r"
    }
   },
   "outputs": [
    {
     "data": {
      "text/plain": [
       "\n",
       "Call:\n",
       "lm(formula = imdb_score ~ ., data = DS)\n",
       "\n",
       "Residuals:\n",
       "    Min      1Q  Median      3Q     Max \n",
       "-4.0647 -0.5016  0.0481  0.6020  2.7334 \n",
       "\n",
       "Coefficients:\n",
       "                            Estimate Std. Error t value Pr(>|t|)    \n",
       "(Intercept)                4.677e+01  5.394e+00   8.670  < 2e-16 ***\n",
       "num_critic_for_reviews     2.123e-03  4.381e-04   4.845 1.47e-06 ***\n",
       "duration                   4.324e-03  1.266e-03   3.416 0.000661 ***\n",
       "director_facebook_likes   -1.463e-06  1.173e-05  -0.125 0.900836    \n",
       "actor_3_facebook_likes     9.516e-05  5.313e-05   1.791 0.073619 .  \n",
       "actor_1_facebook_likes     9.347e-05  3.055e-05   3.060 0.002275 ** \n",
       "gross                     -9.636e-10  7.420e-10  -1.299 0.194388    \n",
       "num_voted_users            3.512e-06  5.086e-07   6.905 8.98e-12 ***\n",
       "cast_total_facebook_likes -9.161e-05  2.964e-05  -3.091 0.002050 ** \n",
       "facenumber_in_poster      -1.959e-02  1.446e-02  -1.354 0.175903    \n",
       "num_user_for_reviews      -3.360e-04  1.503e-04  -2.235 0.025667 *  \n",
       "budget                    -3.423e-09  1.110e-09  -3.084 0.002103 ** \n",
       "title_year                -2.056e-02  2.688e-03  -7.647 4.88e-14 ***\n",
       "actor_2_facebook_likes     1.080e-04  3.176e-05   3.400 0.000701 ***\n",
       "aspect_ratio               4.232e-02  1.943e-02   2.178 0.029645 *  \n",
       "movie_facebook_likes       1.519e-06  2.396e-06   0.634 0.526130    \n",
       "---\n",
       "Signif. codes:  0 '***' 0.001 '**' 0.01 '*' 0.05 '.' 0.1 ' ' 1\n",
       "\n",
       "Residual standard error: 0.9608 on 984 degrees of freedom\n",
       "Multiple R-squared:  0.2708,\tAdjusted R-squared:  0.2597 \n",
       "F-statistic: 24.36 on 15 and 984 DF,  p-value: < 2.2e-16\n"
      ]
     },
     "metadata": {},
     "output_type": "display_data"
    }
   ],
   "source": [
    "summary(model)"
   ]
  },
  {
   "cell_type": "markdown",
   "metadata": {},
   "source": [
    "* Compute the validation error with a 10-fold cross-validation"
   ]
  },
  {
   "cell_type": "code",
   "execution_count": 19,
   "metadata": {
    "vscode": {
     "languageId": "r"
    }
   },
   "outputs": [
    {
     "name": "stdout",
     "output_type": "stream",
     "text": [
      "[1] \"CV error= 0.9482  ; std dev= 0.1812\"\n"
     ]
    }
   ],
   "source": [
    "CV_folds <- 10\n",
    "\n",
    "size_CV <-floor(N/CV_folds)\n",
    "\n",
    "CV_err<-numeric(CV_folds)\n",
    "\n",
    "for (i in 1:CV_folds) {\n",
    "     idx_ts<-(((i-1)*size_CV+1):(i*size_CV))  ### idx_ts represents the indices of the test set the i-th fold\n",
    "     X_ts<-X[idx_ts,]  \n",
    "     Y_ts<-Y[idx_ts]  \n",
    "     \n",
    "     idx_tr<-setdiff(1:N,idx_ts) ### idx_tr represents  indices of the training sefor the i-th fold\n",
    "     X_tr<-X[idx_tr,]\n",
    "     Y_tr<-Y[idx_tr]                          \n",
    "     \n",
    "     DS<-cbind(X_tr,imdb_score=Y_tr)\n",
    "    \n",
    "     # Model fit (using lm function)\n",
    "     model<- lm(imdb_score~.,DS)\n",
    "     \n",
    "     # Model prediction \n",
    "     Y_hat_ts<- predict(model,X_ts)\n",
    "     \n",
    "     # Cross validation error = Mean Squared Error\n",
    "     CV_err[i]<-mean((Y_hat_ts-Y_ts)^2)\n",
    "}\n",
    "    \n",
    "\n",
    "print(paste(\"CV error=\",round(mean(CV_err),digits=4), \" ; std dev=\",round(sd(CV_err),digits=4)))\n",
    "\n",
    "CV_err_lm_single_model <- CV_err"
   ]
  },
  {
   "cell_type": "markdown",
   "metadata": {},
   "source": [
    "#### Decision tree"
   ]
  },
  {
   "cell_type": "markdown",
   "metadata": {},
   "source": [
    "* Modify the previous code to compute the empirical error using a decision tree model. Use the rpart package (see `?rpart` for help)"
   ]
  },
  {
   "cell_type": "code",
   "execution_count": 20,
   "metadata": {
    "vscode": {
     "languageId": "r"
    }
   },
   "outputs": [
    {
     "name": "stderr",
     "output_type": "stream",
     "text": [
      "Warning message:\n",
      "\"package 'rpart' was built under R version 4.0.4\"\n"
     ]
    }
   ],
   "source": [
    "library(rpart)       ### Run install.packages(\"rpart\") to install"
   ]
  },
  {
   "cell_type": "code",
   "execution_count": 21,
   "metadata": {
    "vscode": {
     "languageId": "r"
    }
   },
   "outputs": [
    {
     "name": "stdout",
     "output_type": "stream",
     "text": [
      "[1] \"Empirical error= 0.6665\"\n"
     ]
    }
   ],
   "source": [
    "DS<-cbind(X,imdb_score=Y)\n",
    "\n",
    "model<- rpart(imdb_score~.,DS) ### Fill with you code here\n",
    "        \n",
    "Y_hat<- predict(model,X)\n",
    "        \n",
    "empirical_error<-mean((Y_hat-Y)^2) \n",
    "\n",
    "print(paste(\"Empirical error=\",round(empirical_error,digits=4)))\n",
    "\n"
   ]
  },
  {
   "cell_type": "markdown",
   "metadata": {},
   "source": [
    "* Plot the resulting tree using the `prp` function from the library `rpart.plot`"
   ]
  },
  {
   "cell_type": "code",
   "execution_count": 22,
   "metadata": {
    "vscode": {
     "languageId": "r"
    }
   },
   "outputs": [
    {
     "name": "stderr",
     "output_type": "stream",
     "text": [
      "Warning message:\n",
      "\"package 'rpart.plot' was built under R version 4.0.5\"\n"
     ]
    }
   ],
   "source": [
    "library(rpart.plot)  ### Run install.packages(\"rpart.plot\") to install"
   ]
  },
  {
   "cell_type": "code",
   "execution_count": 23,
   "metadata": {
    "vscode": {
     "languageId": "r"
    }
   },
   "outputs": [
    {
     "data": {
      "image/png": "[encoded data removed]",
      "text/plain": [
       "plot without title"
      ]
     },
     "metadata": {
      "image/png": {
       "height": 600,
       "width": 1200
      }
     },
     "output_type": "display_data"
    }
   ],
   "source": [
    "prp(model)"
   ]
  },
  {
   "cell_type": "markdown",
   "metadata": {},
   "source": [
    "* What is the 10-fold cross-validation error using a decision tree model?"
   ]
  },
  {
   "cell_type": "code",
   "execution_count": 24,
   "metadata": {
    "vscode": {
     "languageId": "r"
    }
   },
   "outputs": [
    {
     "name": "stdout",
     "output_type": "stream",
     "text": [
      "[1] \"CV error= 0.9657  ; std dev= 0.1711\"\n"
     ]
    }
   ],
   "source": [
    "CV_folds <- 10\n",
    "\n",
    "size_CV <-floor(N/CV_folds)\n",
    "\n",
    "CV_err<-numeric(CV_folds)\n",
    "\n",
    "for (i in 1:CV_folds) {\n",
    "     idx_ts<-(((i-1)*size_CV+1):(i*size_CV))  ### idx_ts represents the indices of the test set the i-th fold\n",
    "     X_ts<-X[idx_ts,]  \n",
    "     Y_ts<-Y[idx_ts]  \n",
    "     \n",
    "     idx_tr<-setdiff(1:N,idx_ts) ### idx_tr represents  indices of the training sefor the i-th fold\n",
    "     X_tr<-X[idx_tr,]\n",
    "     Y_tr<-Y[idx_tr]                          \n",
    "     \n",
    "     DS<-cbind(X_tr,imdb_score=Y_tr)\n",
    "    \n",
    "     # Model fit (using rpart function)\n",
    "     model<- rpart(imdb_score~.,DS)\n",
    "     \n",
    "     # Model prediction \n",
    "     Y_hat_ts<- predict(model,X_ts)\n",
    "     \n",
    "     # Cross validation error = Mean Squared Error\n",
    "     CV_err[i]<-mean((Y_hat_ts-Y_ts)^2)\n",
    "}\n",
    "    \n",
    "\n",
    "print(paste(\"CV error=\",round(mean(CV_err),digits=4), \" ; std dev=\",round(sd(CV_err),digits=4)))\n",
    "\n",
    "CV_err_rpart_single_model <- CV_err"
   ]
  },
  {
   "cell_type": "markdown",
   "metadata": {},
   "source": [
    "## 2) Ensemble of models"
   ]
  },
  {
   "cell_type": "markdown",
   "metadata": {},
   "source": [
    "Let us now create an ensemble of $R$ linear models to make predictions. Complete the code below so that:\n",
    "\n",
    "* The training set is resampled before building a model\n",
    "* The predictions of all model are averaged before testing"
   ]
  },
  {
   "cell_type": "code",
   "execution_count": 25,
   "metadata": {
    "vscode": {
     "languageId": "r"
    }
   },
   "outputs": [
    {
     "name": "stdout",
     "output_type": "stream",
     "text": [
      "[1] \"CV error= 0.9511  ; std dev= 0.1811\"\n"
     ]
    }
   ],
   "source": [
    "CV_folds <- 10\n",
    "R<-20\n",
    "\n",
    "size_CV <-floor(N/CV_folds)\n",
    "\n",
    "CV_err<-numeric(CV_folds)\n",
    "\n",
    "for (i in 1:CV_folds) {\n",
    "     idx_ts<-(((i-1)*size_CV+1):(i*size_CV))  ### idx_ts represents the indices of the test set the i-th fold\n",
    "     X_ts<-X[idx_ts,]  \n",
    "     Y_ts<-Y[idx_ts]  \n",
    "     \n",
    "     idx_tr<-setdiff(1:N,idx_ts) ### idx_tr represents  indices of the training sefor the i-th fold\n",
    "     X_tr<-X[idx_tr,]\n",
    "     Y_tr<-Y[idx_tr]                          \n",
    "     \n",
    "    # The predictions of each individual model is stored as\n",
    "    # a column of the Y_hat_ts_ensemble matrix\n",
    "     Y_hat_ts_ensemble <- matrix(0,nrow=nrow(X_ts),ncol=R) \n",
    "      \n",
    "     for (r in 1:R) {\n",
    "         idx_tr_resample <- sample(idx_tr,rep=T)\n",
    "         X_tr<-X[idx_tr_resample,]\n",
    "         Y_tr<-Y[idx_tr_resample]                          \n",
    "     \n",
    "         DS<-cbind(X_tr,imdb_score=Y_tr)\n",
    "    \n",
    "         # Model fit (using lm function)\n",
    "         model<- lm(imdb_score~.,DS)\n",
    "        \n",
    "         # Storing prediction for the r^th model\n",
    "         Y_hat_ts_ensemble[,r]<- predict(model,X_ts)\n",
    "     \n",
    "     }\n",
    "    \n",
    "     #Computing ensemble prediction (via model averaging)\n",
    "     Y_hat_ts<-apply(Y_hat_ts_ensemble,1,mean)\n",
    "    \n",
    "     # Computation of CV error = MSE\n",
    "     CV_err[i]<-mean((Y_hat_ts-Y_ts)^2)\n",
    "     }\n",
    "\n",
    "print(paste(\"CV error=\",round(mean(CV_err),digits=4), \" ; std dev=\",round(sd(CV_err),digits=4)))\n",
    "\n",
    "CV_err_lm_ensemble_model <- CV_err"
   ]
  },
  {
   "cell_type": "markdown",
   "metadata": {},
   "source": [
    "* Is the CV error lower than with a single linear model?"
   ]
  },
  {
   "cell_type": "code",
   "execution_count": 26,
   "metadata": {
    "vscode": {
     "languageId": "r"
    }
   },
   "outputs": [
    {
     "data": {
      "text/html": [
       "FALSE"
      ],
      "text/latex": [
       "FALSE"
      ],
      "text/markdown": [
       "FALSE"
      ],
      "text/plain": [
       "[1] FALSE"
      ]
     },
     "metadata": {},
     "output_type": "display_data"
    }
   ],
   "source": [
    "mean(CV_err_lm_ensemble_model) < mean(CV_err_lm_single_model)"
   ]
  },
  {
   "cell_type": "markdown",
   "metadata": {},
   "source": [
    "* Use a decision tree as the base model. Is the CV error lower?"
   ]
  },
  {
   "cell_type": "code",
   "execution_count": 27,
   "metadata": {
    "vscode": {
     "languageId": "r"
    }
   },
   "outputs": [
    {
     "name": "stdout",
     "output_type": "stream",
     "text": [
      "[1] \"CV error= 0.7982  ; std dev= 0.1428\"\n"
     ]
    }
   ],
   "source": [
    "CV_folds <- 10\n",
    "R<-20\n",
    "\n",
    "size_CV <-floor(N/CV_folds)\n",
    "\n",
    "CV_err<-numeric(CV_folds)\n",
    "\n",
    "for (i in 1:CV_folds) {\n",
    "     idx_ts<-(((i-1)*size_CV+1):(i*size_CV))  ### idx_ts represents the indices of the test set the i-th fold\n",
    "     X_ts<-X[idx_ts,]  \n",
    "     Y_ts<-Y[idx_ts]  \n",
    "     \n",
    "     idx_tr<-setdiff(1:N,idx_ts) ### idx_tr represents  indices of the training sefor the i-th fold\n",
    "     X_tr<-X[idx_tr,]\n",
    "     Y_tr<-Y[idx_tr]                          \n",
    "     \n",
    "    # The predictions of each individual model is stored as\n",
    "    # a column of the Y_hat_ts_ensemble matrix\n",
    "     Y_hat_ts_ensemble <- matrix(0,nrow=nrow(X_ts),ncol=R) \n",
    "      \n",
    "     for (r in 1:R) {\n",
    "         idx_tr_resample <- sample(idx_tr,rep=T)\n",
    "         X_tr<-X[idx_tr_resample,]\n",
    "         Y_tr<-Y[idx_tr_resample]                          \n",
    "     \n",
    "         DS<-cbind(X_tr,imdb_score=Y_tr)\n",
    "    \n",
    "         # Model fit (using rpart function)\n",
    "         model<- rpart(imdb_score~.,DS)\n",
    "        \n",
    "         # Storing prediction for the r^th model\n",
    "         Y_hat_ts_ensemble[,r]<- predict(model,X_ts)\n",
    "     \n",
    "     }\n",
    "    \n",
    "     #Computing ensemble prediction (via model averaging)\n",
    "     Y_hat_ts<-apply(Y_hat_ts_ensemble,1,mean)\n",
    "    \n",
    "     # Computation of CV error = MSE\n",
    "     CV_err[i]<-mean((Y_hat_ts-Y_ts)^2)\n",
    "     }\n",
    "\n",
    "print(paste(\"CV error=\",round(mean(CV_err),digits=4), \" ; std dev=\",round(sd(CV_err),digits=4)))\n",
    "\n",
    "CV_err_rpart_ensemble_model <- CV_err"
   ]
  },
  {
   "cell_type": "markdown",
   "metadata": {},
   "source": [
    "* Is the CV error lower than with a single tree-based model?"
   ]
  },
  {
   "cell_type": "code",
   "execution_count": 28,
   "metadata": {
    "vscode": {
     "languageId": "r"
    }
   },
   "outputs": [
    {
     "data": {
      "text/html": [
       "TRUE"
      ],
      "text/latex": [
       "TRUE"
      ],
      "text/markdown": [
       "TRUE"
      ],
      "text/plain": [
       "[1] TRUE"
      ]
     },
     "metadata": {},
     "output_type": "display_data"
    }
   ],
   "source": [
    "mean(CV_err_rpart_ensemble_model) < mean(CV_err_rpart_single_model)"
   ]
  },
  {
   "cell_type": "markdown",
   "metadata": {},
   "source": [
    "## 3) Feature selection\n",
    "\n",
    "Two are the main approaches to feature selection:\n",
    "\n",
    "\n",
    "* **Filter methods:** they are preprocessing methods. They attempt to\n",
    "assess the merits of features from the data, ignoring the effects of\n",
    "the selected feature subset on the performance of the learning\n",
    "algorithm. Examples are methods that select variables by ranking them\n",
    "through compression techniques (like PCA), or by computing correlation or a more advanced similarity measure such as minimum redundancy maximum relevance (mRMR) with the output.\n",
    "\n",
    "*  **Wrapper methods:** these methods assess subsets of variables\n",
    "according to their usefulness to a given predictor. The method\n",
    "conducts a search for a good subset using the learning algorithm\n",
    "itself as part of the evaluation function. The problem boils \n",
    "down to a problem of stochastic state space search. Example\n",
    "are the stepwise methods proposed in linear regression analysis.\n",
    "\n"
   ]
  },
  {
   "cell_type": "markdown",
   "metadata": {},
   "source": [
    "### Filter methods"
   ]
  },
  {
   "cell_type": "markdown",
   "metadata": {},
   "source": [
    "#### Correlation with the output\n",
    "\n",
    "* The following code performs features selection by keeping the most correlated variables with the output. Compare the results for linear models and decision trees. What are the smallest CV errors, and how many features were needed?\n"
   ]
  },
  {
   "cell_type": "code",
   "execution_count": 29,
   "metadata": {
    "vscode": {
     "languageId": "r"
    }
   },
   "outputs": [
    {
     "name": "stdout",
     "output_type": "stream",
     "text": [
      " [1] \"#Features:  1  ; CV error= 1.047  ; std dev= 0.1913\"  \n",
      " [2] \"#Features:  2  ; CV error= 1.0434  ; std dev= 0.1879\" \n",
      " [3] \"#Features:  3  ; CV error= 1.0388  ; std dev= 0.1879\" \n",
      " [4] \"#Features:  4  ; CV error= 1.0422  ; std dev= 0.1869\" \n",
      " [5] \"#Features:  5  ; CV error= 1.0216  ; std dev= 0.1637\" \n",
      " [6] \"#Features:  6  ; CV error= 0.9628  ; std dev= 0.1894\" \n",
      " [7] \"#Features:  7  ; CV error= 0.9532  ; std dev= 0.1825\" \n",
      " [8] \"#Features:  8  ; CV error= 0.9542  ; std dev= 0.1837\" \n",
      " [9] \"#Features:  9  ; CV error= 0.9567  ; std dev= 0.1822\" \n",
      "[10] \"#Features:  10  ; CV error= 0.9493  ; std dev= 0.1862\"\n",
      "[11] \"#Features:  11  ; CV error= 0.9522  ; std dev= 0.1864\"\n",
      "[12] \"#Features:  12  ; CV error= 0.9595  ; std dev= 0.1825\"\n",
      "[13] \"#Features:  13  ; CV error= 0.9547  ; std dev= 0.1869\"\n",
      "[14] \"#Features:  14  ; CV error= 0.9519  ; std dev= 0.1845\"\n",
      "[15] \"#Features:  15  ; CV error= 0.9482  ; std dev= 0.1812\"\n"
     ]
    }
   ],
   "source": [
    "# drop = F is used to preserve the structure of the data as data.frame (see https://www.r-bloggers.com/2018/02/r-tip-use-drop-false-with-data-frames/)\n",
    "CV_folds <- 10\n",
    "\n",
    "size_CV <-floor(N/CV_folds)\n",
    "\n",
    "CV_err<-matrix(0,nrow=n,ncol=CV_folds)\n",
    "\n",
    "for (i in 1:CV_folds) {\n",
    "    \n",
    "    idx_ts<-(((i-1)*size_CV+1):(i*size_CV))  ### idx_ts represents the indices of the test set the i-th fold\n",
    "    X_ts<-X[idx_ts,]  \n",
    "    Y_ts<-Y[idx_ts]  \n",
    "     \n",
    "    idx_tr<-setdiff(1:N,idx_ts) ### idx_tr represents  indices of the training sefor the i-th fold\n",
    "    X_tr<-X[idx_tr,]\n",
    "    Y_tr<-Y[idx_tr]                          \n",
    "    \n",
    "    # Compute correlation across all the input variables and the target variable\n",
    "    correlation_vector <-abs(cor(X_tr,Y_tr))\n",
    "    # Rank variables according to correlation with the output\n",
    "    correlation_ranking_idx <-sort(correlation_vector,dec=T,index.return=T)$ix\n",
    "     \n",
    "    for (nb_features in 1:n) {\n",
    "        # Create a dataset including only the nb_features most correlated variables with the output\n",
    "        DS<-cbind(X_tr[,correlation_ranking_idx[1:nb_features],drop=F],imdb_score=Y_tr)\n",
    "        \n",
    "        # Model fit (using lm function)\n",
    "        model<- lm(imdb_score~.,DS)\n",
    "        \n",
    "        # Model prediction\n",
    "        Y_hat_ts<- predict(model,X_ts[,correlation_ranking_idx[1:nb_features],drop=F])\n",
    "        \n",
    "        # Cross validation error = MSE\n",
    "        CV_err[nb_features,i] <- mean((Y_hat_ts-Y_ts)^2)\n",
    "    }\n",
    "}  \n",
    "\n",
    "print(paste(\"#Features: \",c(1:n),\" ; CV error=\",round(apply(CV_err,1,mean),digits=4), \" ; std dev=\",round(apply(CV_err,1,sd),digits=4)))\n"
   ]
  },
  {
   "cell_type": "code",
   "execution_count": 30,
   "metadata": {
    "vscode": {
     "languageId": "r"
    }
   },
   "outputs": [
    {
     "data": {
      "text/html": [
       "<style>\n",
       ".list-inline {list-style: none; margin:0; padding: 0}\n",
       ".list-inline>li {display: inline-block}\n",
       ".list-inline>li:not(:last-child)::after {content: \"\\00b7\"; padding: 0 .5ex}\n",
       "</style>\n",
       "<ol class=list-inline><li>7</li><li>1</li><li>15</li><li>10</li><li>2</li><li>12</li><li>6</li><li>5</li><li>8</li><li>13</li><li>3</li><li>9</li><li>11</li><li>4</li><li>14</li></ol>\n"
      ],
      "text/latex": [
       "\\begin{enumerate*}\n",
       "\\item 7\n",
       "\\item 1\n",
       "\\item 15\n",
       "\\item 10\n",
       "\\item 2\n",
       "\\item 12\n",
       "\\item 6\n",
       "\\item 5\n",
       "\\item 8\n",
       "\\item 13\n",
       "\\item 3\n",
       "\\item 9\n",
       "\\item 11\n",
       "\\item 4\n",
       "\\item 14\n",
       "\\end{enumerate*}\n"
      ],
      "text/markdown": [
       "1. 7\n",
       "2. 1\n",
       "3. 15\n",
       "4. 10\n",
       "5. 2\n",
       "6. 12\n",
       "7. 6\n",
       "8. 5\n",
       "9. 8\n",
       "10. 13\n",
       "11. 3\n",
       "12. 9\n",
       "13. 11\n",
       "14. 4\n",
       "15. 14\n",
       "\n",
       "\n"
      ],
      "text/plain": [
       " [1]  7  1 15 10  2 12  6  5  8 13  3  9 11  4 14"
      ]
     },
     "metadata": {},
     "output_type": "display_data"
    },
    {
     "data": {
      "text/html": [
       "<style>\n",
       ".list-inline {list-style: none; margin:0; padding: 0}\n",
       ".list-inline>li {display: inline-block}\n",
       ".list-inline>li:not(:last-child)::after {content: \"\\00b7\"; padding: 0 .5ex}\n",
       "</style>\n",
       "<ol class=list-inline><li>'num_voted_users'</li><li>'num_critic_for_reviews'</li><li>'movie_facebook_likes'</li><li>'num_user_for_reviews'</li><li>'duration'</li><li>'title_year'</li><li>'gross'</li><li>'actor_1_facebook_likes'</li><li>'cast_total_facebook_likes'</li><li>'actor_2_facebook_likes'</li><li>'director_facebook_likes'</li><li>'facenumber_in_poster'</li><li>'budget'</li><li>'actor_3_facebook_likes'</li><li>'aspect_ratio'</li></ol>\n"
      ],
      "text/latex": [
       "\\begin{enumerate*}\n",
       "\\item 'num\\_voted\\_users'\n",
       "\\item 'num\\_critic\\_for\\_reviews'\n",
       "\\item 'movie\\_facebook\\_likes'\n",
       "\\item 'num\\_user\\_for\\_reviews'\n",
       "\\item 'duration'\n",
       "\\item 'title\\_year'\n",
       "\\item 'gross'\n",
       "\\item 'actor\\_1\\_facebook\\_likes'\n",
       "\\item 'cast\\_total\\_facebook\\_likes'\n",
       "\\item 'actor\\_2\\_facebook\\_likes'\n",
       "\\item 'director\\_facebook\\_likes'\n",
       "\\item 'facenumber\\_in\\_poster'\n",
       "\\item 'budget'\n",
       "\\item 'actor\\_3\\_facebook\\_likes'\n",
       "\\item 'aspect\\_ratio'\n",
       "\\end{enumerate*}\n"
      ],
      "text/markdown": [
       "1. 'num_voted_users'\n",
       "2. 'num_critic_for_reviews'\n",
       "3. 'movie_facebook_likes'\n",
       "4. 'num_user_for_reviews'\n",
       "5. 'duration'\n",
       "6. 'title_year'\n",
       "7. 'gross'\n",
       "8. 'actor_1_facebook_likes'\n",
       "9. 'cast_total_facebook_likes'\n",
       "10. 'actor_2_facebook_likes'\n",
       "11. 'director_facebook_likes'\n",
       "12. 'facenumber_in_poster'\n",
       "13. 'budget'\n",
       "14. 'actor_3_facebook_likes'\n",
       "15. 'aspect_ratio'\n",
       "\n",
       "\n"
      ],
      "text/plain": [
       " [1] \"num_voted_users\"           \"num_critic_for_reviews\"   \n",
       " [3] \"movie_facebook_likes\"      \"num_user_for_reviews\"     \n",
       " [5] \"duration\"                  \"title_year\"               \n",
       " [7] \"gross\"                     \"actor_1_facebook_likes\"   \n",
       " [9] \"cast_total_facebook_likes\" \"actor_2_facebook_likes\"   \n",
       "[11] \"director_facebook_likes\"   \"facenumber_in_poster\"     \n",
       "[13] \"budget\"                    \"actor_3_facebook_likes\"   \n",
       "[15] \"aspect_ratio\"             "
      ]
     },
     "metadata": {},
     "output_type": "display_data"
    }
   ],
   "source": [
    "correlation_ranking_idx\n",
    "colnames(X)[correlation_ranking_idx]"
   ]
  },
  {
   "cell_type": "markdown",
   "metadata": {},
   "source": [
    "#### mRMR\n",
    "\n",
    "* The following code performs features selection by using the mRMR approach (Section 12.8 - Syllabus). Compare the results for linear models and decision trees. What are the smallest CV errors, and how many features were needed?\n"
   ]
  },
  {
   "cell_type": "code",
   "execution_count": 31,
   "metadata": {
    "vscode": {
     "languageId": "r"
    }
   },
   "outputs": [
    {
     "name": "stdout",
     "output_type": "stream",
     "text": [
      " [1] \"#Features:  1  ; CV error= 1.047  ; std dev= 0.1913\"  \n",
      " [2] \"#Features:  2  ; CV error= 0.9989  ; std dev= 0.2005\" \n",
      " [3] \"#Features:  3  ; CV error= 0.9906  ; std dev= 0.1899\" \n",
      " [4] \"#Features:  4  ; CV error= 0.9931  ; std dev= 0.1916\" \n",
      " [5] \"#Features:  5  ; CV error= 0.9844  ; std dev= 0.1883\" \n",
      " [6] \"#Features:  6  ; CV error= 0.987  ; std dev= 0.1886\"  \n",
      " [7] \"#Features:  7  ; CV error= 0.9895  ; std dev= 0.1873\" \n",
      " [8] \"#Features:  8  ; CV error= 0.9842  ; std dev= 0.1875\" \n",
      " [9] \"#Features:  9  ; CV error= 0.9672  ; std dev= 0.1856\" \n",
      "[10] \"#Features:  10  ; CV error= 0.9679  ; std dev= 0.1861\"\n",
      "[11] \"#Features:  11  ; CV error= 0.9604  ; std dev= 0.1774\"\n",
      "[12] \"#Features:  12  ; CV error= 0.9601  ; std dev= 0.178\" \n",
      "[13] \"#Features:  13  ; CV error= 0.9586  ; std dev= 0.1817\"\n",
      "[14] \"#Features:  14  ; CV error= 0.9525  ; std dev= 0.181\" \n",
      "[15] \"#Features:  15  ; CV error= 0.9482  ; std dev= 0.1812\"\n"
     ]
    }
   ],
   "source": [
    "# drop = F is used to preserve the structure of the data as data.frame (see https://www.r-bloggers.com/2018/02/r-tip-use-drop-false-with-data-frames/)\n",
    "\n",
    "CV_folds <- 10\n",
    "\n",
    "size_CV <-floor(N/CV_folds)\n",
    "\n",
    "CV_err<-matrix(0,nrow=n,ncol=CV_folds)\n",
    "\n",
    "for (i in 1:CV_folds) {\n",
    "    \n",
    "    idx_ts<-(((i-1)*size_CV+1):(i*size_CV))  ### idx_ts represents the indices of the test set the i-th fold\n",
    "    X_ts<-X[idx_ts,]  \n",
    "    Y_ts<-Y[idx_ts]  \n",
    "     \n",
    "    idx_tr<-setdiff(1:N,idx_ts) ### idx_tr represents  indices of the training sefor the i-th fold\n",
    "    X_tr<-X[idx_tr,]\n",
    "    Y_tr<-Y[idx_tr]                          \n",
    "    \n",
    "    # Computing the correlation between input variables and output variable on the training set\n",
    "    correlation<-abs(cor(X_tr,Y_tr))\n",
    "    \n",
    "    # Initialization : No variables are selected and all the variables are candidates\n",
    "    selected<-c()\n",
    "    candidates<-1:n\n",
    "    \n",
    "    #mRMR ranks the variables by taking account not only the correlation with the output, but also by avoiding redudant variables\n",
    "    for (j in 1:n) {\n",
    "        redundancy_score<-numeric(length(candidates))\n",
    "        \n",
    "        if (length(selected)>0) {\n",
    "            # Compute the correlation between the selected variables and the candidates on the training set\n",
    "            cor_selected_candidates<-cor(X_tr[,selected,drop=F],X_tr[,candidates,drop=F])\n",
    "            # Compute the mean correlation for each candidate variable, across the selected variables\n",
    "            redundancy_score<-apply(cor_selected_candidates,2,mean)\n",
    "        }\n",
    "        \n",
    "        # mRMR: minimum Redundancy Maximum Relevancy\n",
    "        mRMR_score<-correlation[candidates]-redundancy_score\n",
    "        \n",
    "        # Select the candidate variable that maximises the mRMR score\n",
    "        selected_current<-candidates[which.max(mRMR_score)]\n",
    "        selected<-c(selected,selected_current)\n",
    "        \n",
    "        # Remove the selected variables from the candidates\n",
    "        candidates<-setdiff(candidates,selected_current)\n",
    "    }\n",
    "    \n",
    "    ranking <- selected\n",
    "     \n",
    "    for (nb_features in 1:n) {\n",
    "        # Create a dataset including only the first nb_features selected variables\n",
    "        DS<-cbind(X_tr[,ranking[1:nb_features],drop=F],imdb_score=Y_tr)\n",
    "        \n",
    "        # Model fit (using lm function)\n",
    "        model<- lm(imdb_score~.,DS)\n",
    "        \n",
    "        # Model prediction\n",
    "        Y_hat_ts<- predict(model,X_ts[,ranking[1:nb_features],drop=F])\n",
    "        \n",
    "        # Cross-validation error = MSE\n",
    "        CV_err[nb_features,i]<-mean((Y_hat_ts-Y_ts)^2)\n",
    "    }\n",
    "}  \n",
    "\n",
    "print(paste(\"#Features: \",c(1:n),\" ; CV error=\",round(apply(CV_err,1,mean),digits=4), \" ; std dev=\",round(apply(CV_err,1,sd),digits=4)))"
   ]
  },
  {
   "cell_type": "code",
   "execution_count": 32,
   "metadata": {
    "vscode": {
     "languageId": "r"
    }
   },
   "outputs": [
    {
     "data": {
      "text/html": [
       "<style>\n",
       ".list-inline {list-style: none; margin:0; padding: 0}\n",
       ".list-inline>li {display: inline-block}\n",
       ".list-inline>li:not(:last-child)::after {content: \"\\00b7\"; padding: 0 .5ex}\n",
       "</style>\n",
       "<ol class=list-inline><li>7</li><li>12</li><li>2</li><li>9</li><li>15</li><li>10</li><li>14</li><li>3</li><li>1</li><li>13</li><li>5</li><li>6</li><li>4</li><li>8</li><li>11</li></ol>\n"
      ],
      "text/latex": [
       "\\begin{enumerate*}\n",
       "\\item 7\n",
       "\\item 12\n",
       "\\item 2\n",
       "\\item 9\n",
       "\\item 15\n",
       "\\item 10\n",
       "\\item 14\n",
       "\\item 3\n",
       "\\item 1\n",
       "\\item 13\n",
       "\\item 5\n",
       "\\item 6\n",
       "\\item 4\n",
       "\\item 8\n",
       "\\item 11\n",
       "\\end{enumerate*}\n"
      ],
      "text/markdown": [
       "1. 7\n",
       "2. 12\n",
       "3. 2\n",
       "4. 9\n",
       "5. 15\n",
       "6. 10\n",
       "7. 14\n",
       "8. 3\n",
       "9. 1\n",
       "10. 13\n",
       "11. 5\n",
       "12. 6\n",
       "13. 4\n",
       "14. 8\n",
       "15. 11\n",
       "\n",
       "\n"
      ],
      "text/plain": [
       " [1]  7 12  2  9 15 10 14  3  1 13  5  6  4  8 11"
      ]
     },
     "metadata": {},
     "output_type": "display_data"
    },
    {
     "data": {
      "text/html": [
       "<style>\n",
       ".list-inline {list-style: none; margin:0; padding: 0}\n",
       ".list-inline>li {display: inline-block}\n",
       ".list-inline>li:not(:last-child)::after {content: \"\\00b7\"; padding: 0 .5ex}\n",
       "</style>\n",
       "<ol class=list-inline><li>'num_voted_users'</li><li>'title_year'</li><li>'duration'</li><li>'facenumber_in_poster'</li><li>'movie_facebook_likes'</li><li>'num_user_for_reviews'</li><li>'aspect_ratio'</li><li>'director_facebook_likes'</li><li>'num_critic_for_reviews'</li><li>'actor_2_facebook_likes'</li><li>'actor_1_facebook_likes'</li><li>'gross'</li><li>'actor_3_facebook_likes'</li><li>'cast_total_facebook_likes'</li><li>'budget'</li></ol>\n"
      ],
      "text/latex": [
       "\\begin{enumerate*}\n",
       "\\item 'num\\_voted\\_users'\n",
       "\\item 'title\\_year'\n",
       "\\item 'duration'\n",
       "\\item 'facenumber\\_in\\_poster'\n",
       "\\item 'movie\\_facebook\\_likes'\n",
       "\\item 'num\\_user\\_for\\_reviews'\n",
       "\\item 'aspect\\_ratio'\n",
       "\\item 'director\\_facebook\\_likes'\n",
       "\\item 'num\\_critic\\_for\\_reviews'\n",
       "\\item 'actor\\_2\\_facebook\\_likes'\n",
       "\\item 'actor\\_1\\_facebook\\_likes'\n",
       "\\item 'gross'\n",
       "\\item 'actor\\_3\\_facebook\\_likes'\n",
       "\\item 'cast\\_total\\_facebook\\_likes'\n",
       "\\item 'budget'\n",
       "\\end{enumerate*}\n"
      ],
      "text/markdown": [
       "1. 'num_voted_users'\n",
       "2. 'title_year'\n",
       "3. 'duration'\n",
       "4. 'facenumber_in_poster'\n",
       "5. 'movie_facebook_likes'\n",
       "6. 'num_user_for_reviews'\n",
       "7. 'aspect_ratio'\n",
       "8. 'director_facebook_likes'\n",
       "9. 'num_critic_for_reviews'\n",
       "10. 'actor_2_facebook_likes'\n",
       "11. 'actor_1_facebook_likes'\n",
       "12. 'gross'\n",
       "13. 'actor_3_facebook_likes'\n",
       "14. 'cast_total_facebook_likes'\n",
       "15. 'budget'\n",
       "\n",
       "\n"
      ],
      "text/plain": [
       " [1] \"num_voted_users\"           \"title_year\"               \n",
       " [3] \"duration\"                  \"facenumber_in_poster\"     \n",
       " [5] \"movie_facebook_likes\"      \"num_user_for_reviews\"     \n",
       " [7] \"aspect_ratio\"              \"director_facebook_likes\"  \n",
       " [9] \"num_critic_for_reviews\"    \"actor_2_facebook_likes\"   \n",
       "[11] \"actor_1_facebook_likes\"    \"gross\"                    \n",
       "[13] \"actor_3_facebook_likes\"    \"cast_total_facebook_likes\"\n",
       "[15] \"budget\"                   "
      ]
     },
     "metadata": {},
     "output_type": "display_data"
    }
   ],
   "source": [
    "selected\n",
    "colnames(X)[selected]"
   ]
  },
  {
   "cell_type": "markdown",
   "metadata": {},
   "source": [
    "#### PCA\n",
    "\n",
    "* The following code performs features selection by first transforming the inputs using PCA, and then keeping the most relevant principal components in the model. Compare the results for linear models and decision trees. What are the smallest CV errors, and how many features were needed?\n",
    "\n"
   ]
  },
  {
   "cell_type": "code",
   "execution_count": 33,
   "metadata": {
    "vscode": {
     "languageId": "r"
    }
   },
   "outputs": [
    {
     "name": "stdout",
     "output_type": "stream",
     "text": [
      " [1] \"#Features:  1  ; CV error= 1.2239  ; std dev= 0.2165\" \n",
      " [2] \"#Features:  2  ; CV error= 1.2183  ; std dev= 0.2192\" \n",
      " [3] \"#Features:  3  ; CV error= 1.022  ; std dev= 0.181\"   \n",
      " [4] \"#Features:  4  ; CV error= 1.0209  ; std dev= 0.181\"  \n",
      " [5] \"#Features:  5  ; CV error= 1.0224  ; std dev= 0.1802\" \n",
      " [6] \"#Features:  6  ; CV error= 1.0234  ; std dev= 0.1801\" \n",
      " [7] \"#Features:  7  ; CV error= 1.028  ; std dev= 0.1782\"  \n",
      " [8] \"#Features:  8  ; CV error= 1.0258  ; std dev= 0.1823\" \n",
      " [9] \"#Features:  9  ; CV error= 1.026  ; std dev= 0.1815\"  \n",
      "[10] \"#Features:  10  ; CV error= 1.0281  ; std dev= 0.1826\"\n",
      "[11] \"#Features:  11  ; CV error= 1.0199  ; std dev= 0.1797\"\n",
      "[12] \"#Features:  12  ; CV error= 0.9892  ; std dev= 0.1607\"\n",
      "[13] \"#Features:  13  ; CV error= 0.9447  ; std dev= 0.1834\"\n",
      "[14] \"#Features:  14  ; CV error= 0.946  ; std dev= 0.1851\" \n",
      "[15] \"#Features:  15  ; CV error= 0.9482  ; std dev= 0.1812\"\n"
     ]
    }
   ],
   "source": [
    "# drop = F is used to preserve the structure of the data as data.frame (see https://www.r-bloggers.com/2018/02/r-tip-use-drop-false-with-data-frames/)\n",
    "CV_folds <- 10\n",
    "\n",
    "size_CV <-floor(N/CV_folds)\n",
    "\n",
    "CV_err<-matrix(0,nrow=n,ncol=CV_folds)\n",
    "\n",
    "# Compute PCA on the full input dataset X and return the dataset transformed in the space of principal components\n",
    "X_pca<-data.frame(prcomp(X,retx=T)$x)\n",
    "\n",
    "for (i in 1:CV_folds) {\n",
    "    \n",
    "    idx_ts<-(((i-1)*size_CV+1):(i*size_CV))  ### idx_ts represents the indices of the test set the i-th fold\n",
    "    X_ts<-X_pca[idx_ts,]  \n",
    "    Y_ts<-Y[idx_ts]  \n",
    "     \n",
    "    idx_tr<-setdiff(1:N,idx_ts) ### idx_tr represents  indices of the training sefor the i-th fold\n",
    "    X_tr<-X_pca[idx_tr,]\n",
    "    Y_tr<-Y[idx_tr]         \n",
    "     \n",
    "    for (nb_components in 1:n) {\n",
    "        # Create a dataset including only the first nb_components principal components\n",
    "        DS<-cbind(X_tr[,1:nb_components,drop=F],imdb_score=Y_tr)\n",
    "        \n",
    "        # Model fit (using lm function)\n",
    "        model<- lm(imdb_score~.,DS)\n",
    "        \n",
    "        # Model predict\n",
    "        Y_hat_ts<- predict(model,X_ts[,1:nb_components,drop=F])\n",
    "        \n",
    "        CV_err[nb_components,i]<-mean((Y_hat_ts-Y_ts)^2)\n",
    "    }\n",
    "}  \n",
    "\n",
    "print(paste(\"#Features: \",c(1:n),\" ; CV error=\",round(apply(CV_err,1,mean),digits=4), \" ; std dev=\",round(apply(CV_err,1,sd),digits=4)))\n"
   ]
  },
  {
   "cell_type": "markdown",
   "metadata": {},
   "source": [
    "### Wrapper method: Forward selection\n",
    "\n",
    "* The following code performs features selection by using a forward selection method (Section 12.4 - Syllabus). Compare the results for linear models and decision trees. What are the smallest CV errors, and how many features were needed?\n"
   ]
  },
  {
   "cell_type": "code",
   "execution_count": 34,
   "metadata": {
    "vscode": {
     "languageId": "r"
    }
   },
   "outputs": [
    {
     "name": "stdout",
     "output_type": "stream",
     "text": [
      "[1] \"Round  1  ; Selected feature:  7  ; CV error= 1.047  ; std dev= 0.1913\"\n",
      "[1] \"Round  2  ; Selected feature:  12  ; CV error= 0.9989  ; std dev= 0.2005\"\n",
      "[1] \"Round  3  ; Selected feature:  1  ; CV error= 0.9778  ; std dev= 0.2045\"\n",
      "[1] \"Round  4  ; Selected feature:  11  ; CV error= 0.9578  ; std dev= 0.2026\"\n",
      "[1] \"Round  5  ; Selected feature:  2  ; CV error= 0.9479  ; std dev= 0.1903\"\n",
      "[1] \"Round  6  ; Selected feature:  10  ; CV error= 0.942  ; std dev= 0.1851\"\n",
      "[1] \"Round  7  ; Selected feature:  4  ; CV error= 0.9419  ; std dev= 0.1871\"\n",
      "[1] \"Round  8  ; Selected feature:  13  ; CV error= 0.9407  ; std dev= 0.1907\"\n",
      "[1] \"Round  9  ; Selected feature:  9  ; CV error= 0.941  ; std dev= 0.1929\"\n",
      "[1] \"Round  10  ; Selected feature:  6  ; CV error= 0.9416  ; std dev= 0.1889\"\n",
      "[1] \"Round  11  ; Selected feature:  15  ; CV error= 0.9427  ; std dev= 0.1897\"\n",
      "[1] \"Round  12  ; Selected feature:  8  ; CV error= 0.944  ; std dev= 0.1901\"\n",
      "[1] \"Round  13  ; Selected feature:  5  ; CV error= 0.9427  ; std dev= 0.1847\"\n",
      "[1] \"Round  14  ; Selected feature:  14  ; CV error= 0.9453  ; std dev= 0.1811\"\n",
      "[1] \"Round  15  ; Selected feature:  3  ; CV error= 0.9482  ; std dev= 0.1812\"\n"
     ]
    }
   ],
   "source": [
    "# drop = F is used to preserve the structure of the data as data.frame (see https://www.r-bloggers.com/2018/02/r-tip-use-drop-false-with-data-frames/)\n",
    "CV_folds <- 10\n",
    "\n",
    "size_CV <-floor(N/CV_folds)\n",
    "\n",
    "selected<-NULL\n",
    "\n",
    "# Perform up to n (number of variables) round of selection\n",
    "for (round in 1:n) { \n",
    "    candidates<-setdiff(1:n,selected)\n",
    "    \n",
    "    CV_err<-matrix(0,nrow=length(candidates),ncol=CV_folds)\n",
    "    \n",
    "    # For each round, test all the candidate variables\n",
    "    for (j in 1:length(candidates)) {\n",
    "        features_to_include<-c(selected,candidates[j])\n",
    "        \n",
    "        # For each variable, perform cross-validation to determine the CV-error\n",
    "        for (i in 1:CV_folds) {\n",
    "            \n",
    "            idx_ts<-(((i-1)*size_CV+1):(i*size_CV))  ### idx_ts represents the indices of the test set the i-th fold\n",
    "            X_ts<-X[idx_ts,features_to_include,drop=F]  \n",
    "            Y_ts<-Y[idx_ts]  \n",
    "     \n",
    "            idx_tr<-setdiff(1:N,idx_ts) ### idx_tr represents  indices of the training sefor the i-th fold\n",
    "            X_tr<-X[idx_tr,features_to_include,drop=F]\n",
    "            Y_tr<-Y[idx_tr]         \n",
    "            \n",
    "            # Create a dataset including only the first nb_components principal components\n",
    "            DS<-cbind(X_tr,imdb_score=Y_tr)\n",
    "        \n",
    "            # Model fit (using lm function)\n",
    "            model<- lm(imdb_score~.,DS)\n",
    "        \n",
    "            # Model predict\n",
    "            Y_hat_ts<- predict(model,X_ts)\n",
    "     \n",
    "            # Cross validation error = MSE\n",
    "            CV_err[j,i]<-mean((Y_hat_ts-Y_ts)^2)\n",
    "        }\n",
    "        \n",
    "    }\n",
    "    \n",
    "    # Compute the mean and sd of cross-validation error across all the candidates\n",
    "    # In CV_err matrix, every row represents a candidate, and every element represents the results of the i^th CV fold.\n",
    "    CV_err_mean<-apply(CV_err,1,mean)\n",
    "    CV_err_sd<-apply(CV_err,1,sd)\n",
    "    \n",
    "    # Select the candiate that minimizes the cross-validation error\n",
    "    selected_current<-which.min(CV_err_mean)              \n",
    "    selected<-c(selected,candidates[selected_current])\n",
    "    \n",
    "    print(paste(\"Round \",round,\" ; Selected feature: \",candidates[selected_current],\" ; CV error=\",round(CV_err_mean[selected_current],digits=4), \" ; std dev=\",round(CV_err_sd[selected_current],digits=4)))\n",
    "\n",
    "}\n",
    "                   \n"
   ]
  },
  {
   "cell_type": "code",
   "execution_count": 35,
   "metadata": {
    "vscode": {
     "languageId": "r"
    }
   },
   "outputs": [
    {
     "data": {
      "text/html": [
       "<style>\n",
       ".list-inline {list-style: none; margin:0; padding: 0}\n",
       ".list-inline>li {display: inline-block}\n",
       ".list-inline>li:not(:last-child)::after {content: \"\\00b7\"; padding: 0 .5ex}\n",
       "</style>\n",
       "<ol class=list-inline><li>'num_voted_users'</li><li>'title_year'</li><li>'num_critic_for_reviews'</li><li>'budget'</li><li>'duration'</li><li>'num_user_for_reviews'</li><li>'actor_3_facebook_likes'</li><li>'actor_2_facebook_likes'</li><li>'facenumber_in_poster'</li><li>'gross'</li><li>'movie_facebook_likes'</li><li>'cast_total_facebook_likes'</li><li>'actor_1_facebook_likes'</li><li>'aspect_ratio'</li><li>'director_facebook_likes'</li></ol>\n"
      ],
      "text/latex": [
       "\\begin{enumerate*}\n",
       "\\item 'num\\_voted\\_users'\n",
       "\\item 'title\\_year'\n",
       "\\item 'num\\_critic\\_for\\_reviews'\n",
       "\\item 'budget'\n",
       "\\item 'duration'\n",
       "\\item 'num\\_user\\_for\\_reviews'\n",
       "\\item 'actor\\_3\\_facebook\\_likes'\n",
       "\\item 'actor\\_2\\_facebook\\_likes'\n",
       "\\item 'facenumber\\_in\\_poster'\n",
       "\\item 'gross'\n",
       "\\item 'movie\\_facebook\\_likes'\n",
       "\\item 'cast\\_total\\_facebook\\_likes'\n",
       "\\item 'actor\\_1\\_facebook\\_likes'\n",
       "\\item 'aspect\\_ratio'\n",
       "\\item 'director\\_facebook\\_likes'\n",
       "\\end{enumerate*}\n"
      ],
      "text/markdown": [
       "1. 'num_voted_users'\n",
       "2. 'title_year'\n",
       "3. 'num_critic_for_reviews'\n",
       "4. 'budget'\n",
       "5. 'duration'\n",
       "6. 'num_user_for_reviews'\n",
       "7. 'actor_3_facebook_likes'\n",
       "8. 'actor_2_facebook_likes'\n",
       "9. 'facenumber_in_poster'\n",
       "10. 'gross'\n",
       "11. 'movie_facebook_likes'\n",
       "12. 'cast_total_facebook_likes'\n",
       "13. 'actor_1_facebook_likes'\n",
       "14. 'aspect_ratio'\n",
       "15. 'director_facebook_likes'\n",
       "\n",
       "\n"
      ],
      "text/plain": [
       " [1] \"num_voted_users\"           \"title_year\"               \n",
       " [3] \"num_critic_for_reviews\"    \"budget\"                   \n",
       " [5] \"duration\"                  \"num_user_for_reviews\"     \n",
       " [7] \"actor_3_facebook_likes\"    \"actor_2_facebook_likes\"   \n",
       " [9] \"facenumber_in_poster\"      \"gross\"                    \n",
       "[11] \"movie_facebook_likes\"      \"cast_total_facebook_likes\"\n",
       "[13] \"actor_1_facebook_likes\"    \"aspect_ratio\"             \n",
       "[15] \"director_facebook_likes\"  "
      ]
     },
     "metadata": {},
     "output_type": "display_data"
    }
   ],
   "source": [
    "colnames(X)[selected]"
   ]
  },
  {
   "cell_type": "markdown",
   "metadata": {},
   "source": [
    "## Further preprocessing to add categorical variables\n",
    "\n",
    "Categorical variables usually need to be transformed with 'one-hot-encoding' in order to be processed by a learning algorithm. That is, for each value of the categorical variable, a binary feature is created, which is set to one whenever that value is present. This can be done using the `dummy.data.frame` of the `dummies` package.\n",
    "\n",
    "```\n",
    "install.packages('dummies')\n",
    "library(dummies)\n",
    "```\n",
    "\n",
    "In the following, we add some categorical variables to the peprocessing dataset. The set of categorical variables is"
   ]
  },
  {
   "cell_type": "code",
   "execution_count": null,
   "metadata": {
    "vscode": {
     "languageId": "r"
    }
   },
   "outputs": [],
   "source": [
    "install.packages('dummies')\n",
    "library(dummies)"
   ]
  },
  {
   "cell_type": "code",
   "execution_count": 37,
   "metadata": {
    "vscode": {
     "languageId": "r"
    }
   },
   "outputs": [
    {
     "data": {
      "text/html": [
       "<style>\n",
       ".dl-inline {width: auto; margin:0; padding: 0}\n",
       ".dl-inline>dt, .dl-inline>dd {float: none; width: auto; display: inline-block}\n",
       ".dl-inline>dt::after {content: \":\\0020\"; padding-right: .5ex}\n",
       ".dl-inline>dt:not(:first-of-type) {padding-left: .5ex}\n",
       "</style><dl class=dl-inline><dt>color</dt><dd>1</dd><dt>director_name</dt><dd>2</dd><dt>actor_2_name</dt><dd>7</dd><dt>genres</dt><dd>10</dd><dt>actor_1_name</dt><dd>11</dd><dt>movie_title</dt><dd>12</dd><dt>actor_3_name</dt><dd>15</dd><dt>plot_keywords</dt><dd>17</dd><dt>movie_imdb_link</dt><dd>18</dd><dt>language</dt><dd>20</dd><dt>country</dt><dd>21</dd><dt>content_rating</dt><dd>22</dd></dl>\n"
      ],
      "text/latex": [
       "\\begin{description*}\n",
       "\\item[color] 1\n",
       "\\item[director\\textbackslash{}\\_name] 2\n",
       "\\item[actor\\textbackslash{}\\_2\\textbackslash{}\\_name] 7\n",
       "\\item[genres] 10\n",
       "\\item[actor\\textbackslash{}\\_1\\textbackslash{}\\_name] 11\n",
       "\\item[movie\\textbackslash{}\\_title] 12\n",
       "\\item[actor\\textbackslash{}\\_3\\textbackslash{}\\_name] 15\n",
       "\\item[plot\\textbackslash{}\\_keywords] 17\n",
       "\\item[movie\\textbackslash{}\\_imdb\\textbackslash{}\\_link] 18\n",
       "\\item[language] 20\n",
       "\\item[country] 21\n",
       "\\item[content\\textbackslash{}\\_rating] 22\n",
       "\\end{description*}\n"
      ],
      "text/markdown": [
       "color\n",
       ":   1director_name\n",
       ":   2actor_2_name\n",
       ":   7genres\n",
       ":   10actor_1_name\n",
       ":   11movie_title\n",
       ":   12actor_3_name\n",
       ":   15plot_keywords\n",
       ":   17movie_imdb_link\n",
       ":   18language\n",
       ":   20country\n",
       ":   21content_rating\n",
       ":   22\n",
       "\n"
      ],
      "text/plain": [
       "          color   director_name    actor_2_name          genres    actor_1_name \n",
       "              1               2               7              10              11 \n",
       "    movie_title    actor_3_name   plot_keywords movie_imdb_link        language \n",
       "             12              15              17              18              20 \n",
       "        country  content_rating \n",
       "             21              22 "
      ]
     },
     "metadata": {},
     "output_type": "display_data"
    }
   ],
   "source": [
    "factor_variables"
   ]
  },
  {
   "cell_type": "markdown",
   "metadata": {},
   "source": [
    "Let us have an overview of the their content"
   ]
  },
  {
   "cell_type": "code",
   "execution_count": 38,
   "metadata": {
    "vscode": {
     "languageId": "r"
    }
   },
   "outputs": [],
   "source": [
    "data_factor<-data[,factor_variables]"
   ]
  },
  {
   "cell_type": "code",
   "execution_count": 39,
   "metadata": {
    "vscode": {
     "languageId": "r"
    }
   },
   "outputs": [
    {
     "data": {
      "text/html": [
       "<style>\n",
       ".list-inline {list-style: none; margin:0; padding: 0}\n",
       ".list-inline>li {display: inline-block}\n",
       ".list-inline>li:not(:last-child)::after {content: \"\\00b7\"; padding: 0 .5ex}\n",
       "</style>\n",
       "<ol class=list-inline><li>1000</li><li>12</li></ol>\n"
      ],
      "text/latex": [
       "\\begin{enumerate*}\n",
       "\\item 1000\n",
       "\\item 12\n",
       "\\end{enumerate*}\n"
      ],
      "text/markdown": [
       "1. 1000\n",
       "2. 12\n",
       "\n",
       "\n"
      ],
      "text/plain": [
       "[1] 1000   12"
      ]
     },
     "metadata": {},
     "output_type": "display_data"
    }
   ],
   "source": [
    "dim(data_factor)"
   ]
  },
  {
   "cell_type": "code",
   "execution_count": 40,
   "metadata": {
    "vscode": {
     "languageId": "r"
    }
   },
   "outputs": [
    {
     "data": {
      "text/html": [
       "<table class=\"dataframe\">\n",
       "<caption>A data.frame: 2 × 12</caption>\n",
       "<thead>\n",
       "\t<tr><th></th><th scope=col>color</th><th scope=col>director_name</th><th scope=col>actor_2_name</th><th scope=col>genres</th><th scope=col>actor_1_name</th><th scope=col>movie_title</th><th scope=col>actor_3_name</th><th scope=col>plot_keywords</th><th scope=col>movie_imdb_link</th><th scope=col>language</th><th scope=col>country</th><th scope=col>content_rating</th></tr>\n",
       "\t<tr><th></th><th scope=col>&lt;fct&gt;</th><th scope=col>&lt;fct&gt;</th><th scope=col>&lt;fct&gt;</th><th scope=col>&lt;fct&gt;</th><th scope=col>&lt;fct&gt;</th><th scope=col>&lt;fct&gt;</th><th scope=col>&lt;fct&gt;</th><th scope=col>&lt;fct&gt;</th><th scope=col>&lt;fct&gt;</th><th scope=col>&lt;fct&gt;</th><th scope=col>&lt;fct&gt;</th><th scope=col>&lt;fct&gt;</th></tr>\n",
       "</thead>\n",
       "<tbody>\n",
       "\t<tr><th scope=row>3925</th><td>Color</td><td>Oliver Stone</td><td>Zach Grenier</td><td>Drama          </td><td>Michael Wincott</td><td>Talk RadioÂ     </td><td>Bill Johnson </td><td>listener|neo nazi|radio|radio station|radio talk show</td><td>http://www.imdb.com/title/tt0096219/?ref_=fn_tt_tt_1</td><td>English</td><td>USA   </td><td>R</td></tr>\n",
       "\t<tr><th scope=row>4806</th><td>Color</td><td>Paul Fox    </td><td>Jeff Seymour</td><td>Horror|Thriller</td><td>Dov Tiefenbach </td><td>The Dark HoursÂ </td><td>Gordon Currie</td><td>brain tumor|champagne|game|psychiatrist|weekend      </td><td>http://www.imdb.com/title/tt0402249/?ref_=fn_tt_tt_1</td><td>English</td><td>Canada</td><td>R</td></tr>\n",
       "</tbody>\n",
       "</table>\n"
      ],
      "text/latex": [
       "A data.frame: 2 × 12\n",
       "\\begin{tabular}{r|llllllllllll}\n",
       "  & color & director\\_name & actor\\_2\\_name & genres & actor\\_1\\_name & movie\\_title & actor\\_3\\_name & plot\\_keywords & movie\\_imdb\\_link & language & country & content\\_rating\\\\\n",
       "  & <fct> & <fct> & <fct> & <fct> & <fct> & <fct> & <fct> & <fct> & <fct> & <fct> & <fct> & <fct>\\\\\n",
       "\\hline\n",
       "\t3925 & Color & Oliver Stone & Zach Grenier & Drama           & Michael Wincott & Talk RadioÂ      & Bill Johnson  & listener\\textbar{}neo nazi\\textbar{}radio\\textbar{}radio station\\textbar{}radio talk show & http://www.imdb.com/title/tt0096219/?ref\\_=fn\\_tt\\_tt\\_1 & English & USA    & R\\\\\n",
       "\t4806 & Color & Paul Fox     & Jeff Seymour & Horror\\textbar{}Thriller & Dov Tiefenbach  & The Dark HoursÂ  & Gordon Currie & brain tumor\\textbar{}champagne\\textbar{}game\\textbar{}psychiatrist\\textbar{}weekend       & http://www.imdb.com/title/tt0402249/?ref\\_=fn\\_tt\\_tt\\_1 & English & Canada & R\\\\\n",
       "\\end{tabular}\n"
      ],
      "text/markdown": [
       "\n",
       "A data.frame: 2 × 12\n",
       "\n",
       "| <!--/--> | color &lt;fct&gt; | director_name &lt;fct&gt; | actor_2_name &lt;fct&gt; | genres &lt;fct&gt; | actor_1_name &lt;fct&gt; | movie_title &lt;fct&gt; | actor_3_name &lt;fct&gt; | plot_keywords &lt;fct&gt; | movie_imdb_link &lt;fct&gt; | language &lt;fct&gt; | country &lt;fct&gt; | content_rating &lt;fct&gt; |\n",
       "|---|---|---|---|---|---|---|---|---|---|---|---|---|\n",
       "| 3925 | Color | Oliver Stone | Zach Grenier | Drama           | Michael Wincott | Talk RadioÂ      | Bill Johnson  | listener|neo nazi|radio|radio station|radio talk show | http://www.imdb.com/title/tt0096219/?ref_=fn_tt_tt_1 | English | USA    | R |\n",
       "| 4806 | Color | Paul Fox     | Jeff Seymour | Horror|Thriller | Dov Tiefenbach  | The Dark HoursÂ  | Gordon Currie | brain tumor|champagne|game|psychiatrist|weekend       | http://www.imdb.com/title/tt0402249/?ref_=fn_tt_tt_1 | English | Canada | R |\n",
       "\n"
      ],
      "text/plain": [
       "     color director_name actor_2_name genres          actor_1_name   \n",
       "3925 Color Oliver Stone  Zach Grenier Drama           Michael Wincott\n",
       "4806 Color Paul Fox      Jeff Seymour Horror|Thriller Dov Tiefenbach \n",
       "     movie_title      actor_3_name \n",
       "3925 Talk RadioÂ      Bill Johnson \n",
       "4806 The Dark HoursÂ  Gordon Currie\n",
       "     plot_keywords                                        \n",
       "3925 listener|neo nazi|radio|radio station|radio talk show\n",
       "4806 brain tumor|champagne|game|psychiatrist|weekend      \n",
       "     movie_imdb_link                                      language country\n",
       "3925 http://www.imdb.com/title/tt0096219/?ref_=fn_tt_tt_1 English  USA    \n",
       "4806 http://www.imdb.com/title/tt0402249/?ref_=fn_tt_tt_1 English  Canada \n",
       "     content_rating\n",
       "3925 R             \n",
       "4806 R             "
      ]
     },
     "metadata": {},
     "output_type": "display_data"
    }
   ],
   "source": [
    "data_factor[1:2,]"
   ]
  },
  {
   "cell_type": "markdown",
   "metadata": {},
   "source": [
    "Let us keep four of them: Color, language, country and content_rating, and transform them with one-hot-encoding"
   ]
  },
  {
   "cell_type": "code",
   "execution_count": 41,
   "metadata": {
    "vscode": {
     "languageId": "r"
    }
   },
   "outputs": [],
   "source": [
    "variables_to_keep<-c(\"color\",\"language\",\"country\",\"content_rating\")"
   ]
  },
  {
   "cell_type": "code",
   "execution_count": 42,
   "metadata": {
    "vscode": {
     "languageId": "r"
    }
   },
   "outputs": [
    {
     "name": "stderr",
     "output_type": "stream",
     "text": [
      "Warning message in model.matrix.default(~x - 1, model.frame(~x - 1), contrasts = FALSE):\n",
      "\"non-list contrasts argument ignored\"\n",
      "Warning message in model.matrix.default(~x - 1, model.frame(~x - 1), contrasts = FALSE):\n",
      "\"non-list contrasts argument ignored\"\n",
      "Warning message in model.matrix.default(~x - 1, model.frame(~x - 1), contrasts = FALSE):\n",
      "\"non-list contrasts argument ignored\"\n",
      "Warning message in model.matrix.default(~x - 1, model.frame(~x - 1), contrasts = FALSE):\n",
      "\"non-list contrasts argument ignored\"\n"
     ]
    }
   ],
   "source": [
    "data_factor_onehot <- dummy.data.frame(data_factor[,variables_to_keep], sep=\"_\")\n",
    "# Concerning the warnings: https://stackoverflow.com/questions/56637183/warning-message-dummy-from-dummies-package"
   ]
  },
  {
   "cell_type": "code",
   "execution_count": 43,
   "metadata": {
    "vscode": {
     "languageId": "r"
    }
   },
   "outputs": [
    {
     "data": {
      "text/html": [
       "<style>\n",
       ".list-inline {list-style: none; margin:0; padding: 0}\n",
       ".list-inline>li {display: inline-block}\n",
       ".list-inline>li:not(:last-child)::after {content: \"\\00b7\"; padding: 0 .5ex}\n",
       "</style>\n",
       "<ol class=list-inline><li>1000</li><li>82</li></ol>\n"
      ],
      "text/latex": [
       "\\begin{enumerate*}\n",
       "\\item 1000\n",
       "\\item 82\n",
       "\\end{enumerate*}\n"
      ],
      "text/markdown": [
       "1. 1000\n",
       "2. 82\n",
       "\n",
       "\n"
      ],
      "text/plain": [
       "[1] 1000   82"
      ]
     },
     "metadata": {},
     "output_type": "display_data"
    }
   ],
   "source": [
    "dim(data_factor_onehot)"
   ]
  },
  {
   "cell_type": "code",
   "execution_count": 44,
   "metadata": {
    "vscode": {
     "languageId": "r"
    }
   },
   "outputs": [
    {
     "data": {
      "text/html": [
       "<table class=\"dataframe\">\n",
       "<caption>A data.frame: 2 × 82</caption>\n",
       "<thead>\n",
       "\t<tr><th></th><th scope=col>color_</th><th scope=col>color_ Black and White</th><th scope=col>color_Color</th><th scope=col>language_</th><th scope=col>language_Aboriginal</th><th scope=col>language_Arabic</th><th scope=col>language_Cantonese</th><th scope=col>language_Danish</th><th scope=col>language_Dari</th><th scope=col>language_Dutch</th><th scope=col>language_Dzongkha</th><th scope=col>language_English</th><th scope=col>language_French</th><th scope=col>language_German</th><th scope=col>language_Hebrew</th><th scope=col>language_Hindi</th><th scope=col>language_Icelandic</th><th scope=col>language_Italian</th><th scope=col>language_Kazakh</th><th scope=col>language_Mandarin</th><th scope=col>language_Norwegian</th><th scope=col>language_Panjabi</th><th scope=col>language_Persian</th><th scope=col>language_Polish</th><th scope=col>language_Portuguese</th><th scope=col>...</th><th scope=col>country_South Africa</th><th scope=col>country_South Korea</th><th scope=col>country_Soviet Union</th><th scope=col>country_Spain</th><th scope=col>country_Switzerland</th><th scope=col>country_UK</th><th scope=col>country_United Arab Emirates</th><th scope=col>country_USA</th><th scope=col>content_rating_</th><th scope=col>content_rating_Approved</th><th scope=col>content_rating_G</th><th scope=col>content_rating_GP</th><th scope=col>content_rating_M</th><th scope=col>content_rating_NC-17</th><th scope=col>content_rating_Not Rated</th><th scope=col>content_rating_Passed</th><th scope=col>content_rating_PG</th><th scope=col>content_rating_PG-13</th><th scope=col>content_rating_R</th><th scope=col>content_rating_TV-14</th><th scope=col>content_rating_TV-G</th><th scope=col>content_rating_TV-MA</th><th scope=col>content_rating_TV-PG</th><th scope=col>content_rating_Unrated</th><th scope=col>content_rating_X</th></tr>\n",
       "\t<tr><th></th><th scope=col>&lt;int&gt;</th><th scope=col>&lt;int&gt;</th><th scope=col>&lt;int&gt;</th><th scope=col>&lt;int&gt;</th><th scope=col>&lt;int&gt;</th><th scope=col>&lt;int&gt;</th><th scope=col>&lt;int&gt;</th><th scope=col>&lt;int&gt;</th><th scope=col>&lt;int&gt;</th><th scope=col>&lt;int&gt;</th><th scope=col>&lt;int&gt;</th><th scope=col>&lt;int&gt;</th><th scope=col>&lt;int&gt;</th><th scope=col>&lt;int&gt;</th><th scope=col>&lt;int&gt;</th><th scope=col>&lt;int&gt;</th><th scope=col>&lt;int&gt;</th><th scope=col>&lt;int&gt;</th><th scope=col>&lt;int&gt;</th><th scope=col>&lt;int&gt;</th><th scope=col>&lt;int&gt;</th><th scope=col>&lt;int&gt;</th><th scope=col>&lt;int&gt;</th><th scope=col>&lt;int&gt;</th><th scope=col>&lt;int&gt;</th><th scope=col>...</th><th scope=col>&lt;int&gt;</th><th scope=col>&lt;int&gt;</th><th scope=col>&lt;int&gt;</th><th scope=col>&lt;int&gt;</th><th scope=col>&lt;int&gt;</th><th scope=col>&lt;int&gt;</th><th scope=col>&lt;int&gt;</th><th scope=col>&lt;int&gt;</th><th scope=col>&lt;int&gt;</th><th scope=col>&lt;int&gt;</th><th scope=col>&lt;int&gt;</th><th scope=col>&lt;int&gt;</th><th scope=col>&lt;int&gt;</th><th scope=col>&lt;int&gt;</th><th scope=col>&lt;int&gt;</th><th scope=col>&lt;int&gt;</th><th scope=col>&lt;int&gt;</th><th scope=col>&lt;int&gt;</th><th scope=col>&lt;int&gt;</th><th scope=col>&lt;int&gt;</th><th scope=col>&lt;int&gt;</th><th scope=col>&lt;int&gt;</th><th scope=col>&lt;int&gt;</th><th scope=col>&lt;int&gt;</th><th scope=col>&lt;int&gt;</th></tr>\n",
       "</thead>\n",
       "<tbody>\n",
       "\t<tr><th scope=row>3925</th><td>0</td><td>0</td><td>1</td><td>0</td><td>0</td><td>0</td><td>0</td><td>0</td><td>0</td><td>0</td><td>0</td><td>1</td><td>0</td><td>0</td><td>0</td><td>0</td><td>0</td><td>0</td><td>0</td><td>0</td><td>0</td><td>0</td><td>0</td><td>0</td><td>0</td><td>...</td><td>0</td><td>0</td><td>0</td><td>0</td><td>0</td><td>0</td><td>0</td><td>1</td><td>0</td><td>0</td><td>0</td><td>0</td><td>0</td><td>0</td><td>0</td><td>0</td><td>0</td><td>0</td><td>1</td><td>0</td><td>0</td><td>0</td><td>0</td><td>0</td><td>0</td></tr>\n",
       "\t<tr><th scope=row>4806</th><td>0</td><td>0</td><td>1</td><td>0</td><td>0</td><td>0</td><td>0</td><td>0</td><td>0</td><td>0</td><td>0</td><td>1</td><td>0</td><td>0</td><td>0</td><td>0</td><td>0</td><td>0</td><td>0</td><td>0</td><td>0</td><td>0</td><td>0</td><td>0</td><td>0</td><td>...</td><td>0</td><td>0</td><td>0</td><td>0</td><td>0</td><td>0</td><td>0</td><td>0</td><td>0</td><td>0</td><td>0</td><td>0</td><td>0</td><td>0</td><td>0</td><td>0</td><td>0</td><td>0</td><td>1</td><td>0</td><td>0</td><td>0</td><td>0</td><td>0</td><td>0</td></tr>\n",
       "</tbody>\n",
       "</table>\n"
      ],
      "text/latex": [
       "A data.frame: 2 × 82\n",
       "\\begin{tabular}{r|lllllllllllllllllllllllllllllllllllllllllllllllllll}\n",
       "  & color\\_ & color\\_ Black and White & color\\_Color & language\\_ & language\\_Aboriginal & language\\_Arabic & language\\_Cantonese & language\\_Danish & language\\_Dari & language\\_Dutch & language\\_Dzongkha & language\\_English & language\\_French & language\\_German & language\\_Hebrew & language\\_Hindi & language\\_Icelandic & language\\_Italian & language\\_Kazakh & language\\_Mandarin & language\\_Norwegian & language\\_Panjabi & language\\_Persian & language\\_Polish & language\\_Portuguese & ... & country\\_South Africa & country\\_South Korea & country\\_Soviet Union & country\\_Spain & country\\_Switzerland & country\\_UK & country\\_United Arab Emirates & country\\_USA & content\\_rating\\_ & content\\_rating\\_Approved & content\\_rating\\_G & content\\_rating\\_GP & content\\_rating\\_M & content\\_rating\\_NC-17 & content\\_rating\\_Not Rated & content\\_rating\\_Passed & content\\_rating\\_PG & content\\_rating\\_PG-13 & content\\_rating\\_R & content\\_rating\\_TV-14 & content\\_rating\\_TV-G & content\\_rating\\_TV-MA & content\\_rating\\_TV-PG & content\\_rating\\_Unrated & content\\_rating\\_X\\\\\n",
       "  & <int> & <int> & <int> & <int> & <int> & <int> & <int> & <int> & <int> & <int> & <int> & <int> & <int> & <int> & <int> & <int> & <int> & <int> & <int> & <int> & <int> & <int> & <int> & <int> & <int> & ... & <int> & <int> & <int> & <int> & <int> & <int> & <int> & <int> & <int> & <int> & <int> & <int> & <int> & <int> & <int> & <int> & <int> & <int> & <int> & <int> & <int> & <int> & <int> & <int> & <int>\\\\\n",
       "\\hline\n",
       "\t3925 & 0 & 0 & 1 & 0 & 0 & 0 & 0 & 0 & 0 & 0 & 0 & 1 & 0 & 0 & 0 & 0 & 0 & 0 & 0 & 0 & 0 & 0 & 0 & 0 & 0 & ... & 0 & 0 & 0 & 0 & 0 & 0 & 0 & 1 & 0 & 0 & 0 & 0 & 0 & 0 & 0 & 0 & 0 & 0 & 1 & 0 & 0 & 0 & 0 & 0 & 0\\\\\n",
       "\t4806 & 0 & 0 & 1 & 0 & 0 & 0 & 0 & 0 & 0 & 0 & 0 & 1 & 0 & 0 & 0 & 0 & 0 & 0 & 0 & 0 & 0 & 0 & 0 & 0 & 0 & ... & 0 & 0 & 0 & 0 & 0 & 0 & 0 & 0 & 0 & 0 & 0 & 0 & 0 & 0 & 0 & 0 & 0 & 0 & 1 & 0 & 0 & 0 & 0 & 0 & 0\\\\\n",
       "\\end{tabular}\n"
      ],
      "text/markdown": [
       "\n",
       "A data.frame: 2 × 82\n",
       "\n",
       "| <!--/--> | color_ &lt;int&gt; | color_ Black and White &lt;int&gt; | color_Color &lt;int&gt; | language_ &lt;int&gt; | language_Aboriginal &lt;int&gt; | language_Arabic &lt;int&gt; | language_Cantonese &lt;int&gt; | language_Danish &lt;int&gt; | language_Dari &lt;int&gt; | language_Dutch &lt;int&gt; | language_Dzongkha &lt;int&gt; | language_English &lt;int&gt; | language_French &lt;int&gt; | language_German &lt;int&gt; | language_Hebrew &lt;int&gt; | language_Hindi &lt;int&gt; | language_Icelandic &lt;int&gt; | language_Italian &lt;int&gt; | language_Kazakh &lt;int&gt; | language_Mandarin &lt;int&gt; | language_Norwegian &lt;int&gt; | language_Panjabi &lt;int&gt; | language_Persian &lt;int&gt; | language_Polish &lt;int&gt; | language_Portuguese &lt;int&gt; | ... ... | country_South Africa &lt;int&gt; | country_South Korea &lt;int&gt; | country_Soviet Union &lt;int&gt; | country_Spain &lt;int&gt; | country_Switzerland &lt;int&gt; | country_UK &lt;int&gt; | country_United Arab Emirates &lt;int&gt; | country_USA &lt;int&gt; | content_rating_ &lt;int&gt; | content_rating_Approved &lt;int&gt; | content_rating_G &lt;int&gt; | content_rating_GP &lt;int&gt; | content_rating_M &lt;int&gt; | content_rating_NC-17 &lt;int&gt; | content_rating_Not Rated &lt;int&gt; | content_rating_Passed &lt;int&gt; | content_rating_PG &lt;int&gt; | content_rating_PG-13 &lt;int&gt; | content_rating_R &lt;int&gt; | content_rating_TV-14 &lt;int&gt; | content_rating_TV-G &lt;int&gt; | content_rating_TV-MA &lt;int&gt; | content_rating_TV-PG &lt;int&gt; | content_rating_Unrated &lt;int&gt; | content_rating_X &lt;int&gt; |\n",
       "|---|---|---|---|---|---|---|---|---|---|---|---|---|---|---|---|---|---|---|---|---|---|---|---|---|---|---|---|---|---|---|---|---|---|---|---|---|---|---|---|---|---|---|---|---|---|---|---|---|---|---|---|\n",
       "| 3925 | 0 | 0 | 1 | 0 | 0 | 0 | 0 | 0 | 0 | 0 | 0 | 1 | 0 | 0 | 0 | 0 | 0 | 0 | 0 | 0 | 0 | 0 | 0 | 0 | 0 | ... | 0 | 0 | 0 | 0 | 0 | 0 | 0 | 1 | 0 | 0 | 0 | 0 | 0 | 0 | 0 | 0 | 0 | 0 | 1 | 0 | 0 | 0 | 0 | 0 | 0 |\n",
       "| 4806 | 0 | 0 | 1 | 0 | 0 | 0 | 0 | 0 | 0 | 0 | 0 | 1 | 0 | 0 | 0 | 0 | 0 | 0 | 0 | 0 | 0 | 0 | 0 | 0 | 0 | ... | 0 | 0 | 0 | 0 | 0 | 0 | 0 | 0 | 0 | 0 | 0 | 0 | 0 | 0 | 0 | 0 | 0 | 0 | 1 | 0 | 0 | 0 | 0 | 0 | 0 |\n",
       "\n"
      ],
      "text/plain": [
       "     color_ color_ Black and White color_Color language_ language_Aboriginal\n",
       "3925 0      0                      1           0         0                  \n",
       "4806 0      0                      1           0         0                  \n",
       "     language_Arabic language_Cantonese language_Danish language_Dari\n",
       "3925 0               0                  0               0            \n",
       "4806 0               0                  0               0            \n",
       "     language_Dutch language_Dzongkha language_English language_French\n",
       "3925 0              0                 1                0              \n",
       "4806 0              0                 1                0              \n",
       "     language_German language_Hebrew language_Hindi language_Icelandic\n",
       "3925 0               0               0              0                 \n",
       "4806 0               0               0              0                 \n",
       "     language_Italian language_Kazakh language_Mandarin language_Norwegian\n",
       "3925 0                0               0                 0                 \n",
       "4806 0                0               0                 0                 \n",
       "     language_Panjabi language_Persian language_Polish language_Portuguese ...\n",
       "3925 0                0                0               0                   ...\n",
       "4806 0                0                0               0                   ...\n",
       "     country_South Africa country_South Korea country_Soviet Union\n",
       "3925 0                    0                   0                   \n",
       "4806 0                    0                   0                   \n",
       "     country_Spain country_Switzerland country_UK country_United Arab Emirates\n",
       "3925 0             0                   0          0                           \n",
       "4806 0             0                   0          0                           \n",
       "     country_USA content_rating_ content_rating_Approved content_rating_G\n",
       "3925 1           0               0                       0               \n",
       "4806 0           0               0                       0               \n",
       "     content_rating_GP content_rating_M content_rating_NC-17\n",
       "3925 0                 0                0                   \n",
       "4806 0                 0                0                   \n",
       "     content_rating_Not Rated content_rating_Passed content_rating_PG\n",
       "3925 0                        0                     0                \n",
       "4806 0                        0                     0                \n",
       "     content_rating_PG-13 content_rating_R content_rating_TV-14\n",
       "3925 0                    1                0                   \n",
       "4806 0                    1                0                   \n",
       "     content_rating_TV-G content_rating_TV-MA content_rating_TV-PG\n",
       "3925 0                   0                    0                   \n",
       "4806 0                   0                    0                   \n",
       "     content_rating_Unrated content_rating_X\n",
       "3925 0                      0               \n",
       "4806 0                      0               "
      ]
     },
     "metadata": {},
     "output_type": "display_data"
    }
   ],
   "source": [
    "data_factor_onehot[1:2,]"
   ]
  },
  {
   "cell_type": "markdown",
   "metadata": {},
   "source": [
    "These could be added to the previously preprocessed dataset, and used to further improve the prediction accuracy using the feature selection/ensemble techniques seen above. "
   ]
  },
  {
   "cell_type": "code",
   "execution_count": 45,
   "metadata": {
    "vscode": {
     "languageId": "r"
    }
   },
   "outputs": [],
   "source": [
    "data_preprocessed_extended<-cbind(data_preprocessed,data_factor_onehot)"
   ]
  },
  {
   "cell_type": "code",
   "execution_count": 46,
   "metadata": {
    "vscode": {
     "languageId": "r"
    }
   },
   "outputs": [
    {
     "data": {
      "text/html": [
       "<style>\n",
       ".list-inline {list-style: none; margin:0; padding: 0}\n",
       ".list-inline>li {display: inline-block}\n",
       ".list-inline>li:not(:last-child)::after {content: \"\\00b7\"; padding: 0 .5ex}\n",
       "</style>\n",
       "<ol class=list-inline><li>1000</li><li>98</li></ol>\n"
      ],
      "text/latex": [
       "\\begin{enumerate*}\n",
       "\\item 1000\n",
       "\\item 98\n",
       "\\end{enumerate*}\n"
      ],
      "text/markdown": [
       "1. 1000\n",
       "2. 98\n",
       "\n",
       "\n"
      ],
      "text/plain": [
       "[1] 1000   98"
      ]
     },
     "metadata": {},
     "output_type": "display_data"
    }
   ],
   "source": [
    "dim(data_preprocessed_extended)"
   ]
  },
  {
   "cell_type": "code",
   "execution_count": 47,
   "metadata": {
    "vscode": {
     "languageId": "r"
    }
   },
   "outputs": [
    {
     "data": {
      "text/plain": [
       " num_critic_for_reviews    duration   director_facebook_likes\n",
       " Min.   :  1.0          Min.   :  7   Min.   :    0.0        \n",
       " 1st Qu.: 48.0          1st Qu.: 93   1st Qu.:    7.0        \n",
       " Median :105.5          Median :103   Median :   48.5        \n",
       " Mean   :135.1          Mean   :106   Mean   :  669.3        \n",
       " 3rd Qu.:181.0          3rd Qu.:116   3rd Qu.:  234.0        \n",
       " Max.   :765.0          Max.   :511   Max.   :21000.0        \n",
       " actor_3_facebook_likes actor_1_facebook_likes     gross          \n",
       " Min.   :    0.0        Min.   :    0.0        Min.   :      703  \n",
       " 1st Qu.:  120.0        1st Qu.:  623.8        1st Qu.:  9158619  \n",
       " Median :  397.5        Median :  982.0        Median : 38108330  \n",
       " Mean   :  602.2        Mean   : 5950.9        Mean   : 46927291  \n",
       " 3rd Qu.:  642.0        3rd Qu.:11000.0        3rd Qu.: 47159944  \n",
       " Max.   :19000.0        Max.   :49000.0        Max.   :658672302  \n",
       " num_voted_users  cast_total_facebook_likes facenumber_in_poster\n",
       " Min.   :     5   Min.   :    0             Min.   : 0.000      \n",
       " 1st Qu.:  7110   1st Qu.: 1466             1st Qu.: 0.000      \n",
       " Median : 31625   Median : 3142             Median : 1.000      \n",
       " Mean   : 76398   Mean   : 9103             Mean   : 1.394      \n",
       " 3rd Qu.: 87767   3rd Qu.:13884             3rd Qu.: 2.000      \n",
       " Max.   :955174   Max.   :77823             Max.   :31.000      \n",
       " num_user_for_reviews     budget            title_year   actor_2_facebook_likes\n",
       " Min.   :   1.0       Min.   :     3250   Min.   :1916   Min.   :    0.0       \n",
       " 1st Qu.:  61.0       1st Qu.:  6500000   1st Qu.:1999   1st Qu.:  301.5       \n",
       " Median : 156.0       Median : 22000000   Median :2005   Median :  605.0       \n",
       " Mean   : 257.5       Mean   : 31645256   Mean   :2002   Mean   : 1720.3       \n",
       " 3rd Qu.: 315.2       3rd Qu.: 37000000   3rd Qu.:2010   3rd Qu.:  936.5       \n",
       " Max.   :3597.0       Max.   :260000000   Max.   :2016   Max.   :29000.0       \n",
       "   imdb_score     aspect_ratio    movie_facebook_likes     color_     \n",
       " Min.   :1.900   Min.   : 1.330   Min.   :     0       Min.   :0.000  \n",
       " 1st Qu.:5.800   1st Qu.: 1.850   1st Qu.:     0       1st Qu.:0.000  \n",
       " Median :6.500   Median : 2.289   Median :    65       Median :0.000  \n",
       " Mean   :6.426   Mean   : 2.289   Mean   :  6947       Mean   :0.004  \n",
       " 3rd Qu.:7.200   3rd Qu.: 2.350   3rd Qu.:  1000       3rd Qu.:0.000  \n",
       " Max.   :8.900   Max.   :16.000   Max.   :199000       Max.   :1.000  \n",
       " color_ Black and White  color_Color      language_     language_Aboriginal\n",
       " Min.   :0.000          Min.   :0.000   Min.   :0.000   Min.   :0.000      \n",
       " 1st Qu.:0.000          1st Qu.:1.000   1st Qu.:0.000   1st Qu.:0.000      \n",
       " Median :0.000          Median :1.000   Median :0.000   Median :0.000      \n",
       " Mean   :0.037          Mean   :0.959   Mean   :0.004   Mean   :0.002      \n",
       " 3rd Qu.:0.000          3rd Qu.:1.000   3rd Qu.:0.000   3rd Qu.:0.000      \n",
       " Max.   :1.000          Max.   :1.000   Max.   :1.000   Max.   :1.000      \n",
       " language_Arabic language_Cantonese language_Danish language_Dari  \n",
       " Min.   :0.000   Min.   :0.000      Min.   :0.000   Min.   :0.000  \n",
       " 1st Qu.:0.000   1st Qu.:0.000      1st Qu.:0.000   1st Qu.:0.000  \n",
       " Median :0.000   Median :0.000      Median :0.000   Median :0.000  \n",
       " Mean   :0.001   Mean   :0.003      Mean   :0.001   Mean   :0.001  \n",
       " 3rd Qu.:0.000   3rd Qu.:0.000      3rd Qu.:0.000   3rd Qu.:0.000  \n",
       " Max.   :1.000   Max.   :1.000      Max.   :1.000   Max.   :1.000  \n",
       " language_Dutch  language_Dzongkha language_English language_French\n",
       " Min.   :0.000   Min.   :0.000     Min.   :0.000    Min.   :0.000  \n",
       " 1st Qu.:0.000   1st Qu.:0.000     1st Qu.:1.000    1st Qu.:0.000  \n",
       " Median :0.000   Median :0.000     Median :1.000    Median :0.000  \n",
       " Mean   :0.001   Mean   :0.001     Mean   :0.934    Mean   :0.015  \n",
       " 3rd Qu.:0.000   3rd Qu.:0.000     3rd Qu.:1.000    3rd Qu.:0.000  \n",
       " Max.   :1.000   Max.   :1.000     Max.   :1.000    Max.   :1.000  \n",
       " language_German language_Hebrew language_Hindi  language_Icelandic\n",
       " Min.   :0.000   Min.   :0.000   Min.   :0.000   Min.   :0.000     \n",
       " 1st Qu.:0.000   1st Qu.:0.000   1st Qu.:0.000   1st Qu.:0.000     \n",
       " Median :0.000   Median :0.000   Median :0.000   Median :0.000     \n",
       " Mean   :0.004   Mean   :0.001   Mean   :0.005   Mean   :0.001     \n",
       " 3rd Qu.:0.000   3rd Qu.:0.000   3rd Qu.:0.000   3rd Qu.:0.000     \n",
       " Max.   :1.000   Max.   :1.000   Max.   :1.000   Max.   :1.000     \n",
       " language_Italian language_Kazakh language_Mandarin language_Norwegian\n",
       " Min.   :0.000    Min.   :0.000   Min.   :0.000     Min.   :0.000     \n",
       " 1st Qu.:0.000    1st Qu.:0.000   1st Qu.:0.000     1st Qu.:0.000     \n",
       " Median :0.000    Median :0.000   Median :0.000     Median :0.000     \n",
       " Mean   :0.002    Mean   :0.001   Mean   :0.004     Mean   :0.001     \n",
       " 3rd Qu.:0.000    3rd Qu.:0.000   3rd Qu.:0.000     3rd Qu.:0.000     \n",
       " Max.   :1.000    Max.   :1.000   Max.   :1.000     Max.   :1.000     \n",
       " language_Panjabi language_Persian language_Polish language_Portuguese\n",
       " Min.   :0.000    Min.   :0.000    Min.   :0.000   Min.   :0.000      \n",
       " 1st Qu.:0.000    1st Qu.:0.000    1st Qu.:0.000   1st Qu.:0.000      \n",
       " Median :0.000    Median :0.000    Median :0.000   Median :0.000      \n",
       " Mean   :0.001    Mean   :0.002    Mean   :0.001   Mean   :0.004      \n",
       " 3rd Qu.:0.000    3rd Qu.:0.000    3rd Qu.:0.000   3rd Qu.:0.000      \n",
       " Max.   :1.000    Max.   :1.000    Max.   :1.000   Max.   :1.000      \n",
       " language_Romanian language_Russian language_Spanish language_Telugu\n",
       " Min.   :0.000     Min.   :0.000    Min.   :0.000    Min.   :0.000  \n",
       " 1st Qu.:0.000     1st Qu.:0.000    1st Qu.:0.000    1st Qu.:0.000  \n",
       " Median :0.000     Median :0.000    Median :0.000    Median :0.000  \n",
       " Mean   :0.001     Mean   :0.003    Mean   :0.005    Mean   :0.001  \n",
       " 3rd Qu.:0.000     3rd Qu.:0.000    3rd Qu.:0.000    3rd Qu.:0.000  \n",
       " Max.   :1.000     Max.   :1.000    Max.   :1.000    Max.   :1.000  \n",
       " country_Afghanistan country_Australia country_Brazil  country_Canada \n",
       " Min.   :0.000       Min.   :0.000     Min.   :0.000   Min.   :0.000  \n",
       " 1st Qu.:0.000       1st Qu.:0.000     1st Qu.:0.000   1st Qu.:0.000  \n",
       " Median :0.000       Median :0.000     Median :0.000   Median :0.000  \n",
       " Mean   :0.001       Mean   :0.018     Mean   :0.004   Mean   :0.027  \n",
       " 3rd Qu.:0.000       3rd Qu.:0.000     3rd Qu.:0.000   3rd Qu.:0.000  \n",
       " Max.   :1.000       Max.   :1.000     Max.   :1.000   Max.   :1.000  \n",
       " country_Chile   country_China   country_Czech Republic country_Denmark\n",
       " Min.   :0.000   Min.   :0.000   Min.   :0.000          Min.   :0.000  \n",
       " 1st Qu.:0.000   1st Qu.:0.000   1st Qu.:0.000          1st Qu.:0.000  \n",
       " Median :0.000   Median :0.000   Median :0.000          Median :0.000  \n",
       " Mean   :0.001   Mean   :0.004   Mean   :0.001          Mean   :0.001  \n",
       " 3rd Qu.:0.000   3rd Qu.:0.000   3rd Qu.:0.000          3rd Qu.:0.000  \n",
       " Max.   :1.000   Max.   :1.000   Max.   :1.000          Max.   :1.000  \n",
       " country_France  country_Germany country_Hong Kong country_Iceland\n",
       " Min.   :0.000   Min.   :0.00    Min.   :0.000     Min.   :0.000  \n",
       " 1st Qu.:0.000   1st Qu.:0.00    1st Qu.:0.000     1st Qu.:0.000  \n",
       " Median :0.000   Median :0.00    Median :0.000     Median :0.000  \n",
       " Mean   :0.024   Mean   :0.02    Mean   :0.003     Mean   :0.001  \n",
       " 3rd Qu.:0.000   3rd Qu.:0.00    3rd Qu.:0.000     3rd Qu.:0.000  \n",
       " Max.   :1.000   Max.   :1.00    Max.   :1.000     Max.   :1.000  \n",
       " country_India    country_Iran   country_Ireland country_Italy  \n",
       " Min.   :0.000   Min.   :0.000   Min.   :0.000   Min.   :0.000  \n",
       " 1st Qu.:0.000   1st Qu.:0.000   1st Qu.:0.000   1st Qu.:0.000  \n",
       " Median :0.000   Median :0.000   Median :0.000   Median :0.000  \n",
       " Mean   :0.005   Mean   :0.002   Mean   :0.003   Mean   :0.006  \n",
       " 3rd Qu.:0.000   3rd Qu.:0.000   3rd Qu.:0.000   3rd Qu.:0.000  \n",
       " Max.   :1.000   Max.   :1.000   Max.   :1.000   Max.   :1.000  \n",
       " country_Japan   country_Mexico  country_Netherlands country_New Zealand\n",
       " Min.   :0.000   Min.   :0.000   Min.   :0.000       Min.   :0.000      \n",
       " 1st Qu.:0.000   1st Qu.:0.000   1st Qu.:0.000       1st Qu.:0.000      \n",
       " Median :0.000   Median :0.000   Median :0.000       Median :0.000      \n",
       " Mean   :0.001   Mean   :0.001   Mean   :0.001       Mean   :0.003      \n",
       " 3rd Qu.:0.000   3rd Qu.:0.000   3rd Qu.:0.000       3rd Qu.:0.000      \n",
       " Max.   :1.000   Max.   :1.000   Max.   :1.000       Max.   :1.000      \n",
       " country_Nigeria country_Norway  country_Official site country_Panama \n",
       " Min.   :0.000   Min.   :0.000   Min.   :0.000         Min.   :0.000  \n",
       " 1st Qu.:0.000   1st Qu.:0.000   1st Qu.:0.000         1st Qu.:0.000  \n",
       " Median :0.000   Median :0.000   Median :0.000         Median :0.000  \n",
       " Mean   :0.001   Mean   :0.002   Mean   :0.001         Mean   :0.001  \n",
       " 3rd Qu.:0.000   3rd Qu.:0.000   3rd Qu.:0.000         3rd Qu.:0.000  \n",
       " Max.   :1.000   Max.   :1.000   Max.   :1.000         Max.   :1.000  \n",
       " country_Poland  country_Romania country_Russia  country_Slovakia\n",
       " Min.   :0.000   Min.   :0.000   Min.   :0.000   Min.   :0.000   \n",
       " 1st Qu.:0.000   1st Qu.:0.000   1st Qu.:0.000   1st Qu.:0.000   \n",
       " Median :0.000   Median :0.000   Median :0.000   Median :0.000   \n",
       " Mean   :0.001   Mean   :0.001   Mean   :0.003   Mean   :0.001   \n",
       " 3rd Qu.:0.000   3rd Qu.:0.000   3rd Qu.:0.000   3rd Qu.:0.000   \n",
       " Max.   :1.000   Max.   :1.000   Max.   :1.000   Max.   :1.000   \n",
       " country_South Africa country_South Korea country_Soviet Union country_Spain  \n",
       " Min.   :0.000        Min.   :0.000       Min.   :0.000        Min.   :0.000  \n",
       " 1st Qu.:0.000        1st Qu.:0.000       1st Qu.:0.000        1st Qu.:0.000  \n",
       " Median :0.000        Median :0.000       Median :0.000        Median :0.000  \n",
       " Mean   :0.001        Mean   :0.002       Mean   :0.001        Mean   :0.006  \n",
       " 3rd Qu.:0.000        3rd Qu.:0.000       3rd Qu.:0.000        3rd Qu.:0.000  \n",
       " Max.   :1.000        Max.   :1.000       Max.   :1.000        Max.   :1.000  \n",
       " country_Switzerland   country_UK    country_United Arab Emirates\n",
       " Min.   :0.000       Min.   :0.000   Min.   :0.000               \n",
       " 1st Qu.:0.000       1st Qu.:0.000   1st Qu.:0.000               \n",
       " Median :0.000       Median :0.000   Median :0.000               \n",
       " Mean   :0.001       Mean   :0.098   Mean   :0.001               \n",
       " 3rd Qu.:0.000       3rd Qu.:0.000   3rd Qu.:0.000               \n",
       " Max.   :1.000       Max.   :1.000   Max.   :1.000               \n",
       "  country_USA    content_rating_ content_rating_Approved content_rating_G\n",
       " Min.   :0.000   Min.   :0.000   Min.   :0.00            Min.   :0.000   \n",
       " 1st Qu.:1.000   1st Qu.:0.000   1st Qu.:0.00            1st Qu.:0.000   \n",
       " Median :1.000   Median :0.000   Median :0.00            Median :0.000   \n",
       " Mean   :0.752   Mean   :0.078   Mean   :0.01            Mean   :0.011   \n",
       " 3rd Qu.:1.000   3rd Qu.:0.000   3rd Qu.:0.00            3rd Qu.:0.000   \n",
       " Max.   :1.000   Max.   :1.000   Max.   :1.00            Max.   :1.000   \n",
       " content_rating_GP content_rating_M content_rating_NC-17\n",
       " Min.   :0.000     Min.   :0.000    Min.   :0.000       \n",
       " 1st Qu.:0.000     1st Qu.:0.000    1st Qu.:0.000       \n",
       " Median :0.000     Median :0.000    Median :0.000       \n",
       " Mean   :0.004     Mean   :0.001    Mean   :0.001       \n",
       " 3rd Qu.:0.000     3rd Qu.:0.000    3rd Qu.:0.000       \n",
       " Max.   :1.000     Max.   :1.000    Max.   :1.000       \n",
       " content_rating_Not Rated content_rating_Passed content_rating_PG\n",
       " Min.   :0.000            Min.   :0.000         Min.   :0.000    \n",
       " 1st Qu.:0.000            1st Qu.:0.000         1st Qu.:0.000    \n",
       " Median :0.000            Median :0.000         Median :0.000    \n",
       " Mean   :0.021            Mean   :0.001         Mean   :0.145    \n",
       " 3rd Qu.:0.000            3rd Qu.:0.000         3rd Qu.:0.000    \n",
       " Max.   :1.000            Max.   :1.000         Max.   :1.000    \n",
       " content_rating_PG-13 content_rating_R content_rating_TV-14 content_rating_TV-G\n",
       " Min.   :0.000        Min.   :0.000    Min.   :0.000        Min.   :0.000      \n",
       " 1st Qu.:0.000        1st Qu.:0.000    1st Qu.:0.000        1st Qu.:0.000      \n",
       " Median :0.000        Median :0.000    Median :0.000        Median :0.000      \n",
       " Mean   :0.264        Mean   :0.433    Mean   :0.002        Mean   :0.004      \n",
       " 3rd Qu.:1.000        3rd Qu.:1.000    3rd Qu.:0.000        3rd Qu.:0.000      \n",
       " Max.   :1.000        Max.   :1.000    Max.   :1.000        Max.   :1.000      \n",
       " content_rating_TV-MA content_rating_TV-PG content_rating_Unrated\n",
       " Min.   :0.000        Min.   :0.000        Min.   :0.000         \n",
       " 1st Qu.:0.000        1st Qu.:0.000        1st Qu.:0.000         \n",
       " Median :0.000        Median :0.000        Median :0.000         \n",
       " Mean   :0.006        Mean   :0.006        Mean   :0.011         \n",
       " 3rd Qu.:0.000        3rd Qu.:0.000        3rd Qu.:0.000         \n",
       " Max.   :1.000        Max.   :1.000        Max.   :1.000         \n",
       " content_rating_X\n",
       " Min.   :0.000   \n",
       " 1st Qu.:0.000   \n",
       " Median :0.000   \n",
       " Mean   :0.002   \n",
       " 3rd Qu.:0.000   \n",
       " Max.   :1.000   "
      ]
     },
     "metadata": {},
     "output_type": "display_data"
    }
   ],
   "source": [
    "summary(data_preprocessed_extended)"
   ]
  },
  {
   "cell_type": "markdown",
   "metadata": {},
   "source": [
    "## Using other predictive models\n",
    "\n",
    "Other models could be used, for example support vector machines, neural networks, K-nearest neighbors (using the `svm`, `nnt`or `lazy` functions from the `e1071`, `nnet` or `lazy` packages, respectively). Note that scaling the data is usually necessary when using neural networks and K-nearest neighbors approaches.\n",
    "\n",
    "Is the usage of different models improving the predictive performance?"
   ]
  },
  {
   "cell_type": "code",
   "execution_count": null,
   "metadata": {
    "vscode": {
     "languageId": "r"
    }
   },
   "outputs": [],
   "source": [
    "install.packages(c(\"e1071\",\"nnet\",\"lazy\"))"
   ]
  },
  {
   "cell_type": "code",
   "execution_count": 49,
   "metadata": {
    "vscode": {
     "languageId": "r"
    }
   },
   "outputs": [],
   "source": [
    "X<-data_preprocessed_extended[,setdiff(colnames(data_preprocessed_extended),\"imdb_score\")]\n",
    "Y<-data_preprocessed_extended[,\"imdb_score\"]\n",
    "\n",
    "colnames(X) <- gsub(colnames(X),pattern = \" \", replacement = \"_\")\n",
    "colnames(X) <- gsub(colnames(X),pattern = \"-\", replacement = \"_\")\n",
    "\n",
    "N<-nrow(X)    #Number of examples\n",
    "n<-ncol(X)    #Number of input variables\n"
   ]
  },
  {
   "cell_type": "code",
   "execution_count": 50,
   "metadata": {
    "vscode": {
     "languageId": "r"
    }
   },
   "outputs": [
    {
     "data": {
      "text/html": [
       "<style>\n",
       ".list-inline {list-style: none; margin:0; padding: 0}\n",
       ".list-inline>li {display: inline-block}\n",
       ".list-inline>li:not(:last-child)::after {content: \"\\00b7\"; padding: 0 .5ex}\n",
       "</style>\n",
       "<ol class=list-inline><li>1000</li><li>97</li></ol>\n"
      ],
      "text/latex": [
       "\\begin{enumerate*}\n",
       "\\item 1000\n",
       "\\item 97\n",
       "\\end{enumerate*}\n"
      ],
      "text/markdown": [
       "1. 1000\n",
       "2. 97\n",
       "\n",
       "\n"
      ],
      "text/plain": [
       "[1] 1000   97"
      ]
     },
     "metadata": {},
     "output_type": "display_data"
    },
    {
     "data": {
      "text/html": [
       "1000"
      ],
      "text/latex": [
       "1000"
      ],
      "text/markdown": [
       "1000"
      ],
      "text/plain": [
       "[1] 1000"
      ]
     },
     "metadata": {},
     "output_type": "display_data"
    }
   ],
   "source": [
    "dim(X)\n",
    "length(Y)"
   ]
  },
  {
   "cell_type": "code",
   "execution_count": 51,
   "metadata": {
    "vscode": {
     "languageId": "r"
    }
   },
   "outputs": [
    {
     "name": "stderr",
     "output_type": "stream",
     "text": [
      "Warning message:\n",
      "\"package 'e1071' was built under R version 4.0.5\"\n",
      "Warning message in svm.default(x, y, scale = scale, ..., na.action = na.action):\n",
      "\"Variable(s) 'language_Icelandic' and 'language_Polish' and 'country_Iceland' and 'country_Panama' and 'country_Poland' constant. Cannot scale data.\"\n",
      "Warning message in svm.default(x, y, scale = scale, ..., na.action = na.action):\n",
      "\"Variable(s) 'country_South_Africa' and 'country_Soviet_Union' and 'country_Switzerland' constant. Cannot scale data.\"\n",
      "Warning message in svm.default(x, y, scale = scale, ..., na.action = na.action):\n",
      "\"Variable(s) 'country_Slovakia' constant. Cannot scale data.\"\n",
      "Warning message in svm.default(x, y, scale = scale, ..., na.action = na.action):\n",
      "\"Variable(s) 'language_Dari' and 'language_Hebrew' and 'country_Afghanistan' constant. Cannot scale data.\"\n",
      "Warning message in svm.default(x, y, scale = scale, ..., na.action = na.action):\n",
      "\"Variable(s) 'language_Kazakh' and 'language_Romanian' and 'country_Romania' constant. Cannot scale data.\"\n",
      "Warning message in svm.default(x, y, scale = scale, ..., na.action = na.action):\n",
      "\"Variable(s) 'language_Norwegian' and 'language_Panjabi' and 'language_Telugu' and 'country_Mexico' and 'country_Nigeria' and 'country_Norway' and 'content_rating_M' constant. Cannot scale data.\"\n",
      "Warning message in svm.default(x, y, scale = scale, ..., na.action = na.action):\n",
      "\"Variable(s) 'language_Arabic' and 'language_Dutch' and 'country_Chile' and 'country_Czech_Republic' and 'country_Netherlands' and 'country_United_Arab_Emirates' constant. Cannot scale data.\"\n",
      "Warning message in svm.default(x, y, scale = scale, ..., na.action = na.action):\n",
      "\"Variable(s) 'language_Aboriginal' and 'country_Japan' and 'country_Official_site' and 'content_rating_NC_17' and 'content_rating_Passed' constant. Cannot scale data.\"\n",
      "Warning message in svm.default(x, y, scale = scale, ..., na.action = na.action):\n",
      "\"Variable(s) 'language_Danish' and 'language_Dzongkha' and 'country_Denmark' constant. Cannot scale data.\"\n"
     ]
    },
    {
     "name": "stdout",
     "output_type": "stream",
     "text": [
      "[1] \"CV error= 1.2294  ; std dev= 0.2539\"\n"
     ]
    }
   ],
   "source": [
    "library(e1071)\n",
    "\n",
    "CV_folds <- 10\n",
    "\n",
    "size_CV <-floor(N/CV_folds)\n",
    "\n",
    "CV_err<-numeric(CV_folds)\n",
    "\n",
    "for (i in 1:CV_folds) {\n",
    "     idx_ts<-(((i-1)*size_CV+1):(i*size_CV))  ### idx_ts represents the indices of the test set the i-th fold\n",
    "     X_ts<-X[idx_ts,]  \n",
    "     Y_ts<-Y[idx_ts]  \n",
    "     \n",
    "     idx_tr<-setdiff(1:N,idx_ts) ### idx_tr represents  indices of the training sefor the i-th fold\n",
    "     X_tr<-X[idx_tr,]\n",
    "     Y_tr<-Y[idx_tr]                          \n",
    "     \n",
    "     DS<-cbind(X_tr,imdb_score=Y_tr)\n",
    "    \n",
    "     # Model fit (using lm function)\n",
    "     model<- svm(imdb_score~.,DS)\n",
    "     \n",
    "     # Model prediction \n",
    "     Y_hat_ts<- predict(model,X_ts)\n",
    "     \n",
    "     # Cross validation error = Mean Squared Error\n",
    "     CV_err[i]<-mean((Y_hat_ts-Y_ts)^2)\n",
    "}\n",
    "    \n",
    "\n",
    "print(paste(\"CV error=\",round(mean(CV_err),digits=4), \" ; std dev=\",round(sd(CV_err),digits=4)))\n",
    "\n",
    "CV_err_svm_single_model <- CV_err"
   ]
  },
  {
   "cell_type": "code",
   "execution_count": 52,
   "metadata": {
    "vscode": {
     "languageId": "r"
    }
   },
   "outputs": [
    {
     "name": "stderr",
     "output_type": "stream",
     "text": [
      "Warning message in cor(X_tr, Y_tr):\n",
      "\"the standard deviation is zero\"\n",
      "Warning message in cor(X_tr[, selected, drop = F], X_tr[, candidates, drop = F]):\n",
      "\"the standard deviation is zero\"\n",
      "Warning message in cor(X_tr[, selected, drop = F], X_tr[, candidates, drop = F]):\n",
      "\"the standard deviation is zero\"\n",
      "Warning message in cor(X_tr[, selected, drop = F], X_tr[, candidates, drop = F]):\n",
      "\"the standard deviation is zero\"\n",
      "Warning message in cor(X_tr[, selected, drop = F], X_tr[, candidates, drop = F]):\n",
      "\"the standard deviation is zero\"\n",
      "Warning message in cor(X_tr[, selected, drop = F], X_tr[, candidates, drop = F]):\n",
      "\"the standard deviation is zero\"\n",
      "Warning message in cor(X_tr[, selected, drop = F], X_tr[, candidates, drop = F]):\n",
      "\"the standard deviation is zero\"\n",
      "Warning message in cor(X_tr[, selected, drop = F], X_tr[, candidates, drop = F]):\n",
      "\"the standard deviation is zero\"\n",
      "Warning message in cor(X_tr[, selected, drop = F], X_tr[, candidates, drop = F]):\n",
      "\"the standard deviation is zero\"\n",
      "Warning message in cor(X_tr[, selected, drop = F], X_tr[, candidates, drop = F]):\n",
      "\"the standard deviation is zero\"\n",
      "Warning message in cor(X_tr, Y_tr):\n",
      "\"the standard deviation is zero\"\n",
      "Warning message in cor(X_tr[, selected, drop = F], X_tr[, candidates, drop = F]):\n",
      "\"the standard deviation is zero\"\n",
      "Warning message in cor(X_tr[, selected, drop = F], X_tr[, candidates, drop = F]):\n",
      "\"the standard deviation is zero\"\n",
      "Warning message in cor(X_tr[, selected, drop = F], X_tr[, candidates, drop = F]):\n",
      "\"the standard deviation is zero\"\n",
      "Warning message in cor(X_tr[, selected, drop = F], X_tr[, candidates, drop = F]):\n",
      "\"the standard deviation is zero\"\n",
      "Warning message in cor(X_tr[, selected, drop = F], X_tr[, candidates, drop = F]):\n",
      "\"the standard deviation is zero\"\n",
      "Warning message in cor(X_tr[, selected, drop = F], X_tr[, candidates, drop = F]):\n",
      "\"the standard deviation is zero\"\n",
      "Warning message in cor(X_tr[, selected, drop = F], X_tr[, candidates, drop = F]):\n",
      "\"the standard deviation is zero\"\n",
      "Warning message in cor(X_tr[, selected, drop = F], X_tr[, candidates, drop = F]):\n",
      "\"the standard deviation is zero\"\n",
      "Warning message in cor(X_tr[, selected, drop = F], X_tr[, candidates, drop = F]):\n",
      "\"the standard deviation is zero\"\n",
      "Warning message in cor(X_tr, Y_tr):\n",
      "\"the standard deviation is zero\"\n",
      "Warning message in cor(X_tr[, selected, drop = F], X_tr[, candidates, drop = F]):\n",
      "\"the standard deviation is zero\"\n",
      "Warning message in cor(X_tr[, selected, drop = F], X_tr[, candidates, drop = F]):\n",
      "\"the standard deviation is zero\"\n",
      "Warning message in cor(X_tr[, selected, drop = F], X_tr[, candidates, drop = F]):\n",
      "\"the standard deviation is zero\"\n",
      "Warning message in cor(X_tr[, selected, drop = F], X_tr[, candidates, drop = F]):\n",
      "\"the standard deviation is zero\"\n",
      "Warning message in cor(X_tr[, selected, drop = F], X_tr[, candidates, drop = F]):\n",
      "\"the standard deviation is zero\"\n",
      "Warning message in cor(X_tr[, selected, drop = F], X_tr[, candidates, drop = F]):\n",
      "\"the standard deviation is zero\"\n",
      "Warning message in cor(X_tr[, selected, drop = F], X_tr[, candidates, drop = F]):\n",
      "\"the standard deviation is zero\"\n",
      "Warning message in cor(X_tr[, selected, drop = F], X_tr[, candidates, drop = F]):\n",
      "\"the standard deviation is zero\"\n",
      "Warning message in cor(X_tr[, selected, drop = F], X_tr[, candidates, drop = F]):\n",
      "\"the standard deviation is zero\"\n",
      "Warning message in cor(X_tr, Y_tr):\n",
      "\"the standard deviation is zero\"\n",
      "Warning message in cor(X_tr[, selected, drop = F], X_tr[, candidates, drop = F]):\n",
      "\"the standard deviation is zero\"\n",
      "Warning message in cor(X_tr[, selected, drop = F], X_tr[, candidates, drop = F]):\n",
      "\"the standard deviation is zero\"\n",
      "Warning message in cor(X_tr[, selected, drop = F], X_tr[, candidates, drop = F]):\n",
      "\"the standard deviation is zero\"\n",
      "Warning message in cor(X_tr[, selected, drop = F], X_tr[, candidates, drop = F]):\n",
      "\"the standard deviation is zero\"\n",
      "Warning message in cor(X_tr[, selected, drop = F], X_tr[, candidates, drop = F]):\n",
      "\"the standard deviation is zero\"\n",
      "Warning message in cor(X_tr[, selected, drop = F], X_tr[, candidates, drop = F]):\n",
      "\"the standard deviation is zero\"\n",
      "Warning message in cor(X_tr[, selected, drop = F], X_tr[, candidates, drop = F]):\n",
      "\"the standard deviation is zero\"\n",
      "Warning message in cor(X_tr[, selected, drop = F], X_tr[, candidates, drop = F]):\n",
      "\"the standard deviation is zero\"\n",
      "Warning message in cor(X_tr[, selected, drop = F], X_tr[, candidates, drop = F]):\n",
      "\"the standard deviation is zero\"\n",
      "Warning message in cor(X_tr, Y_tr):\n",
      "\"the standard deviation is zero\"\n",
      "Warning message in cor(X_tr[, selected, drop = F], X_tr[, candidates, drop = F]):\n",
      "\"the standard deviation is zero\"\n",
      "Warning message in cor(X_tr[, selected, drop = F], X_tr[, candidates, drop = F]):\n",
      "\"the standard deviation is zero\"\n",
      "Warning message in cor(X_tr[, selected, drop = F], X_tr[, candidates, drop = F]):\n",
      "\"the standard deviation is zero\"\n",
      "Warning message in cor(X_tr[, selected, drop = F], X_tr[, candidates, drop = F]):\n",
      "\"the standard deviation is zero\"\n",
      "Warning message in cor(X_tr[, selected, drop = F], X_tr[, candidates, drop = F]):\n",
      "\"the standard deviation is zero\"\n",
      "Warning message in cor(X_tr[, selected, drop = F], X_tr[, candidates, drop = F]):\n",
      "\"the standard deviation is zero\"\n",
      "Warning message in cor(X_tr[, selected, drop = F], X_tr[, candidates, drop = F]):\n",
      "\"the standard deviation is zero\"\n",
      "Warning message in cor(X_tr[, selected, drop = F], X_tr[, candidates, drop = F]):\n",
      "\"the standard deviation is zero\"\n",
      "Warning message in cor(X_tr[, selected, drop = F], X_tr[, candidates, drop = F]):\n",
      "\"the standard deviation is zero\"\n",
      "Warning message in cor(X_tr, Y_tr):\n",
      "\"the standard deviation is zero\"\n",
      "Warning message in cor(X_tr[, selected, drop = F], X_tr[, candidates, drop = F]):\n",
      "\"the standard deviation is zero\"\n",
      "Warning message in cor(X_tr[, selected, drop = F], X_tr[, candidates, drop = F]):\n",
      "\"the standard deviation is zero\"\n",
      "Warning message in cor(X_tr[, selected, drop = F], X_tr[, candidates, drop = F]):\n",
      "\"the standard deviation is zero\"\n",
      "Warning message in cor(X_tr[, selected, drop = F], X_tr[, candidates, drop = F]):\n",
      "\"the standard deviation is zero\"\n",
      "Warning message in cor(X_tr[, selected, drop = F], X_tr[, candidates, drop = F]):\n",
      "\"the standard deviation is zero\"\n",
      "Warning message in cor(X_tr[, selected, drop = F], X_tr[, candidates, drop = F]):\n",
      "\"the standard deviation is zero\"\n",
      "Warning message in cor(X_tr[, selected, drop = F], X_tr[, candidates, drop = F]):\n",
      "\"the standard deviation is zero\"\n",
      "Warning message in cor(X_tr[, selected, drop = F], X_tr[, candidates, drop = F]):\n",
      "\"the standard deviation is zero\"\n",
      "Warning message in cor(X_tr[, selected, drop = F], X_tr[, candidates, drop = F]):\n",
      "\"the standard deviation is zero\"\n",
      "Warning message in cor(X_tr, Y_tr):\n",
      "\"the standard deviation is zero\"\n",
      "Warning message in cor(X_tr[, selected, drop = F], X_tr[, candidates, drop = F]):\n",
      "\"the standard deviation is zero\"\n",
      "Warning message in cor(X_tr[, selected, drop = F], X_tr[, candidates, drop = F]):\n",
      "\"the standard deviation is zero\"\n",
      "Warning message in cor(X_tr[, selected, drop = F], X_tr[, candidates, drop = F]):\n",
      "\"the standard deviation is zero\"\n",
      "Warning message in cor(X_tr[, selected, drop = F], X_tr[, candidates, drop = F]):\n",
      "\"the standard deviation is zero\"\n",
      "Warning message in cor(X_tr[, selected, drop = F], X_tr[, candidates, drop = F]):\n",
      "\"the standard deviation is zero\"\n",
      "Warning message in cor(X_tr[, selected, drop = F], X_tr[, candidates, drop = F]):\n",
      "\"the standard deviation is zero\"\n",
      "Warning message in cor(X_tr[, selected, drop = F], X_tr[, candidates, drop = F]):\n",
      "\"the standard deviation is zero\"\n",
      "Warning message in cor(X_tr[, selected, drop = F], X_tr[, candidates, drop = F]):\n",
      "\"the standard deviation is zero\"\n",
      "Warning message in cor(X_tr[, selected, drop = F], X_tr[, candidates, drop = F]):\n",
      "\"the standard deviation is zero\"\n",
      "Warning message in cor(X_tr, Y_tr):\n",
      "\"the standard deviation is zero\"\n",
      "Warning message in cor(X_tr[, selected, drop = F], X_tr[, candidates, drop = F]):\n",
      "\"the standard deviation is zero\"\n",
      "Warning message in cor(X_tr[, selected, drop = F], X_tr[, candidates, drop = F]):\n",
      "\"the standard deviation is zero\"\n",
      "Warning message in cor(X_tr[, selected, drop = F], X_tr[, candidates, drop = F]):\n",
      "\"the standard deviation is zero\"\n",
      "Warning message in cor(X_tr[, selected, drop = F], X_tr[, candidates, drop = F]):\n",
      "\"the standard deviation is zero\"\n",
      "Warning message in cor(X_tr[, selected, drop = F], X_tr[, candidates, drop = F]):\n",
      "\"the standard deviation is zero\"\n",
      "Warning message in cor(X_tr[, selected, drop = F], X_tr[, candidates, drop = F]):\n",
      "\"the standard deviation is zero\"\n",
      "Warning message in cor(X_tr[, selected, drop = F], X_tr[, candidates, drop = F]):\n",
      "\"the standard deviation is zero\"\n",
      "Warning message in cor(X_tr[, selected, drop = F], X_tr[, candidates, drop = F]):\n",
      "\"the standard deviation is zero\"\n",
      "Warning message in cor(X_tr[, selected, drop = F], X_tr[, candidates, drop = F]):\n",
      "\"the standard deviation is zero\"\n",
      "Warning message in cor(X_tr, Y_tr):\n",
      "\"the standard deviation is zero\"\n",
      "Warning message in cor(X_tr[, selected, drop = F], X_tr[, candidates, drop = F]):\n",
      "\"the standard deviation is zero\"\n",
      "Warning message in cor(X_tr[, selected, drop = F], X_tr[, candidates, drop = F]):\n",
      "\"the standard deviation is zero\"\n",
      "Warning message in cor(X_tr[, selected, drop = F], X_tr[, candidates, drop = F]):\n",
      "\"the standard deviation is zero\"\n",
      "Warning message in cor(X_tr[, selected, drop = F], X_tr[, candidates, drop = F]):\n",
      "\"the standard deviation is zero\"\n",
      "Warning message in cor(X_tr[, selected, drop = F], X_tr[, candidates, drop = F]):\n",
      "\"the standard deviation is zero\"\n",
      "Warning message in cor(X_tr[, selected, drop = F], X_tr[, candidates, drop = F]):\n",
      "\"the standard deviation is zero\"\n",
      "Warning message in cor(X_tr[, selected, drop = F], X_tr[, candidates, drop = F]):\n",
      "\"the standard deviation is zero\"\n",
      "Warning message in cor(X_tr[, selected, drop = F], X_tr[, candidates, drop = F]):\n",
      "\"the standard deviation is zero\"\n",
      "Warning message in cor(X_tr[, selected, drop = F], X_tr[, candidates, drop = F]):\n",
      "\"the standard deviation is zero\"\n"
     ]
    },
    {
     "name": "stdout",
     "output_type": "stream",
     "text": [
      " [1] \"#Features:  1  ; CV error= 1.0429  ; std dev= 0.1948\" \n",
      " [2] \"#Features:  2  ; CV error= 1.0392  ; std dev= 0.2102\" \n",
      " [3] \"#Features:  3  ; CV error= 1.0216  ; std dev= 0.2077\" \n",
      " [4] \"#Features:  4  ; CV error= 1.0183  ; std dev= 0.2057\" \n",
      " [5] \"#Features:  5  ; CV error= 0.9436  ; std dev= 0.1987\" \n",
      " [6] \"#Features:  6  ; CV error= 0.9177  ; std dev= 0.2176\" \n",
      " [7] \"#Features:  7  ; CV error= 0.8822  ; std dev= 0.1769\" \n",
      " [8] \"#Features:  8  ; CV error= 0.8725  ; std dev= 0.1572\" \n",
      " [9] \"#Features:  9  ; CV error= 0.8679  ; std dev= 0.1512\" \n",
      "[10] \"#Features:  10  ; CV error= 0.8644  ; std dev= 0.1478\"\n"
     ]
    }
   ],
   "source": [
    "# drop = F is used to preserve the structure of the data as data.frame (see https://www.r-bloggers.com/2018/02/r-tip-use-drop-false-with-data-frames/)\n",
    "\n",
    "CV_folds <- 10\n",
    "n_variables <- 10\n",
    "\n",
    "size_CV <-floor(N/CV_folds)\n",
    "\n",
    "CV_err<-matrix(0,nrow=n_variables,ncol=CV_folds)\n",
    "\n",
    "for (i in 1:CV_folds) {\n",
    "    \n",
    "    idx_ts<-(((i-1)*size_CV+1):(i*size_CV))  ### idx_ts represents the indices of the test set the i-th fold\n",
    "    X_ts<-X[idx_ts,]  \n",
    "    Y_ts<-Y[idx_ts]  \n",
    "     \n",
    "    idx_tr<-setdiff(1:N,idx_ts) ### idx_tr represents  indices of the training sefor the i-th fold\n",
    "    X_tr<-X[idx_tr,]\n",
    "    Y_tr<-Y[idx_tr]                          \n",
    "    \n",
    "    # Computing the correlation between input variables and output variable on the training set\n",
    "    correlation<-abs(cor(X_tr,Y_tr))\n",
    "    \n",
    "    # Initialization : No variables are selected and all the variables are candidates\n",
    "    selected<-c()\n",
    "    candidates<-1:n\n",
    "    \n",
    "    #mRMR ranks the variables by taking account not only the correlation with the output, but also by avoiding redudant variables\n",
    "    for (j in 1:n_variables) {\n",
    "        redundancy_score<-numeric(length(candidates))\n",
    "        \n",
    "        if (length(selected)>0) {\n",
    "            # Compute the correlation between the selected variables and the candidates on the training set\n",
    "            cor_selected_candidates<-cor(X_tr[,selected,drop=F],X_tr[,candidates,drop=F])\n",
    "            # Compute the mean correlation for each candidate variable, across the selected variables\n",
    "            redundancy_score<-apply(cor_selected_candidates,2,mean)\n",
    "        }\n",
    "        \n",
    "        # mRMR: minimum Redundancy Maximum Relevancy\n",
    "        mRMR_score<-correlation[candidates]-redundancy_score\n",
    "        \n",
    "        # Select the candidate variable that maximises the mRMR score\n",
    "        selected_current<-candidates[which.max(mRMR_score)]\n",
    "        selected<-c(selected,selected_current)\n",
    "        \n",
    "        # Remove the selected variables from the candidates\n",
    "        candidates<-setdiff(candidates,selected_current)\n",
    "    }\n",
    "    \n",
    "    ranking <- selected\n",
    "     \n",
    "    for (nb_features in 1:n_variables) {\n",
    "        # Create a dataset including only the first nb_features selected variables\n",
    "        DS<-cbind(X_tr[,ranking[1:nb_features],drop=F],imdb_score=Y_tr)\n",
    "        \n",
    "        # Model fit (using lm function)\n",
    "        model<- svm(imdb_score~.,DS)\n",
    "     \n",
    "        # Model prediction \n",
    "        Y_hat_ts<- predict(model,X_ts)\n",
    "        \n",
    "        # Cross-validation error = MSE\n",
    "        CV_err[nb_features,i]<-mean((Y_hat_ts-Y_ts)^2)\n",
    "    }\n",
    "}  \n",
    "\n",
    "print(paste(\"#Features: \",c(1:n_variables),\" ; CV error=\",round(apply(CV_err,1,mean),digits=4), \" ; std dev=\",round(apply(CV_err,1,sd),digits=4)))\n",
    "\n",
    "CV_err_svm_single_model_fs <- CV_err"
   ]
  },
  {
   "cell_type": "code",
   "execution_count": 53,
   "metadata": {
    "vscode": {
     "languageId": "r"
    }
   },
   "outputs": [
    {
     "name": "stderr",
     "output_type": "stream",
     "text": [
      "Warning message:\n",
      "\"package 'nnet' was built under R version 4.0.5\"\n"
     ]
    },
    {
     "name": "stdout",
     "output_type": "stream",
     "text": [
      "[1] \"CV error= 1.2316  ; std dev= 0.21\"\n"
     ]
    }
   ],
   "source": [
    "library(nnet)\n",
    "\n",
    "CV_folds <- 10\n",
    "\n",
    "size_CV <-floor(N/CV_folds)\n",
    "\n",
    "CV_err<-numeric(CV_folds)\n",
    "\n",
    "for (i in 1:CV_folds) {\n",
    "     idx_ts<-(((i-1)*size_CV+1):(i*size_CV))  ### idx_ts represents the indices of the test set the i-th fold\n",
    "     X_ts<-X[idx_ts,]  \n",
    "     Y_ts<-Y[idx_ts]  \n",
    "     \n",
    "     idx_tr<-setdiff(1:N,idx_ts) ### idx_tr represents  indices of the training sefor the i-th fold\n",
    "     X_tr<-X[idx_tr,]\n",
    "     Y_tr<-Y[idx_tr]                          \n",
    "     \n",
    "     DS<-cbind(X_tr,imdb_score=Y_tr/10) # The output variable is rescaled to be in 0-1 range\n",
    "    \n",
    "     # Model fit (using nnet function)\n",
    "     model <- nnet(imdb_score ~ .,DS,skip=FALSE,\n",
    "                       size=10, maxit=5000,trace=F,rang=0.2,MaxNWts=10000)\n",
    "     \n",
    "     # Model prediction (multiplied by 10 to rescale (0,1) -> (0,10))\n",
    "     Y_hat_ts<- predict(model,X_ts)*10\n",
    "     \n",
    "     # Cross validation error = Mean Squared Error\n",
    "     CV_err[i]<-mean((Y_hat_ts-Y_ts)^2)\n",
    "}\n",
    "    \n",
    "\n",
    "print(paste(\"CV error=\",round(mean(CV_err),digits=4), \" ; std dev=\",round(sd(CV_err),digits=4)))\n",
    "\n",
    "CV_err_nnet_single_model <- CV_err"
   ]
  },
  {
   "cell_type": "code",
   "execution_count": 54,
   "metadata": {
    "vscode": {
     "languageId": "r"
    }
   },
   "outputs": [
    {
     "name": "stderr",
     "output_type": "stream",
     "text": [
      "Warning message in cor(X_tr, Y_tr):\n",
      "\"the standard deviation is zero\"\n",
      "Warning message in cor(X_tr[, selected, drop = F], X_tr[, candidates, drop = F]):\n",
      "\"the standard deviation is zero\"\n",
      "Warning message in cor(X_tr[, selected, drop = F], X_tr[, candidates, drop = F]):\n",
      "\"the standard deviation is zero\"\n",
      "Warning message in cor(X_tr[, selected, drop = F], X_tr[, candidates, drop = F]):\n",
      "\"the standard deviation is zero\"\n",
      "Warning message in cor(X_tr[, selected, drop = F], X_tr[, candidates, drop = F]):\n",
      "\"the standard deviation is zero\"\n",
      "Warning message in cor(X_tr[, selected, drop = F], X_tr[, candidates, drop = F]):\n",
      "\"the standard deviation is zero\"\n",
      "Warning message in cor(X_tr[, selected, drop = F], X_tr[, candidates, drop = F]):\n",
      "\"the standard deviation is zero\"\n",
      "Warning message in cor(X_tr[, selected, drop = F], X_tr[, candidates, drop = F]):\n",
      "\"the standard deviation is zero\"\n",
      "Warning message in cor(X_tr[, selected, drop = F], X_tr[, candidates, drop = F]):\n",
      "\"the standard deviation is zero\"\n",
      "Warning message in cor(X_tr[, selected, drop = F], X_tr[, candidates, drop = F]):\n",
      "\"the standard deviation is zero\"\n",
      "Warning message in cor(X_tr, Y_tr):\n",
      "\"the standard deviation is zero\"\n",
      "Warning message in cor(X_tr[, selected, drop = F], X_tr[, candidates, drop = F]):\n",
      "\"the standard deviation is zero\"\n",
      "Warning message in cor(X_tr[, selected, drop = F], X_tr[, candidates, drop = F]):\n",
      "\"the standard deviation is zero\"\n",
      "Warning message in cor(X_tr[, selected, drop = F], X_tr[, candidates, drop = F]):\n",
      "\"the standard deviation is zero\"\n",
      "Warning message in cor(X_tr[, selected, drop = F], X_tr[, candidates, drop = F]):\n",
      "\"the standard deviation is zero\"\n",
      "Warning message in cor(X_tr[, selected, drop = F], X_tr[, candidates, drop = F]):\n",
      "\"the standard deviation is zero\"\n",
      "Warning message in cor(X_tr[, selected, drop = F], X_tr[, candidates, drop = F]):\n",
      "\"the standard deviation is zero\"\n",
      "Warning message in cor(X_tr[, selected, drop = F], X_tr[, candidates, drop = F]):\n",
      "\"the standard deviation is zero\"\n",
      "Warning message in cor(X_tr[, selected, drop = F], X_tr[, candidates, drop = F]):\n",
      "\"the standard deviation is zero\"\n",
      "Warning message in cor(X_tr[, selected, drop = F], X_tr[, candidates, drop = F]):\n",
      "\"the standard deviation is zero\"\n",
      "Warning message in cor(X_tr, Y_tr):\n",
      "\"the standard deviation is zero\"\n",
      "Warning message in cor(X_tr[, selected, drop = F], X_tr[, candidates, drop = F]):\n",
      "\"the standard deviation is zero\"\n",
      "Warning message in cor(X_tr[, selected, drop = F], X_tr[, candidates, drop = F]):\n",
      "\"the standard deviation is zero\"\n",
      "Warning message in cor(X_tr[, selected, drop = F], X_tr[, candidates, drop = F]):\n",
      "\"the standard deviation is zero\"\n",
      "Warning message in cor(X_tr[, selected, drop = F], X_tr[, candidates, drop = F]):\n",
      "\"the standard deviation is zero\"\n",
      "Warning message in cor(X_tr[, selected, drop = F], X_tr[, candidates, drop = F]):\n",
      "\"the standard deviation is zero\"\n",
      "Warning message in cor(X_tr[, selected, drop = F], X_tr[, candidates, drop = F]):\n",
      "\"the standard deviation is zero\"\n",
      "Warning message in cor(X_tr[, selected, drop = F], X_tr[, candidates, drop = F]):\n",
      "\"the standard deviation is zero\"\n",
      "Warning message in cor(X_tr[, selected, drop = F], X_tr[, candidates, drop = F]):\n",
      "\"the standard deviation is zero\"\n",
      "Warning message in cor(X_tr[, selected, drop = F], X_tr[, candidates, drop = F]):\n",
      "\"the standard deviation is zero\"\n",
      "Warning message in cor(X_tr, Y_tr):\n",
      "\"the standard deviation is zero\"\n",
      "Warning message in cor(X_tr[, selected, drop = F], X_tr[, candidates, drop = F]):\n",
      "\"the standard deviation is zero\"\n",
      "Warning message in cor(X_tr[, selected, drop = F], X_tr[, candidates, drop = F]):\n",
      "\"the standard deviation is zero\"\n",
      "Warning message in cor(X_tr[, selected, drop = F], X_tr[, candidates, drop = F]):\n",
      "\"the standard deviation is zero\"\n",
      "Warning message in cor(X_tr[, selected, drop = F], X_tr[, candidates, drop = F]):\n",
      "\"the standard deviation is zero\"\n",
      "Warning message in cor(X_tr[, selected, drop = F], X_tr[, candidates, drop = F]):\n",
      "\"the standard deviation is zero\"\n",
      "Warning message in cor(X_tr[, selected, drop = F], X_tr[, candidates, drop = F]):\n",
      "\"the standard deviation is zero\"\n",
      "Warning message in cor(X_tr[, selected, drop = F], X_tr[, candidates, drop = F]):\n",
      "\"the standard deviation is zero\"\n",
      "Warning message in cor(X_tr[, selected, drop = F], X_tr[, candidates, drop = F]):\n",
      "\"the standard deviation is zero\"\n",
      "Warning message in cor(X_tr[, selected, drop = F], X_tr[, candidates, drop = F]):\n",
      "\"the standard deviation is zero\"\n",
      "Warning message in cor(X_tr, Y_tr):\n",
      "\"the standard deviation is zero\"\n",
      "Warning message in cor(X_tr[, selected, drop = F], X_tr[, candidates, drop = F]):\n",
      "\"the standard deviation is zero\"\n",
      "Warning message in cor(X_tr[, selected, drop = F], X_tr[, candidates, drop = F]):\n",
      "\"the standard deviation is zero\"\n",
      "Warning message in cor(X_tr[, selected, drop = F], X_tr[, candidates, drop = F]):\n",
      "\"the standard deviation is zero\"\n",
      "Warning message in cor(X_tr[, selected, drop = F], X_tr[, candidates, drop = F]):\n",
      "\"the standard deviation is zero\"\n",
      "Warning message in cor(X_tr[, selected, drop = F], X_tr[, candidates, drop = F]):\n",
      "\"the standard deviation is zero\"\n",
      "Warning message in cor(X_tr[, selected, drop = F], X_tr[, candidates, drop = F]):\n",
      "\"the standard deviation is zero\"\n",
      "Warning message in cor(X_tr[, selected, drop = F], X_tr[, candidates, drop = F]):\n",
      "\"the standard deviation is zero\"\n",
      "Warning message in cor(X_tr[, selected, drop = F], X_tr[, candidates, drop = F]):\n",
      "\"the standard deviation is zero\"\n",
      "Warning message in cor(X_tr[, selected, drop = F], X_tr[, candidates, drop = F]):\n",
      "\"the standard deviation is zero\"\n",
      "Warning message in cor(X_tr, Y_tr):\n",
      "\"the standard deviation is zero\"\n",
      "Warning message in cor(X_tr[, selected, drop = F], X_tr[, candidates, drop = F]):\n",
      "\"the standard deviation is zero\"\n",
      "Warning message in cor(X_tr[, selected, drop = F], X_tr[, candidates, drop = F]):\n",
      "\"the standard deviation is zero\"\n",
      "Warning message in cor(X_tr[, selected, drop = F], X_tr[, candidates, drop = F]):\n",
      "\"the standard deviation is zero\"\n",
      "Warning message in cor(X_tr[, selected, drop = F], X_tr[, candidates, drop = F]):\n",
      "\"the standard deviation is zero\"\n",
      "Warning message in cor(X_tr[, selected, drop = F], X_tr[, candidates, drop = F]):\n",
      "\"the standard deviation is zero\"\n",
      "Warning message in cor(X_tr[, selected, drop = F], X_tr[, candidates, drop = F]):\n",
      "\"the standard deviation is zero\"\n",
      "Warning message in cor(X_tr[, selected, drop = F], X_tr[, candidates, drop = F]):\n",
      "\"the standard deviation is zero\"\n",
      "Warning message in cor(X_tr[, selected, drop = F], X_tr[, candidates, drop = F]):\n",
      "\"the standard deviation is zero\"\n",
      "Warning message in cor(X_tr[, selected, drop = F], X_tr[, candidates, drop = F]):\n",
      "\"the standard deviation is zero\"\n",
      "Warning message in cor(X_tr, Y_tr):\n",
      "\"the standard deviation is zero\"\n",
      "Warning message in cor(X_tr[, selected, drop = F], X_tr[, candidates, drop = F]):\n",
      "\"the standard deviation is zero\"\n",
      "Warning message in cor(X_tr[, selected, drop = F], X_tr[, candidates, drop = F]):\n",
      "\"the standard deviation is zero\"\n",
      "Warning message in cor(X_tr[, selected, drop = F], X_tr[, candidates, drop = F]):\n",
      "\"the standard deviation is zero\"\n",
      "Warning message in cor(X_tr[, selected, drop = F], X_tr[, candidates, drop = F]):\n",
      "\"the standard deviation is zero\"\n",
      "Warning message in cor(X_tr[, selected, drop = F], X_tr[, candidates, drop = F]):\n",
      "\"the standard deviation is zero\"\n",
      "Warning message in cor(X_tr[, selected, drop = F], X_tr[, candidates, drop = F]):\n",
      "\"the standard deviation is zero\"\n",
      "Warning message in cor(X_tr[, selected, drop = F], X_tr[, candidates, drop = F]):\n",
      "\"the standard deviation is zero\"\n",
      "Warning message in cor(X_tr[, selected, drop = F], X_tr[, candidates, drop = F]):\n",
      "\"the standard deviation is zero\"\n",
      "Warning message in cor(X_tr[, selected, drop = F], X_tr[, candidates, drop = F]):\n",
      "\"the standard deviation is zero\"\n",
      "Warning message in cor(X_tr, Y_tr):\n",
      "\"the standard deviation is zero\"\n",
      "Warning message in cor(X_tr[, selected, drop = F], X_tr[, candidates, drop = F]):\n",
      "\"the standard deviation is zero\"\n",
      "Warning message in cor(X_tr[, selected, drop = F], X_tr[, candidates, drop = F]):\n",
      "\"the standard deviation is zero\"\n",
      "Warning message in cor(X_tr[, selected, drop = F], X_tr[, candidates, drop = F]):\n",
      "\"the standard deviation is zero\"\n",
      "Warning message in cor(X_tr[, selected, drop = F], X_tr[, candidates, drop = F]):\n",
      "\"the standard deviation is zero\"\n",
      "Warning message in cor(X_tr[, selected, drop = F], X_tr[, candidates, drop = F]):\n",
      "\"the standard deviation is zero\"\n",
      "Warning message in cor(X_tr[, selected, drop = F], X_tr[, candidates, drop = F]):\n",
      "\"the standard deviation is zero\"\n",
      "Warning message in cor(X_tr[, selected, drop = F], X_tr[, candidates, drop = F]):\n",
      "\"the standard deviation is zero\"\n",
      "Warning message in cor(X_tr[, selected, drop = F], X_tr[, candidates, drop = F]):\n",
      "\"the standard deviation is zero\"\n",
      "Warning message in cor(X_tr[, selected, drop = F], X_tr[, candidates, drop = F]):\n",
      "\"the standard deviation is zero\"\n",
      "Warning message in cor(X_tr, Y_tr):\n",
      "\"the standard deviation is zero\"\n",
      "Warning message in cor(X_tr[, selected, drop = F], X_tr[, candidates, drop = F]):\n",
      "\"the standard deviation is zero\"\n",
      "Warning message in cor(X_tr[, selected, drop = F], X_tr[, candidates, drop = F]):\n",
      "\"the standard deviation is zero\"\n",
      "Warning message in cor(X_tr[, selected, drop = F], X_tr[, candidates, drop = F]):\n",
      "\"the standard deviation is zero\"\n",
      "Warning message in cor(X_tr[, selected, drop = F], X_tr[, candidates, drop = F]):\n",
      "\"the standard deviation is zero\"\n",
      "Warning message in cor(X_tr[, selected, drop = F], X_tr[, candidates, drop = F]):\n",
      "\"the standard deviation is zero\"\n",
      "Warning message in cor(X_tr[, selected, drop = F], X_tr[, candidates, drop = F]):\n",
      "\"the standard deviation is zero\"\n",
      "Warning message in cor(X_tr[, selected, drop = F], X_tr[, candidates, drop = F]):\n",
      "\"the standard deviation is zero\"\n",
      "Warning message in cor(X_tr[, selected, drop = F], X_tr[, candidates, drop = F]):\n",
      "\"the standard deviation is zero\"\n",
      "Warning message in cor(X_tr[, selected, drop = F], X_tr[, candidates, drop = F]):\n",
      "\"the standard deviation is zero\"\n"
     ]
    },
    {
     "name": "stdout",
     "output_type": "stream",
     "text": [
      " [1] \"#Features:  1  ; CV error= 1.0992  ; std dev= 0.2409\" \n",
      " [2] \"#Features:  2  ; CV error= 1.1306  ; std dev= 0.1908\" \n",
      " [3] \"#Features:  3  ; CV error= 1.1262  ; std dev= 0.1337\" \n",
      " [4] \"#Features:  4  ; CV error= 1.1357  ; std dev= 0.2034\" \n",
      " [5] \"#Features:  5  ; CV error= 1.0928  ; std dev= 0.2276\" \n",
      " [6] \"#Features:  6  ; CV error= 1.1739  ; std dev= 0.2394\" \n",
      " [7] \"#Features:  7  ; CV error= 1.129  ; std dev= 0.1959\"  \n",
      " [8] \"#Features:  8  ; CV error= 1.0872  ; std dev= 0.1539\" \n",
      " [9] \"#Features:  9  ; CV error= 1.151  ; std dev= 0.1369\"  \n",
      "[10] \"#Features:  10  ; CV error= 1.1299  ; std dev= 0.1466\"\n"
     ]
    }
   ],
   "source": [
    "# drop = F is used to preserve the structure of the data as data.frame (see https://www.r-bloggers.com/2018/02/r-tip-use-drop-false-with-data-frames/)\n",
    "\n",
    "CV_folds <- 10\n",
    "n_variables <- 10\n",
    "\n",
    "size_CV <-floor(N/CV_folds)\n",
    "\n",
    "CV_err<-matrix(0,nrow=n_variables,ncol=CV_folds)\n",
    "\n",
    "for (i in 1:CV_folds) {\n",
    "    \n",
    "    idx_ts<-(((i-1)*size_CV+1):(i*size_CV))  ### idx_ts represents the indices of the test set the i-th fold\n",
    "    X_ts<-X[idx_ts,]  \n",
    "    Y_ts<-Y[idx_ts]  \n",
    "     \n",
    "    idx_tr<-setdiff(1:N,idx_ts) ### idx_tr represents  indices of the training sefor the i-th fold\n",
    "    X_tr<-X[idx_tr,]\n",
    "    Y_tr<-Y[idx_tr]                          \n",
    "    \n",
    "    # Computing the correlation between input variables and output variable on the training set\n",
    "    correlation<-abs(cor(X_tr,Y_tr))\n",
    "    \n",
    "    # Initialization : No variables are selected and all the variables are candidates\n",
    "    selected<-c()\n",
    "    candidates<-1:n\n",
    "    \n",
    "    #mRMR ranks the variables by taking account not only the correlation with the output, but also by avoiding redudant variables\n",
    "    for (j in 1:n_variables) {\n",
    "        redundancy_score<-numeric(length(candidates))\n",
    "        \n",
    "        if (length(selected)>0) {\n",
    "            # Compute the correlation between the selected variables and the candidates on the training set\n",
    "            cor_selected_candidates<-cor(X_tr[,selected,drop=F],X_tr[,candidates,drop=F])\n",
    "            # Compute the mean correlation for each candidate variable, across the selected variables\n",
    "            redundancy_score<-apply(cor_selected_candidates,2,mean)\n",
    "        }\n",
    "        \n",
    "        # mRMR: minimum Redundancy Maximum Relevancy\n",
    "        mRMR_score<-correlation[candidates]-redundancy_score\n",
    "        \n",
    "        # Select the candidate variable that maximises the mRMR score\n",
    "        selected_current<-candidates[which.max(mRMR_score)]\n",
    "        selected<-c(selected,selected_current)\n",
    "        \n",
    "        # Remove the selected variables from the candidates\n",
    "        candidates<-setdiff(candidates,selected_current)\n",
    "    }\n",
    "    \n",
    "    ranking <- selected\n",
    "     \n",
    "    for (nb_features in 1:n_variables) {\n",
    "        # Create a dataset including only the first nb_features selected variables\n",
    "        # The output variable is rescaled to be in 0-1 range\n",
    "        DS<-cbind(X_tr[,ranking[1:nb_features],drop=F],imdb_score=Y_tr/10)\n",
    "        \n",
    "        # Model fit (using nnet function)\n",
    "        model <- nnet(imdb_score ~ .,DS,skip=FALSE,\n",
    "                       size=10, maxit=500,trace=F,rang=0.2,MaxNWts=10000)\n",
    "     \n",
    "        # Model prediction (multiplied by 10 to rescale (0,1) -> (0,10))\n",
    "        Y_hat_ts<- predict(model,X_ts)*10\n",
    "        \n",
    "        # Cross-validation error = MSE\n",
    "        CV_err[nb_features,i]<-mean((Y_hat_ts-Y_ts)^2)\n",
    "    }\n",
    "}  \n",
    "\n",
    "print(paste(\"#Features: \",c(1:n_variables),\" ; CV error=\",round(apply(CV_err,1,mean),digits=4), \" ; std dev=\",round(apply(CV_err,1,sd),digits=4)))\n",
    "\n",
    "CV_err_nnet_single_model_fs <- CV_err"
   ]
  },
  {
   "cell_type": "code",
   "execution_count": 55,
   "metadata": {
    "vscode": {
     "languageId": "r"
    }
   },
   "outputs": [
    {
     "name": "stdout",
     "output_type": "stream",
     "text": [
      "[1] \"CV error= 1.14682710043345e+23  ; std dev= 2.56427269671226e+23\"\n"
     ]
    }
   ],
   "source": [
    "library(lazy)\n",
    "\n",
    "CV_folds <- 10\n",
    "\n",
    "size_CV <-floor(N/CV_folds)\n",
    "\n",
    "CV_err<-numeric(CV_folds)\n",
    "\n",
    "for (i in 1:CV_folds) {\n",
    "     idx_ts<-(((i-1)*size_CV+1):(i*size_CV))  ### idx_ts represents the indices of the test set the i-th fold\n",
    "     X_ts<-X[idx_ts,]  \n",
    "     Y_ts<-Y[idx_ts]  \n",
    "     \n",
    "     idx_tr<-setdiff(1:N,idx_ts) ### idx_tr represents  indices of the training sefor the i-th fold\n",
    "     X_tr<-X[idx_tr,]\n",
    "     Y_tr<-Y[idx_tr]                          \n",
    "     \n",
    "     DS<-cbind(X_tr,imdb_score=Y_tr)\n",
    "    \n",
    "     # Model fit (using lm function)\n",
    "     model<- lazy(imdb_score~.,DS)\n",
    "     \n",
    "     # Model prediction \n",
    "     Y_hat_ts<- predict(model,X_ts)$h\n",
    "     \n",
    "     # Cross validation error = Mean Squared Error\n",
    "     CV_err[i]<-mean((Y_hat_ts-Y_ts)^2)\n",
    "}\n",
    "    \n",
    "\n",
    "print(paste(\"CV error=\",round(mean(CV_err),digits=4), \" ; std dev=\",round(sd(CV_err),digits=4)))\n",
    "\n",
    "CV_err_lazy_single_model <- CV_err"
   ]
  },
  {
   "cell_type": "code",
   "execution_count": 56,
   "metadata": {
    "vscode": {
     "languageId": "r"
    }
   },
   "outputs": [
    {
     "name": "stderr",
     "output_type": "stream",
     "text": [
      "Warning message in cor(X_tr, Y_tr):\n",
      "\"the standard deviation is zero\"\n",
      "Warning message in cor(X_tr[, selected, drop = F], X_tr[, candidates, drop = F]):\n",
      "\"the standard deviation is zero\"\n",
      "Warning message in cor(X_tr[, selected, drop = F], X_tr[, candidates, drop = F]):\n",
      "\"the standard deviation is zero\"\n",
      "Warning message in cor(X_tr[, selected, drop = F], X_tr[, candidates, drop = F]):\n",
      "\"the standard deviation is zero\"\n",
      "Warning message in cor(X_tr[, selected, drop = F], X_tr[, candidates, drop = F]):\n",
      "\"the standard deviation is zero\"\n",
      "Warning message in cor(X_tr[, selected, drop = F], X_tr[, candidates, drop = F]):\n",
      "\"the standard deviation is zero\"\n",
      "Warning message in cor(X_tr[, selected, drop = F], X_tr[, candidates, drop = F]):\n",
      "\"the standard deviation is zero\"\n",
      "Warning message in cor(X_tr[, selected, drop = F], X_tr[, candidates, drop = F]):\n",
      "\"the standard deviation is zero\"\n",
      "Warning message in cor(X_tr[, selected, drop = F], X_tr[, candidates, drop = F]):\n",
      "\"the standard deviation is zero\"\n",
      "Warning message in cor(X_tr[, selected, drop = F], X_tr[, candidates, drop = F]):\n",
      "\"the standard deviation is zero\"\n",
      "Warning message in cor(X_tr, Y_tr):\n",
      "\"the standard deviation is zero\"\n",
      "Warning message in cor(X_tr[, selected, drop = F], X_tr[, candidates, drop = F]):\n",
      "\"the standard deviation is zero\"\n",
      "Warning message in cor(X_tr[, selected, drop = F], X_tr[, candidates, drop = F]):\n",
      "\"the standard deviation is zero\"\n",
      "Warning message in cor(X_tr[, selected, drop = F], X_tr[, candidates, drop = F]):\n",
      "\"the standard deviation is zero\"\n",
      "Warning message in cor(X_tr[, selected, drop = F], X_tr[, candidates, drop = F]):\n",
      "\"the standard deviation is zero\"\n",
      "Warning message in cor(X_tr[, selected, drop = F], X_tr[, candidates, drop = F]):\n",
      "\"the standard deviation is zero\"\n",
      "Warning message in cor(X_tr[, selected, drop = F], X_tr[, candidates, drop = F]):\n",
      "\"the standard deviation is zero\"\n",
      "Warning message in cor(X_tr[, selected, drop = F], X_tr[, candidates, drop = F]):\n",
      "\"the standard deviation is zero\"\n",
      "Warning message in cor(X_tr[, selected, drop = F], X_tr[, candidates, drop = F]):\n",
      "\"the standard deviation is zero\"\n",
      "Warning message in cor(X_tr[, selected, drop = F], X_tr[, candidates, drop = F]):\n",
      "\"the standard deviation is zero\"\n",
      "Warning message in cor(X_tr, Y_tr):\n",
      "\"the standard deviation is zero\"\n",
      "Warning message in cor(X_tr[, selected, drop = F], X_tr[, candidates, drop = F]):\n",
      "\"the standard deviation is zero\"\n",
      "Warning message in cor(X_tr[, selected, drop = F], X_tr[, candidates, drop = F]):\n",
      "\"the standard deviation is zero\"\n",
      "Warning message in cor(X_tr[, selected, drop = F], X_tr[, candidates, drop = F]):\n",
      "\"the standard deviation is zero\"\n",
      "Warning message in cor(X_tr[, selected, drop = F], X_tr[, candidates, drop = F]):\n",
      "\"the standard deviation is zero\"\n",
      "Warning message in cor(X_tr[, selected, drop = F], X_tr[, candidates, drop = F]):\n",
      "\"the standard deviation is zero\"\n",
      "Warning message in cor(X_tr[, selected, drop = F], X_tr[, candidates, drop = F]):\n",
      "\"the standard deviation is zero\"\n",
      "Warning message in cor(X_tr[, selected, drop = F], X_tr[, candidates, drop = F]):\n",
      "\"the standard deviation is zero\"\n",
      "Warning message in cor(X_tr[, selected, drop = F], X_tr[, candidates, drop = F]):\n",
      "\"the standard deviation is zero\"\n",
      "Warning message in cor(X_tr[, selected, drop = F], X_tr[, candidates, drop = F]):\n",
      "\"the standard deviation is zero\"\n",
      "Warning message in cor(X_tr, Y_tr):\n",
      "\"the standard deviation is zero\"\n",
      "Warning message in cor(X_tr[, selected, drop = F], X_tr[, candidates, drop = F]):\n",
      "\"the standard deviation is zero\"\n",
      "Warning message in cor(X_tr[, selected, drop = F], X_tr[, candidates, drop = F]):\n",
      "\"the standard deviation is zero\"\n",
      "Warning message in cor(X_tr[, selected, drop = F], X_tr[, candidates, drop = F]):\n",
      "\"the standard deviation is zero\"\n",
      "Warning message in cor(X_tr[, selected, drop = F], X_tr[, candidates, drop = F]):\n",
      "\"the standard deviation is zero\"\n",
      "Warning message in cor(X_tr[, selected, drop = F], X_tr[, candidates, drop = F]):\n",
      "\"the standard deviation is zero\"\n",
      "Warning message in cor(X_tr[, selected, drop = F], X_tr[, candidates, drop = F]):\n",
      "\"the standard deviation is zero\"\n",
      "Warning message in cor(X_tr[, selected, drop = F], X_tr[, candidates, drop = F]):\n",
      "\"the standard deviation is zero\"\n",
      "Warning message in cor(X_tr[, selected, drop = F], X_tr[, candidates, drop = F]):\n",
      "\"the standard deviation is zero\"\n",
      "Warning message in cor(X_tr[, selected, drop = F], X_tr[, candidates, drop = F]):\n",
      "\"the standard deviation is zero\"\n",
      "Warning message in cor(X_tr, Y_tr):\n",
      "\"the standard deviation is zero\"\n",
      "Warning message in cor(X_tr[, selected, drop = F], X_tr[, candidates, drop = F]):\n",
      "\"the standard deviation is zero\"\n",
      "Warning message in cor(X_tr[, selected, drop = F], X_tr[, candidates, drop = F]):\n",
      "\"the standard deviation is zero\"\n",
      "Warning message in cor(X_tr[, selected, drop = F], X_tr[, candidates, drop = F]):\n",
      "\"the standard deviation is zero\"\n",
      "Warning message in cor(X_tr[, selected, drop = F], X_tr[, candidates, drop = F]):\n",
      "\"the standard deviation is zero\"\n",
      "Warning message in cor(X_tr[, selected, drop = F], X_tr[, candidates, drop = F]):\n",
      "\"the standard deviation is zero\"\n",
      "Warning message in cor(X_tr[, selected, drop = F], X_tr[, candidates, drop = F]):\n",
      "\"the standard deviation is zero\"\n",
      "Warning message in cor(X_tr[, selected, drop = F], X_tr[, candidates, drop = F]):\n",
      "\"the standard deviation is zero\"\n",
      "Warning message in cor(X_tr[, selected, drop = F], X_tr[, candidates, drop = F]):\n",
      "\"the standard deviation is zero\"\n",
      "Warning message in cor(X_tr[, selected, drop = F], X_tr[, candidates, drop = F]):\n",
      "\"the standard deviation is zero\"\n",
      "Warning message in cor(X_tr, Y_tr):\n",
      "\"the standard deviation is zero\"\n",
      "Warning message in cor(X_tr[, selected, drop = F], X_tr[, candidates, drop = F]):\n",
      "\"the standard deviation is zero\"\n",
      "Warning message in cor(X_tr[, selected, drop = F], X_tr[, candidates, drop = F]):\n",
      "\"the standard deviation is zero\"\n",
      "Warning message in cor(X_tr[, selected, drop = F], X_tr[, candidates, drop = F]):\n",
      "\"the standard deviation is zero\"\n",
      "Warning message in cor(X_tr[, selected, drop = F], X_tr[, candidates, drop = F]):\n",
      "\"the standard deviation is zero\"\n",
      "Warning message in cor(X_tr[, selected, drop = F], X_tr[, candidates, drop = F]):\n",
      "\"the standard deviation is zero\"\n",
      "Warning message in cor(X_tr[, selected, drop = F], X_tr[, candidates, drop = F]):\n",
      "\"the standard deviation is zero\"\n",
      "Warning message in cor(X_tr[, selected, drop = F], X_tr[, candidates, drop = F]):\n",
      "\"the standard deviation is zero\"\n",
      "Warning message in cor(X_tr[, selected, drop = F], X_tr[, candidates, drop = F]):\n",
      "\"the standard deviation is zero\"\n",
      "Warning message in cor(X_tr[, selected, drop = F], X_tr[, candidates, drop = F]):\n",
      "\"the standard deviation is zero\"\n",
      "Warning message in cor(X_tr, Y_tr):\n",
      "\"the standard deviation is zero\"\n",
      "Warning message in cor(X_tr[, selected, drop = F], X_tr[, candidates, drop = F]):\n",
      "\"the standard deviation is zero\"\n",
      "Warning message in cor(X_tr[, selected, drop = F], X_tr[, candidates, drop = F]):\n",
      "\"the standard deviation is zero\"\n",
      "Warning message in cor(X_tr[, selected, drop = F], X_tr[, candidates, drop = F]):\n",
      "\"the standard deviation is zero\"\n",
      "Warning message in cor(X_tr[, selected, drop = F], X_tr[, candidates, drop = F]):\n",
      "\"the standard deviation is zero\"\n",
      "Warning message in cor(X_tr[, selected, drop = F], X_tr[, candidates, drop = F]):\n",
      "\"the standard deviation is zero\"\n",
      "Warning message in cor(X_tr[, selected, drop = F], X_tr[, candidates, drop = F]):\n",
      "\"the standard deviation is zero\"\n",
      "Warning message in cor(X_tr[, selected, drop = F], X_tr[, candidates, drop = F]):\n",
      "\"the standard deviation is zero\"\n",
      "Warning message in cor(X_tr[, selected, drop = F], X_tr[, candidates, drop = F]):\n",
      "\"the standard deviation is zero\"\n",
      "Warning message in cor(X_tr[, selected, drop = F], X_tr[, candidates, drop = F]):\n",
      "\"the standard deviation is zero\"\n",
      "Warning message in cor(X_tr, Y_tr):\n",
      "\"the standard deviation is zero\"\n",
      "Warning message in cor(X_tr[, selected, drop = F], X_tr[, candidates, drop = F]):\n",
      "\"the standard deviation is zero\"\n",
      "Warning message in cor(X_tr[, selected, drop = F], X_tr[, candidates, drop = F]):\n",
      "\"the standard deviation is zero\"\n",
      "Warning message in cor(X_tr[, selected, drop = F], X_tr[, candidates, drop = F]):\n",
      "\"the standard deviation is zero\"\n",
      "Warning message in cor(X_tr[, selected, drop = F], X_tr[, candidates, drop = F]):\n",
      "\"the standard deviation is zero\"\n",
      "Warning message in cor(X_tr[, selected, drop = F], X_tr[, candidates, drop = F]):\n",
      "\"the standard deviation is zero\"\n",
      "Warning message in cor(X_tr[, selected, drop = F], X_tr[, candidates, drop = F]):\n",
      "\"the standard deviation is zero\"\n",
      "Warning message in cor(X_tr[, selected, drop = F], X_tr[, candidates, drop = F]):\n",
      "\"the standard deviation is zero\"\n",
      "Warning message in cor(X_tr[, selected, drop = F], X_tr[, candidates, drop = F]):\n",
      "\"the standard deviation is zero\"\n",
      "Warning message in cor(X_tr[, selected, drop = F], X_tr[, candidates, drop = F]):\n",
      "\"the standard deviation is zero\"\n",
      "Warning message in cor(X_tr, Y_tr):\n",
      "\"the standard deviation is zero\"\n",
      "Warning message in cor(X_tr[, selected, drop = F], X_tr[, candidates, drop = F]):\n",
      "\"the standard deviation is zero\"\n",
      "Warning message in cor(X_tr[, selected, drop = F], X_tr[, candidates, drop = F]):\n",
      "\"the standard deviation is zero\"\n",
      "Warning message in cor(X_tr[, selected, drop = F], X_tr[, candidates, drop = F]):\n",
      "\"the standard deviation is zero\"\n",
      "Warning message in cor(X_tr[, selected, drop = F], X_tr[, candidates, drop = F]):\n",
      "\"the standard deviation is zero\"\n",
      "Warning message in cor(X_tr[, selected, drop = F], X_tr[, candidates, drop = F]):\n",
      "\"the standard deviation is zero\"\n",
      "Warning message in cor(X_tr[, selected, drop = F], X_tr[, candidates, drop = F]):\n",
      "\"the standard deviation is zero\"\n",
      "Warning message in cor(X_tr[, selected, drop = F], X_tr[, candidates, drop = F]):\n",
      "\"the standard deviation is zero\"\n",
      "Warning message in cor(X_tr[, selected, drop = F], X_tr[, candidates, drop = F]):\n",
      "\"the standard deviation is zero\"\n",
      "Warning message in cor(X_tr[, selected, drop = F], X_tr[, candidates, drop = F]):\n",
      "\"the standard deviation is zero\"\n"
     ]
    },
    {
     "name": "stdout",
     "output_type": "stream",
     "text": [
      " [1] \"#Features:  1  ; CV error= 1.2513  ; std dev= 0.2353\"\n",
      " [2] \"#Features:  2  ; CV error= 1.3941  ; std dev= 0.3082\"\n",
      " [3] \"#Features:  3  ; CV error= 1.4098  ; std dev= 0.3334\"\n",
      " [4] \"#Features:  4  ; CV error= 1.5571  ; std dev= 0.455\" \n",
      " [5] \"#Features:  5  ; CV error= 1.5288  ; std dev= 0.3827\"\n",
      " [6] \"#Features:  6  ; CV error= 1.4941  ; std dev= 0.3574\"\n",
      " [7] \"#Features:  7  ; CV error= 1.6003  ; std dev= 0.4762\"\n",
      " [8] \"#Features:  8  ; CV error= 1.5657  ; std dev= 0.5639\"\n",
      " [9] \"#Features:  9  ; CV error= 1.568  ; std dev= 0.5733\" \n",
      "[10] \"#Features:  10  ; CV error= 1.6602  ; std dev= 0.655\"\n"
     ]
    }
   ],
   "source": [
    "# drop = F is used to preserve the structure of the data as data.frame (see https://www.r-bloggers.com/2018/02/r-tip-use-drop-false-with-data-frames/)\n",
    "\n",
    "CV_folds <- 10\n",
    "n_variables <- 10\n",
    "\n",
    "size_CV <-floor(N/CV_folds)\n",
    "\n",
    "CV_err<-matrix(0,nrow=n_variables,ncol=CV_folds)\n",
    "\n",
    "for (i in 1:CV_folds) {\n",
    "    \n",
    "    idx_ts<-(((i-1)*size_CV+1):(i*size_CV))  ### idx_ts represents the indices of the test set the i-th fold\n",
    "    X_ts<-X[idx_ts,]  \n",
    "    Y_ts<-Y[idx_ts]  \n",
    "     \n",
    "    idx_tr<-setdiff(1:N,idx_ts) ### idx_tr represents  indices of the training sefor the i-th fold\n",
    "    X_tr<-X[idx_tr,]\n",
    "    Y_tr<-Y[idx_tr]                          \n",
    "    \n",
    "    # Computing the correlation between input variables and output variable on the training set\n",
    "    correlation<-abs(cor(X_tr,Y_tr))\n",
    "    \n",
    "    # Initialization : No variables are selected and all the variables are candidates\n",
    "    selected<-c()\n",
    "    candidates<-1:n\n",
    "    \n",
    "    #mRMR ranks the variables by taking account not only the correlation with the output, but also by avoiding redudant variables\n",
    "    for (j in 1:n_variables) {\n",
    "        redundancy_score<-numeric(length(candidates))\n",
    "        \n",
    "        if (length(selected)>0) {\n",
    "            # Compute the correlation between the selected variables and the candidates on the training set\n",
    "            cor_selected_candidates<-cor(X_tr[,selected,drop=F],X_tr[,candidates,drop=F])\n",
    "            # Compute the mean correlation for each candidate variable, across the selected variables\n",
    "            redundancy_score<-apply(cor_selected_candidates,2,mean)\n",
    "        }\n",
    "        \n",
    "        # mRMR: minimum Redundancy Maximum Relevancy\n",
    "        mRMR_score<-correlation[candidates]-redundancy_score\n",
    "        \n",
    "        # Select the candidate variable that maximises the mRMR score\n",
    "        selected_current<-candidates[which.max(mRMR_score)]\n",
    "        selected<-c(selected,selected_current)\n",
    "        \n",
    "        # Remove the selected variables from the candidates\n",
    "        candidates<-setdiff(candidates,selected_current)\n",
    "    }\n",
    "    \n",
    "    ranking <- selected\n",
    "     \n",
    "    for (nb_features in 1:n_variables) {\n",
    "        # Create a dataset including only the first nb_features selected variables\n",
    "        # The output variable is rescaled to be in 0-1 range\n",
    "        DS<-cbind(X_tr[,ranking[1:nb_features],drop=F],imdb_score=Y_tr)\n",
    "        \n",
    "        # Model fit (using lazy function)\n",
    "        model<- lazy(imdb_score~.,DS)\n",
    "     \n",
    "        # Model prediction \n",
    "        Y_hat_ts<- predict(model,X_ts)$h\n",
    "        \n",
    "        # Cross-validation error = MSE\n",
    "        CV_err[nb_features,i]<-mean((Y_hat_ts-Y_ts)^2)\n",
    "    }\n",
    "}  \n",
    "\n",
    "print(paste(\"#Features: \",c(1:n_variables),\" ; CV error=\",round(apply(CV_err,1,mean),digits=4), \" ; std dev=\",round(apply(CV_err,1,sd),digits=4)))\n",
    "\n",
    "CV_err_lazy_single_model_fs <- CV_err"
   ]
  }
 ],
 "metadata": {
  "anaconda-cloud": {},
  "kernelspec": {
   "display_name": "R",
   "language": "R",
   "name": "ir"
  },
  "language_info": {
   "codemirror_mode": "r",
   "file_extension": ".r",
   "mimetype": "text/x-r-source",
   "name": "R",
   "pygments_lexer": "r",
   "version": "4.0.3"
  },
  "latex_envs": {
   "LaTeX_envs_menu_present": true,
   "autoclose": false,
   "autocomplete": true,
   "bibliofile": "biblio.bib",
   "cite_by": "apalike",
   "current_citInitial": 1,
   "eqLabelWithNumbers": true,
   "eqNumInitial": 1,
   "hotkeys": {
    "equation": "Ctrl-E",
    "itemize": "Ctrl-I"
   },
   "labels_anchors": false,
   "latex_user_defs": false,
   "report_style_numbering": false,
   "user_envs_cfg": false
  },
  "toc": {
   "base_numbering": 1,
   "nav_menu": {},
   "number_sections": true,
   "sideBar": true,
   "skip_h1_title": false,
   "title_cell": "Table of Contents",
   "title_sidebar": "Contents",
   "toc_cell": false,
   "toc_position": {},
   "toc_section_display": true,
   "toc_window_display": false
  },
  "varInspector": {
   "cols": {
    "lenName": 16,
    "lenType": 16,
    "lenVar": 40
   },
   "kernels_config": {
    "python": {
     "delete_cmd_postfix": "",
     "delete_cmd_prefix": "del ",
     "library": "var_list.py",
     "varRefreshCmd": "print(var_dic_list())"
    },
    "r": {
     "delete_cmd_postfix": ") ",
     "delete_cmd_prefix": "rm(",
     "library": "var_list.r",
     "varRefreshCmd": "cat(var_dic_list()) "
    }
   },
   "types_to_exclude": [
    "module",
    "function",
    "builtin_function_or_method",
    "instance",
    "_Feature"
   ],
   "window_display": false
  }
 },
 "nbformat": 4,
 "nbformat_minor": 4
}
